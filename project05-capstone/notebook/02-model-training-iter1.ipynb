{
 "cells": [
  {
   "cell_type": "code",
   "execution_count": 1,
   "id": "d1bf231a-3db4-40a4-9e22-62d8fd1e63df",
   "metadata": {},
   "outputs": [],
   "source": [
    "import pandas as pd\n",
    "import matplotlib.pyplot as plt\n",
    "import numpy as np\n",
    "import seaborn as sns\n",
    "import os\n",
    "\n",
    "sns.set_context('talk')"
   ]
  },
  {
   "cell_type": "code",
   "execution_count": 2,
   "id": "42b084a9-9eb8-488e-bec2-32b5bdb2628e",
   "metadata": {},
   "outputs": [
    {
     "data": {
      "text/html": [
       "<div>\n",
       "<style scoped>\n",
       "    .dataframe tbody tr th:only-of-type {\n",
       "        vertical-align: middle;\n",
       "    }\n",
       "\n",
       "    .dataframe tbody tr th {\n",
       "        vertical-align: top;\n",
       "    }\n",
       "\n",
       "    .dataframe thead th {\n",
       "        text-align: right;\n",
       "    }\n",
       "</style>\n",
       "<table border=\"1\" class=\"dataframe\">\n",
       "  <thead>\n",
       "    <tr style=\"text-align: right;\">\n",
       "      <th></th>\n",
       "      <th>sessionNo</th>\n",
       "      <th>startHour</th>\n",
       "      <th>startWeekday</th>\n",
       "      <th>duration</th>\n",
       "      <th>cCount</th>\n",
       "      <th>cMinPrice</th>\n",
       "      <th>cMaxPrice</th>\n",
       "      <th>cSumPrice</th>\n",
       "      <th>bCount</th>\n",
       "      <th>bMinPrice</th>\n",
       "      <th>...</th>\n",
       "      <th>availability_mainly_not_orderable</th>\n",
       "      <th>availability_mainly_orderable</th>\n",
       "      <th>address_-99</th>\n",
       "      <th>address_1</th>\n",
       "      <th>address_2</th>\n",
       "      <th>time_of_day_afternoon</th>\n",
       "      <th>time_of_day_early_morning</th>\n",
       "      <th>time_of_day_evening</th>\n",
       "      <th>onlineStatus_-99</th>\n",
       "      <th>onlineStatus_0</th>\n",
       "    </tr>\n",
       "  </thead>\n",
       "  <tbody>\n",
       "    <tr>\n",
       "      <th>0</th>\n",
       "      <td>1</td>\n",
       "      <td>6.0</td>\n",
       "      <td>5.0</td>\n",
       "      <td>0.000</td>\n",
       "      <td>1.0</td>\n",
       "      <td>59.99</td>\n",
       "      <td>59.99</td>\n",
       "      <td>59.99</td>\n",
       "      <td>1.0</td>\n",
       "      <td>59.99</td>\n",
       "      <td>...</td>\n",
       "      <td>0.0</td>\n",
       "      <td>0.0</td>\n",
       "      <td>0.0</td>\n",
       "      <td>1.0</td>\n",
       "      <td>0.0</td>\n",
       "      <td>0.0</td>\n",
       "      <td>0.0</td>\n",
       "      <td>0.0</td>\n",
       "      <td>1.0</td>\n",
       "      <td>0.0</td>\n",
       "    </tr>\n",
       "    <tr>\n",
       "      <th>1</th>\n",
       "      <td>1</td>\n",
       "      <td>6.0</td>\n",
       "      <td>5.0</td>\n",
       "      <td>11.940</td>\n",
       "      <td>1.0</td>\n",
       "      <td>59.99</td>\n",
       "      <td>59.99</td>\n",
       "      <td>59.99</td>\n",
       "      <td>1.0</td>\n",
       "      <td>59.99</td>\n",
       "      <td>...</td>\n",
       "      <td>0.0</td>\n",
       "      <td>0.0</td>\n",
       "      <td>0.0</td>\n",
       "      <td>1.0</td>\n",
       "      <td>0.0</td>\n",
       "      <td>0.0</td>\n",
       "      <td>0.0</td>\n",
       "      <td>0.0</td>\n",
       "      <td>0.0</td>\n",
       "      <td>0.0</td>\n",
       "    </tr>\n",
       "    <tr>\n",
       "      <th>2</th>\n",
       "      <td>1</td>\n",
       "      <td>6.0</td>\n",
       "      <td>5.0</td>\n",
       "      <td>39.887</td>\n",
       "      <td>1.0</td>\n",
       "      <td>59.99</td>\n",
       "      <td>59.99</td>\n",
       "      <td>59.99</td>\n",
       "      <td>1.0</td>\n",
       "      <td>59.99</td>\n",
       "      <td>...</td>\n",
       "      <td>0.0</td>\n",
       "      <td>0.0</td>\n",
       "      <td>0.0</td>\n",
       "      <td>1.0</td>\n",
       "      <td>0.0</td>\n",
       "      <td>0.0</td>\n",
       "      <td>0.0</td>\n",
       "      <td>0.0</td>\n",
       "      <td>0.0</td>\n",
       "      <td>0.0</td>\n",
       "    </tr>\n",
       "    <tr>\n",
       "      <th>3</th>\n",
       "      <td>2</td>\n",
       "      <td>6.0</td>\n",
       "      <td>5.0</td>\n",
       "      <td>0.000</td>\n",
       "      <td>0.0</td>\n",
       "      <td>-99.00</td>\n",
       "      <td>-99.00</td>\n",
       "      <td>-99.00</td>\n",
       "      <td>0.0</td>\n",
       "      <td>-99.00</td>\n",
       "      <td>...</td>\n",
       "      <td>0.0</td>\n",
       "      <td>0.0</td>\n",
       "      <td>1.0</td>\n",
       "      <td>0.0</td>\n",
       "      <td>0.0</td>\n",
       "      <td>0.0</td>\n",
       "      <td>0.0</td>\n",
       "      <td>0.0</td>\n",
       "      <td>0.0</td>\n",
       "      <td>0.0</td>\n",
       "    </tr>\n",
       "    <tr>\n",
       "      <th>4</th>\n",
       "      <td>2</td>\n",
       "      <td>6.0</td>\n",
       "      <td>5.0</td>\n",
       "      <td>15.633</td>\n",
       "      <td>0.0</td>\n",
       "      <td>-99.00</td>\n",
       "      <td>-99.00</td>\n",
       "      <td>-99.00</td>\n",
       "      <td>0.0</td>\n",
       "      <td>-99.00</td>\n",
       "      <td>...</td>\n",
       "      <td>0.0</td>\n",
       "      <td>0.0</td>\n",
       "      <td>1.0</td>\n",
       "      <td>0.0</td>\n",
       "      <td>0.0</td>\n",
       "      <td>0.0</td>\n",
       "      <td>0.0</td>\n",
       "      <td>0.0</td>\n",
       "      <td>0.0</td>\n",
       "      <td>0.0</td>\n",
       "    </tr>\n",
       "  </tbody>\n",
       "</table>\n",
       "<p>5 rows × 40 columns</p>\n",
       "</div>"
      ],
      "text/plain": [
       "   sessionNo  startHour  startWeekday  duration  cCount  cMinPrice  cMaxPrice  \\\n",
       "0          1        6.0           5.0     0.000     1.0      59.99      59.99   \n",
       "1          1        6.0           5.0    11.940     1.0      59.99      59.99   \n",
       "2          1        6.0           5.0    39.887     1.0      59.99      59.99   \n",
       "3          2        6.0           5.0     0.000     0.0     -99.00     -99.00   \n",
       "4          2        6.0           5.0    15.633     0.0     -99.00     -99.00   \n",
       "\n",
       "   cSumPrice  bCount  bMinPrice  ...  availability_mainly_not_orderable  \\\n",
       "0      59.99     1.0      59.99  ...                                0.0   \n",
       "1      59.99     1.0      59.99  ...                                0.0   \n",
       "2      59.99     1.0      59.99  ...                                0.0   \n",
       "3     -99.00     0.0     -99.00  ...                                0.0   \n",
       "4     -99.00     0.0     -99.00  ...                                0.0   \n",
       "\n",
       "   availability_mainly_orderable  address_-99  address_1 address_2  \\\n",
       "0                            0.0          0.0        1.0       0.0   \n",
       "1                            0.0          0.0        1.0       0.0   \n",
       "2                            0.0          0.0        1.0       0.0   \n",
       "3                            0.0          1.0        0.0       0.0   \n",
       "4                            0.0          1.0        0.0       0.0   \n",
       "\n",
       "   time_of_day_afternoon  time_of_day_early_morning  time_of_day_evening  \\\n",
       "0                    0.0                        0.0                  0.0   \n",
       "1                    0.0                        0.0                  0.0   \n",
       "2                    0.0                        0.0                  0.0   \n",
       "3                    0.0                        0.0                  0.0   \n",
       "4                    0.0                        0.0                  0.0   \n",
       "\n",
       "   onlineStatus_-99  onlineStatus_0  \n",
       "0               1.0             0.0  \n",
       "1               0.0             0.0  \n",
       "2               0.0             0.0  \n",
       "3               0.0             0.0  \n",
       "4               0.0             0.0  \n",
       "\n",
       "[5 rows x 40 columns]"
      ]
     },
     "execution_count": 2,
     "metadata": {},
     "output_type": "execute_result"
    }
   ],
   "source": [
    "input_train_path = os.path.join(\n",
    "    '..',\n",
    "    'dataset',\n",
    "    'feature-engineering',\n",
    "    'iteration-1.csv'\n",
    ")\n",
    "\n",
    "df_train = pd.read_csv(input_train_path)\n",
    "df_train.head()"
   ]
  },
  {
   "cell_type": "code",
   "execution_count": 3,
   "id": "0e49733f-142d-4c69-bf15-30a18d006e1d",
   "metadata": {},
   "outputs": [
    {
     "data": {
      "text/plain": [
       "sessionNo                                         1\n",
       "startHour                                       6.0\n",
       "startWeekday                                    5.0\n",
       "duration                                        0.0\n",
       "cCount                                          1.0\n",
       "cMinPrice                                     59.99\n",
       "cMaxPrice                                     59.99\n",
       "cSumPrice                                     59.99\n",
       "bCount                                          1.0\n",
       "bMinPrice                                     59.99\n",
       "bMaxPrice                                     59.99\n",
       "bSumPrice                                     59.99\n",
       "bStep                                         -99.0\n",
       "onlineStatus                                    -99\n",
       "availability                                    -99\n",
       "customerNo                                      1.0\n",
       "maxVal                                        600.0\n",
       "customerScore                                  70.0\n",
       "accountLifetime                                21.0\n",
       "payments                                        1.0\n",
       "age                                            43.0\n",
       "address                                           1\n",
       "lastOrder                                      49.0\n",
       "order                                             1\n",
       "time_of_day                                 morning\n",
       "availability_-99                                1.0\n",
       "availability_completely_not_determinable        0.0\n",
       "availability_completely_not_orderable           0.0\n",
       "availability_completely_orderable               0.0\n",
       "availability_mainly_not_determinable            0.0\n",
       "availability_mainly_not_orderable               0.0\n",
       "availability_mainly_orderable                   0.0\n",
       "address_-99                                     0.0\n",
       "address_1                                       1.0\n",
       "address_2                                       0.0\n",
       "time_of_day_afternoon                           0.0\n",
       "time_of_day_early_morning                       0.0\n",
       "time_of_day_evening                             0.0\n",
       "onlineStatus_-99                                1.0\n",
       "onlineStatus_0                                  0.0\n",
       "Name: 0, dtype: object"
      ]
     },
     "execution_count": 3,
     "metadata": {},
     "output_type": "execute_result"
    }
   ],
   "source": [
    "df_train.iloc[0]"
   ]
  },
  {
   "cell_type": "markdown",
   "id": "1a4d33c2-ea31-45a0-8eed-dfc32313ab57",
   "metadata": {},
   "source": [
    "# Prepare training and test set"
   ]
  },
  {
   "cell_type": "code",
   "execution_count": 4,
   "id": "623859ae-d11e-4043-aca0-df5561b484ea",
   "metadata": {},
   "outputs": [],
   "source": [
    "## remove redundant features - we've done one hot encoding\n",
    "df_train.drop(\n",
    "    labels=[\"availability\", \"address\", \"time_of_day\", \"onlineStatus\"], \n",
    "    axis=1,\n",
    "    inplace=True\n",
    ")"
   ]
  },
  {
   "cell_type": "code",
   "execution_count": 5,
   "id": "65381157-ebfe-4d0f-a54d-063e62a43780",
   "metadata": {},
   "outputs": [],
   "source": [
    "## train test split (using original data, without handling imbalanced class distribution)\n",
    "from sklearn.model_selection import train_test_split\n",
    "\n",
    "TEST_PROPORTION = 0.3\n",
    "RND = 121\n",
    "target_class = 'order'\n",
    "features = df_train.columns[(df_train.columns != target_class)]\n",
    "\n",
    "X_train, X_test, y_train, y_test = train_test_split(\n",
    "    df_train[features], \n",
    "    df_train[target_class],\n",
    "    test_size=TEST_PROPORTION,\n",
    "    random_state=RND\n",
    ")\n",
    "\n",
    "X_train.reset_index(drop=True, inplace=True)\n",
    "y_train.reset_index(drop=True, inplace=True)\n",
    "\n",
    "X_test.reset_index(drop=True, inplace=True)\n",
    "y_test.reset_index(drop=True, inplace=True)"
   ]
  },
  {
   "cell_type": "code",
   "execution_count": 6,
   "id": "4892193b-651a-4df4-81cb-5f670aba1b99",
   "metadata": {},
   "outputs": [
    {
     "name": "stdout",
     "output_type": "stream",
     "text": [
      "(300309, 35) (300309,)\n",
      "(128704, 35) (128704,)\n"
     ]
    }
   ],
   "source": [
    "print(X_train.shape, y_train.shape)\n",
    "print(X_test.shape, y_test.shape)"
   ]
  },
  {
   "cell_type": "code",
   "execution_count": 7,
   "id": "476fc1ea-36bf-4e63-9ca9-fae25b159ae0",
   "metadata": {},
   "outputs": [],
   "source": [
    "from sklearn.metrics import accuracy_score, classification_report, f1_score\n",
    "from sklearn.metrics import roc_auc_score\n",
    "\n",
    "def evaluate_performance(y_true, y_pred, print_results = True):\n",
    "    accuracy = accuracy_score(y_true, y_pred)\n",
    "    f_score = f1_score(y_true, y_pred)\n",
    "    auc = roc_auc_score(y_true, y_pred)\n",
    "    \n",
    "    if print_results:\n",
    "        print(f\"Accuracy : {accuracy:.3%}\")\n",
    "        print(f\"F1-score : {f_score:.3%}\")\n",
    "        print(f\"AUC: {auc:.3f}\")\n",
    "        print(classification_report(y_true, y_pred))\n",
    "        \n",
    "    return accuracy, f_score, auc"
   ]
  },
  {
   "cell_type": "code",
   "execution_count": 8,
   "id": "52d50cec-64dc-44bd-8a76-aeadd4480f68",
   "metadata": {},
   "outputs": [],
   "source": [
    "from sklearn.model_selection import KFold\n",
    "\n",
    "def kfold_cv(clf, X_train, y_train, k = 10):\n",
    "    kfold = KFold(random_state = RND, shuffle = True, n_splits = k)\n",
    "    \n",
    "    cv_accuracy = np.zeros(shape=k)\n",
    "    cv_f1 = np.zeros(shape=k)\n",
    "    cv_auc = np.zeros(shape=k)\n",
    "    \n",
    "    i = 0\n",
    "    for train_index, val_index in kfold.split(X_train):\n",
    "        X_tr = X_train.loc[train_index]\n",
    "        y_tr = y_train.loc[train_index]\n",
    "        X_val = X_train.loc[val_index]\n",
    "        y_val = y_train.loc[val_index]\n",
    "        \n",
    "        clf.fit(X_tr, y_tr)\n",
    "        y_pred = clf.predict(X_val)\n",
    "        accuracy, f_score, auc = evaluate_performance(y_val, y_pred, print_results = False)\n",
    "        print(f\"Iteration {i+1}: Accuracy={accuracy:.3%} | F1-score={f_score:.3%} | AUC={auc:.3%}\")\n",
    "        \n",
    "        cv_accuracy[i] = accuracy\n",
    "        cv_f1[i] = f_score\n",
    "        cv_auc[i] = auc\n",
    "        \n",
    "        i += 1\n",
    "    \n",
    "    print(\"Cross-validation results\")\n",
    "    print(\"========================\")\n",
    "    print(f\"Accuracy: {np.mean(cv_accuracy):.3%} +- {np.std(cv_accuracy):.3%}\")\n",
    "    print(f\"F1-score: {np.mean(cv_f1):.3%} +- {np.std(cv_f1):.3%}\")\n",
    "    print(f\"AUC: {np.mean(cv_auc):.3f} +- {np.std(cv_auc):.3f}\")"
   ]
  },
  {
   "cell_type": "markdown",
   "id": "386c6b66-cca0-4a8c-9812-de902220f63d",
   "metadata": {},
   "source": [
    "# Model Training and Evaluation\n",
    "\n",
    "## Baseline: Logistic Regression without fine-tuning"
   ]
  },
  {
   "cell_type": "code",
   "execution_count": 9,
   "id": "c27c12c1-f4f9-4248-ae35-b7dde60ea1ac",
   "metadata": {},
   "outputs": [
    {
     "name": "stderr",
     "output_type": "stream",
     "text": [
      "/home/elvyna/miniconda3/envs/py37/lib/python3.7/site-packages/sklearn/linear_model/_sag.py:329: ConvergenceWarning: The max_iter was reached which means the coef_ did not converge\n",
      "  \"the coef_ did not converge\", ConvergenceWarning)\n"
     ]
    },
    {
     "name": "stdout",
     "output_type": "stream",
     "text": [
      "Iteration 1: Accuracy=71.869% | F1-score=80.176% | AUC=65.172%\n"
     ]
    },
    {
     "name": "stderr",
     "output_type": "stream",
     "text": [
      "/home/elvyna/miniconda3/envs/py37/lib/python3.7/site-packages/sklearn/linear_model/_sag.py:329: ConvergenceWarning: The max_iter was reached which means the coef_ did not converge\n",
      "  \"the coef_ did not converge\", ConvergenceWarning)\n"
     ]
    },
    {
     "name": "stdout",
     "output_type": "stream",
     "text": [
      "Iteration 2: Accuracy=71.626% | F1-score=80.029% | AUC=64.887%\n"
     ]
    },
    {
     "name": "stderr",
     "output_type": "stream",
     "text": [
      "/home/elvyna/miniconda3/envs/py37/lib/python3.7/site-packages/sklearn/linear_model/_sag.py:329: ConvergenceWarning: The max_iter was reached which means the coef_ did not converge\n",
      "  \"the coef_ did not converge\", ConvergenceWarning)\n"
     ]
    },
    {
     "name": "stdout",
     "output_type": "stream",
     "text": [
      "Iteration 3: Accuracy=71.766% | F1-score=80.151% | AUC=64.956%\n"
     ]
    },
    {
     "name": "stderr",
     "output_type": "stream",
     "text": [
      "/home/elvyna/miniconda3/envs/py37/lib/python3.7/site-packages/sklearn/linear_model/_sag.py:329: ConvergenceWarning: The max_iter was reached which means the coef_ did not converge\n",
      "  \"the coef_ did not converge\", ConvergenceWarning)\n"
     ]
    },
    {
     "name": "stdout",
     "output_type": "stream",
     "text": [
      "Iteration 4: Accuracy=71.388% | F1-score=79.866% | AUC=64.569%\n"
     ]
    },
    {
     "name": "stderr",
     "output_type": "stream",
     "text": [
      "/home/elvyna/miniconda3/envs/py37/lib/python3.7/site-packages/sklearn/linear_model/_sag.py:329: ConvergenceWarning: The max_iter was reached which means the coef_ did not converge\n",
      "  \"the coef_ did not converge\", ConvergenceWarning)\n"
     ]
    },
    {
     "name": "stdout",
     "output_type": "stream",
     "text": [
      "Iteration 5: Accuracy=71.702% | F1-score=80.108% | AUC=64.876%\n",
      "Cross-validation results\n",
      "========================\n",
      "Accuracy: 71.670% +- 0.162%\n",
      "F1-score: 80.066% +- 0.112%\n",
      "AUC: 0.649 +- 0.002\n"
     ]
    },
    {
     "name": "stderr",
     "output_type": "stream",
     "text": [
      "/home/elvyna/miniconda3/envs/py37/lib/python3.7/site-packages/sklearn/linear_model/_sag.py:329: ConvergenceWarning: The max_iter was reached which means the coef_ did not converge\n",
      "  \"the coef_ did not converge\", ConvergenceWarning)\n"
     ]
    },
    {
     "data": {
      "text/plain": [
       "LogisticRegression(l1_ratio=0.2, max_iter=200, penalty='elasticnet',\n",
       "                   random_state=121, solver='saga')"
      ]
     },
     "execution_count": 9,
     "metadata": {},
     "output_type": "execute_result"
    }
   ],
   "source": [
    "from sklearn.linear_model import LogisticRegression\n",
    "\n",
    "model_logres = LogisticRegression(random_state=RND, max_iter=200, solver='saga', penalty='elasticnet', l1_ratio=0.2)\n",
    "\n",
    "## Perform k-fold cross-validation\n",
    "KFOLD_ITER = 5\n",
    "kfold_cv(model_logres, X_train, y_train, k=KFOLD_ITER)\n",
    "\n",
    "## Train with the whole training set\n",
    "model_logres.fit(X_train, y_train)"
   ]
  },
  {
   "cell_type": "code",
   "execution_count": 10,
   "id": "48add84c-bd4d-44b6-896d-4b68d3e44a1f",
   "metadata": {},
   "outputs": [
    {
     "name": "stdout",
     "output_type": "stream",
     "text": [
      "Accuracy : 71.481%\n",
      "F1-score : 79.903%\n",
      "AUC: 0.647\n",
      "              precision    recall  f1-score   support\n",
      "\n",
      "           0       0.58      0.45      0.51     41947\n",
      "           1       0.76      0.84      0.80     86757\n",
      "\n",
      "    accuracy                           0.71    128704\n",
      "   macro avg       0.67      0.65      0.65    128704\n",
      "weighted avg       0.70      0.71      0.70    128704\n",
      "\n"
     ]
    }
   ],
   "source": [
    "y_pred = model_logres.predict(X_test)\n",
    "accuracy, f_score, auc = evaluate_performance(y_test, y_pred)"
   ]
  },
  {
   "cell_type": "code",
   "execution_count": 12,
   "id": "9e99009b-23a3-4fc6-a3dc-8179e3b1953a",
   "metadata": {},
   "outputs": [
    {
     "data": {
      "image/png": "[encoded data removed]",
      "text/plain": [
       "<Figure size 864x864 with 1 Axes>"
      ]
     },
     "metadata": {
      "needs_background": "light"
     },
     "output_type": "display_data"
    }
   ],
   "source": [
    "logres_coef = pd.DataFrame(\n",
    "    data = {\n",
    "        'feature_name': X_train.columns,\n",
    "        'coef': model_logres.coef_[0]\n",
    "    }\n",
    ").sort_values(by='coef', ascending=False)\n",
    "logres_coef['coef_abs'] = np.abs(logres_coef['coef'])\n",
    "\n",
    "\n",
    "f, ax = plt.subplots(figsize=(12, 12))\n",
    "sns.barplot(\n",
    "    data = logres_coef,\n",
    "    y = 'feature_name',\n",
    "    x = 'coef',\n",
    "    orient = 'h',\n",
    "    palette = 'magma',\n",
    "    ax = ax\n",
    ");\n",
    "\n",
    "plt.xlabel('coefficient value')\n",
    "plt.ylabel('')\n",
    "sns.despine();"
   ]
  },
  {
   "cell_type": "code",
   "execution_count": null,
   "id": "2bb9b625-6490-4e84-96af-184e4c5f725f",
   "metadata": {},
   "outputs": [],
   "source": []
  }
 ],
 "metadata": {
  "kernelspec": {
   "display_name": "py37",
   "language": "python",
   "name": "myenv"
  },
  "language_info": {
   "codemirror_mode": {
    "name": "ipython",
    "version": 3
   },
   "file_extension": ".py",
   "mimetype": "text/x-python",
   "name": "python",
   "nbconvert_exporter": "python",
   "pygments_lexer": "ipython3",
   "version": "3.7.11"
  }
 },
 "nbformat": 4,
 "nbformat_minor": 5
}
