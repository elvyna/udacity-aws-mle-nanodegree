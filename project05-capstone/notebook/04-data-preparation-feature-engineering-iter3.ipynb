{
 "cells": [
  {
   "cell_type": "markdown",
   "id": "7de16bf7-42b3-4aed-a4e4-cb9600ec8d1c",
   "metadata": {},
   "source": [
    "## Disclaimer\n",
    "\n",
    "We have removed outliers and split the training and test set (see `src/data-preparation` for details)."
   ]
  },
  {
   "cell_type": "code",
   "execution_count": 1,
   "id": "d1bf231a-3db4-40a4-9e22-62d8fd1e63df",
   "metadata": {},
   "outputs": [],
   "source": [
    "import pandas as pd\n",
    "import matplotlib.pyplot as plt\n",
    "import numpy as np\n",
    "import seaborn as sns\n",
    "import os\n",
    "\n",
    "sns.set_context('talk')"
   ]
  },
  {
   "cell_type": "code",
   "execution_count": 2,
   "id": "42b084a9-9eb8-488e-bec2-32b5bdb2628e",
   "metadata": {},
   "outputs": [],
   "source": [
    "input_train_path = os.path.join(\n",
    "    '..',\n",
    "    'dataset',\n",
    "    'preprocessed',\n",
    "    'df_train.csv'\n",
    ")\n",
    "\n",
    "df_train = pd.read_csv(input_train_path)\n",
    "df_train.head()\n",
    "\n",
    "input_test_path = os.path.join(\n",
    "    '..',\n",
    "    'dataset',\n",
    "    'preprocessed',\n",
    "    'df_test.csv'\n",
    ")\n",
    "df_test = pd.read_csv(input_test_path)"
   ]
  },
  {
   "cell_type": "code",
   "execution_count": 3,
   "id": "28397c85-0773-4350-bd55-ab8e2fc48cc4",
   "metadata": {},
   "outputs": [
    {
     "data": {
      "text/plain": [
       "startHour                     float64\n",
       "startWeekday                  float64\n",
       "duration                      float64\n",
       "cCount                        float64\n",
       "cMinPrice                     float64\n",
       "cMaxPrice                     float64\n",
       "cSumPrice                     float64\n",
       "bCount                        float64\n",
       "bMinPrice                     float64\n",
       "bMaxPrice                     float64\n",
       "bSumPrice                     float64\n",
       "bStep                         float64\n",
       "onlineStatus                    int64\n",
       "availability                   object\n",
       "maxVal                        float64\n",
       "customerScore                 float64\n",
       "accountLifetime               float64\n",
       "payments                      float64\n",
       "age                           float64\n",
       "address                         int64\n",
       "lastOrder                     float64\n",
       "startHour_is_outlier            int64\n",
       "startWeekday_is_outlier         int64\n",
       "duration_is_outlier             int64\n",
       "cCount_is_outlier               int64\n",
       "cMinPrice_is_outlier            int64\n",
       "cMaxPrice_is_outlier            int64\n",
       "cSumPrice_is_outlier            int64\n",
       "bCount_is_outlier               int64\n",
       "bMinPrice_is_outlier            int64\n",
       "bMaxPrice_is_outlier            int64\n",
       "bSumPrice_is_outlier            int64\n",
       "bStep_is_outlier                int64\n",
       "onlineStatus_is_outlier         int64\n",
       "maxVal_is_outlier               int64\n",
       "customerScore_is_outlier        int64\n",
       "accountLifetime_is_outlier      int64\n",
       "payments_is_outlier             int64\n",
       "age_is_outlier                  int64\n",
       "lastOrder_is_outlier            int64\n",
       "order                           int64\n",
       "dtype: object"
      ]
     },
     "execution_count": 3,
     "metadata": {},
     "output_type": "execute_result"
    }
   ],
   "source": [
    "df_train.dtypes"
   ]
  },
  {
   "cell_type": "code",
   "execution_count": 4,
   "id": "82a91ce0-3d5c-4d1a-8cd3-58afd669dc33",
   "metadata": {},
   "outputs": [],
   "source": [
    "## create categorical values based on startHour\n",
    "def determine_time_of_day(df: pd.DataFrame, column_name: str) -> pd.DataFrame:\n",
    "    condition_list = [\n",
    "        ((df[column_name] >= 0) & (df[column_name] < 6)),\n",
    "        ((df[column_name] >= 6) & (df[column_name] < 12)),\n",
    "        ((df[column_name] >= 12) & (df[column_name] < 18)),\n",
    "        ((df[column_name] >= 18) & (df[column_name] < 25)),\n",
    "    ]\n",
    "\n",
    "    choice_list = [\n",
    "        \"early_morning\",\n",
    "        \"morning\",\n",
    "        \"afternoon\",\n",
    "        \"evening\"\n",
    "    ]\n",
    "\n",
    "    df[\"time_of_day\"] = np.select(condition_list, choice_list, default=\"unknown\")\n",
    "    return df\n",
    "\n",
    "df_train = determine_time_of_day(df=df_train, column_name='startHour')\n",
    "df_test = determine_time_of_day(df=df_test, column_name='startHour')"
   ]
  },
  {
   "cell_type": "code",
   "execution_count": 5,
   "id": "018004d7-3d41-4bca-9ebb-0c5757f3a722",
   "metadata": {},
   "outputs": [
    {
     "data": {
      "text/html": [
       "<div>\n",
       "<style scoped>\n",
       "    .dataframe tbody tr th:only-of-type {\n",
       "        vertical-align: middle;\n",
       "    }\n",
       "\n",
       "    .dataframe tbody tr th {\n",
       "        vertical-align: top;\n",
       "    }\n",
       "\n",
       "    .dataframe thead th {\n",
       "        text-align: right;\n",
       "    }\n",
       "</style>\n",
       "<table border=\"1\" class=\"dataframe\">\n",
       "  <thead>\n",
       "    <tr style=\"text-align: right;\">\n",
       "      <th></th>\n",
       "      <th>startHour</th>\n",
       "      <th>time_of_day</th>\n",
       "    </tr>\n",
       "  </thead>\n",
       "  <tbody>\n",
       "    <tr>\n",
       "      <th>0</th>\n",
       "      <td>18.0</td>\n",
       "      <td>evening</td>\n",
       "    </tr>\n",
       "    <tr>\n",
       "      <th>1</th>\n",
       "      <td>21.0</td>\n",
       "      <td>evening</td>\n",
       "    </tr>\n",
       "    <tr>\n",
       "      <th>2</th>\n",
       "      <td>13.0</td>\n",
       "      <td>afternoon</td>\n",
       "    </tr>\n",
       "    <tr>\n",
       "      <th>3</th>\n",
       "      <td>15.0</td>\n",
       "      <td>afternoon</td>\n",
       "    </tr>\n",
       "    <tr>\n",
       "      <th>4</th>\n",
       "      <td>17.0</td>\n",
       "      <td>afternoon</td>\n",
       "    </tr>\n",
       "    <tr>\n",
       "      <th>...</th>\n",
       "      <td>...</td>\n",
       "      <td>...</td>\n",
       "    </tr>\n",
       "    <tr>\n",
       "      <th>173011</th>\n",
       "      <td>8.0</td>\n",
       "      <td>morning</td>\n",
       "    </tr>\n",
       "    <tr>\n",
       "      <th>173012</th>\n",
       "      <td>15.0</td>\n",
       "      <td>afternoon</td>\n",
       "    </tr>\n",
       "    <tr>\n",
       "      <th>173013</th>\n",
       "      <td>18.0</td>\n",
       "      <td>evening</td>\n",
       "    </tr>\n",
       "    <tr>\n",
       "      <th>173014</th>\n",
       "      <td>12.0</td>\n",
       "      <td>afternoon</td>\n",
       "    </tr>\n",
       "    <tr>\n",
       "      <th>173015</th>\n",
       "      <td>10.0</td>\n",
       "      <td>morning</td>\n",
       "    </tr>\n",
       "  </tbody>\n",
       "</table>\n",
       "<p>173016 rows × 2 columns</p>\n",
       "</div>"
      ],
      "text/plain": [
       "        startHour time_of_day\n",
       "0            18.0     evening\n",
       "1            21.0     evening\n",
       "2            13.0   afternoon\n",
       "3            15.0   afternoon\n",
       "4            17.0   afternoon\n",
       "...           ...         ...\n",
       "173011        8.0     morning\n",
       "173012       15.0   afternoon\n",
       "173013       18.0     evening\n",
       "173014       12.0   afternoon\n",
       "173015       10.0     morning\n",
       "\n",
       "[173016 rows x 2 columns]"
      ]
     },
     "execution_count": 5,
     "metadata": {},
     "output_type": "execute_result"
    }
   ],
   "source": [
    "df_train[[\"startHour\",\"time_of_day\"]]"
   ]
  },
  {
   "cell_type": "code",
   "execution_count": 6,
   "id": "6e464b6e-efc6-4d91-9a4d-addcc1eec88b",
   "metadata": {},
   "outputs": [
    {
     "name": "stdout",
     "output_type": "stream",
     "text": [
      "availability\n",
      "address\n",
      "time_of_day\n",
      "onlineStatus\n"
     ]
    }
   ],
   "source": [
    "## use one hot encoder for categorical values\n",
    "from sklearn.preprocessing import OneHotEncoder\n",
    "\n",
    "selected_feature_list = ['availability','address','time_of_day','onlineStatus']\n",
    "for selected_feature in selected_feature_list:\n",
    "    ohe = OneHotEncoder()\n",
    "    feature_array = np.array(df_train[selected_feature])\n",
    "    feature_encoded = ohe.fit_transform(np.reshape(feature_array, (-1,1))).toarray()\n",
    "    ## test set\n",
    "    feature_array_test = np.array(df_test[selected_feature])\n",
    "    feature_encoded_test = ohe.transform(np.reshape(feature_array_test, (-1,1))).toarray()\n",
    "\n",
    "    try:\n",
    "        feature_encoded = pd.DataFrame(\n",
    "            data = feature_encoded, \n",
    "            columns = [selected_feature + '_' + col.str.replace(' ','_') for col in ohe.categories_[0]]\n",
    "        )\n",
    "        feature_encoded_test = pd.DataFrame(\n",
    "            data = feature_encoded_test, \n",
    "            columns = [selected_feature + '_' + col.str.replace(' ','_') for col in ohe.categories_[0]]\n",
    "        )\n",
    "    except:\n",
    "        print(selected_feature)\n",
    "        feature_encoded = pd.DataFrame(\n",
    "            data = feature_encoded, \n",
    "            columns = [selected_feature + '_' + str(col).replace(' ','_') for col in ohe.categories_[0]]\n",
    "        )\n",
    "        feature_encoded_test = pd.DataFrame(\n",
    "            data = feature_encoded_test, \n",
    "            columns = [selected_feature + '_' + str(col).replace(' ','_') for col in ohe.categories_[0]]\n",
    "        )\n",
    "        \n",
    "    feature_encoded.drop(\n",
    "        feature_encoded.columns[-1], \n",
    "        axis = 1,\n",
    "        inplace = True\n",
    "    )\n",
    "    feature_encoded_test.drop(\n",
    "        feature_encoded_test.columns[-1], \n",
    "        axis = 1,\n",
    "        inplace = True\n",
    "    )\n",
    "\n",
    "    df_train = pd.concat([df_train, feature_encoded], axis = 1)\n",
    "    df_test = pd.concat([df_test, feature_encoded_test], axis = 1)\n",
    "    \n",
    "    ## remove redundant features - we've done one hot encoding\n",
    "    df_train.drop(\n",
    "        labels=selected_feature, \n",
    "        axis=1,\n",
    "        inplace=True\n",
    "    )\n",
    "    df_test.drop(\n",
    "        labels=selected_feature, \n",
    "        axis=1,\n",
    "        inplace=True\n",
    "    )"
   ]
  },
  {
   "cell_type": "markdown",
   "id": "01f72182-3dec-4716-9c98-fa72baf284ac",
   "metadata": {},
   "source": [
    "## SMOTE"
   ]
  },
  {
   "cell_type": "code",
   "execution_count": 7,
   "id": "0ab62a56-8281-4656-aac3-aa6c8e9bf785",
   "metadata": {},
   "outputs": [],
   "source": [
    "target_class = 'order'\n",
    "\n",
    "y_train = df_train[target_class].copy()\n",
    "X_train = df_train.drop(labels=[target_class], axis=1)"
   ]
  },
  {
   "cell_type": "code",
   "execution_count": 8,
   "id": "4af9b229-8348-47a6-8793-06721428f0e4",
   "metadata": {},
   "outputs": [],
   "source": [
    "from imblearn.over_sampling import SMOTE\n",
    "\n",
    "RND = 722\n",
    "smote = SMOTE(random_state=RND, k_neighbors=13)\n",
    "\n",
    "X_train_smote, y_train_smote = smote.fit_resample(X_train, y_train)"
   ]
  },
  {
   "cell_type": "code",
   "execution_count": 9,
   "id": "d35a866d-c9c3-4741-86e9-eb0e067d5584",
   "metadata": {},
   "outputs": [
    {
     "name": "stdout",
     "output_type": "stream",
     "text": [
      "Training data before SMOTE: 173,016 records\n",
      "Training data after SMOTE: 238,286 records\n"
     ]
    }
   ],
   "source": [
    "print(\"Training data before SMOTE: {:,.0f} records\".format(X_train.shape[0]))\n",
    "print(\"Training data after SMOTE: {:,.0f} records\".format(X_train_smote.shape[0]))"
   ]
  },
  {
   "cell_type": "code",
   "execution_count": 10,
   "id": "bbdf5068-e7f1-478d-92cf-5f2dbfbaf7fe",
   "metadata": {},
   "outputs": [
    {
     "data": {
      "image/png": "[encoded data removed]",
      "text/plain": [
       "<Figure size 1152x288 with 2 Axes>"
      ]
     },
     "metadata": {
      "needs_background": "light"
     },
     "output_type": "display_data"
    }
   ],
   "source": [
    "f, ax = plt.subplots(figsize = (16,4), ncols = 2)\n",
    "plt.subplots_adjust(wspace = .25)\n",
    "\n",
    "y_train.value_counts(True).plot.barh(ax = ax[0]);\n",
    "y_train_smote.value_counts(True).plot.barh(ax = ax[1]);\n",
    "\n",
    "ax[0].set_title(\"Training data: before SMOTE\")\n",
    "ax[0].set_ylabel(\"IsCanceled\")\n",
    "ax[0].set_xlabel(\"Proportion\")\n",
    "\n",
    "ax[1].set_title(\"Training data: after SMOTE\")\n",
    "ax[1].set_ylabel(\"IsCanceled\")\n",
    "ax[1].set_xlabel(\"Proportion\")\n",
    "sns.despine();"
   ]
  },
  {
   "cell_type": "code",
   "execution_count": 13,
   "id": "f2687b60-c3ac-4abd-9dfc-c03415b33164",
   "metadata": {},
   "outputs": [
    {
     "data": {
      "text/plain": [
       "(238286, 53)"
      ]
     },
     "execution_count": 13,
     "metadata": {},
     "output_type": "execute_result"
    }
   ],
   "source": [
    "df_train_smote = pd.concat([X_train_smote, y_train_smote], axis=1)\n",
    "df_train_smote.shape"
   ]
  },
  {
   "cell_type": "code",
   "execution_count": 14,
   "id": "b8e72fd4-3222-46e7-9ef3-b84a47f25dde",
   "metadata": {},
   "outputs": [],
   "source": [
    "SAVE_DATA = True\n",
    "FILE_NAME = 'iteration-3-train-smote.csv'\n",
    "\n",
    "if SAVE_DATA:\n",
    "    output_train_path = os.path.join(\n",
    "        '..',\n",
    "        'dataset',\n",
    "        'research-iteration',\n",
    "        'feature-engineering',\n",
    "        FILE_NAME\n",
    "    )\n",
    "    df_train_smote.to_csv(output_train_path, index=False)\n",
    "    \n",
    "    output_test_path = os.path.join(\n",
    "        '..',\n",
    "        'dataset',\n",
    "        'research-iteration',\n",
    "        'feature-engineering',\n",
    "        FILE_NAME.replace('train','test')\n",
    "    )\n",
    "    df_test.to_csv(output_test_path, index=False)"
   ]
  }
 ],
 "metadata": {
  "kernelspec": {
   "display_name": "py37",
   "language": "python",
   "name": "myenv"
  },
  "language_info": {
   "codemirror_mode": {
    "name": "ipython",
    "version": 3
   },
   "file_extension": ".py",
   "mimetype": "text/x-python",
   "name": "python",
   "nbconvert_exporter": "python",
   "pygments_lexer": "ipython3",
   "version": "3.7.11"
  }
 },
 "nbformat": 4,
 "nbformat_minor": 5
}
