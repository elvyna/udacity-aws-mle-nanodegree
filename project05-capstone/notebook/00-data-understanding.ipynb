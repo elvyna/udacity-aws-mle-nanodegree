{
 "cells": [
  {
   "cell_type": "markdown",
   "id": "5024f8df-b1ad-49ad-96d2-2f61a5206932",
   "metadata": {},
   "source": [
    "# Data Understanding\n",
    "\n",
    "Source: [KDD data mining cup 2013 - shopping cart abandonment prediction](https://www.data-mining-cup.com/reviews/dmc-2013/)\n",
    "\n",
    "## Data Dictionary\n",
    "\n",
    "- sessionNo: running number of the session\n",
    "- startHour: hour in which the session has begun\n",
    "- startWeekday: day of week in which the session has begun (1: Mon, 2: Tue, ..., 7: Sun)\n",
    "- duration: time in seconds passed since start of the session\n",
    "- cCount: number of the products clicked on\n",
    "- cMinPrice: lowest price of a product clicked on\n",
    "- cMaxPrice: highest price of a product clicked on\n",
    "- cSumPrice: sum of the prices of all products clicked on\n",
    "- bCount: number of products put in the shopping basket\n",
    "- bMinPrice: lowest price of all products put in the shopping basket\n",
    "- bMaxPrice: highest price of all products put in the shopping basket\n",
    "- bSumPrice: sum of theprices of all products put in the shopping basket\n",
    "- bStep: purchase processing step (1,2,3,4,5)\n",
    "- onlineStatus: indication whether the customer is online\n",
    "- availability: delivery status\n",
    "- customerID: customer ID\n",
    "- maxVal: maximum admissible purchase price for the customer\n",
    "- customerScore: customer evaluation from the point of view of the shop\n",
    "- accountLifetime: lifetime of the customer's account in months\n",
    "- payments: number of payments affected by the customer\n",
    "- age: age of the customer\n",
    "- address: form of address of the customer (1: Mr, 2: Mrs, 3: company)\n",
    "- lastOrder: time in days passed since the last order\n",
    "- order: outcome of the session (y: purchase, n: non-purchase)"
   ]
  },
  {
   "cell_type": "code",
   "execution_count": 1,
   "id": "d827304f-963a-4fe0-9e5c-f3f2aac518c5",
   "metadata": {},
   "outputs": [],
   "source": [
    "import pandas as pd\n",
    "import matplotlib.pyplot as plt\n",
    "import numpy as np\n",
    "import seaborn as sns\n",
    "import os\n",
    "\n",
    "sns.set_context('talk')"
   ]
  },
  {
   "cell_type": "code",
   "execution_count": 2,
   "id": "c3d8d9a9-1c94-4128-9b3d-799c302f9a6f",
   "metadata": {},
   "outputs": [],
   "source": [
    "input_train_path = os.path.join(\n",
    "    '..',\n",
    "    'dataset',\n",
    "    'transact_train.txt'\n",
    ")"
   ]
  },
  {
   "cell_type": "code",
   "execution_count": 3,
   "id": "dc8412ce-3cd7-4858-a347-6252d5bf09aa",
   "metadata": {},
   "outputs": [
    {
     "data": {
      "text/html": [
       "<div>\n",
       "<style scoped>\n",
       "    .dataframe tbody tr th:only-of-type {\n",
       "        vertical-align: middle;\n",
       "    }\n",
       "\n",
       "    .dataframe tbody tr th {\n",
       "        vertical-align: top;\n",
       "    }\n",
       "\n",
       "    .dataframe thead th {\n",
       "        text-align: right;\n",
       "    }\n",
       "</style>\n",
       "<table border=\"1\" class=\"dataframe\">\n",
       "  <thead>\n",
       "    <tr style=\"text-align: right;\">\n",
       "      <th></th>\n",
       "      <th>sessionNo</th>\n",
       "      <th>startHour</th>\n",
       "      <th>startWeekday</th>\n",
       "      <th>duration</th>\n",
       "      <th>cCount</th>\n",
       "      <th>cMinPrice</th>\n",
       "      <th>cMaxPrice</th>\n",
       "      <th>cSumPrice</th>\n",
       "      <th>bCount</th>\n",
       "      <th>bMinPrice</th>\n",
       "      <th>...</th>\n",
       "      <th>availability</th>\n",
       "      <th>customerNo</th>\n",
       "      <th>maxVal</th>\n",
       "      <th>customerScore</th>\n",
       "      <th>accountLifetime</th>\n",
       "      <th>payments</th>\n",
       "      <th>age</th>\n",
       "      <th>address</th>\n",
       "      <th>lastOrder</th>\n",
       "      <th>order</th>\n",
       "    </tr>\n",
       "  </thead>\n",
       "  <tbody>\n",
       "    <tr>\n",
       "      <th>0</th>\n",
       "      <td>1</td>\n",
       "      <td>6</td>\n",
       "      <td>5</td>\n",
       "      <td>0.000</td>\n",
       "      <td>1</td>\n",
       "      <td>59.99</td>\n",
       "      <td>59.99</td>\n",
       "      <td>59.99</td>\n",
       "      <td>1</td>\n",
       "      <td>59.99</td>\n",
       "      <td>...</td>\n",
       "      <td>?</td>\n",
       "      <td>1</td>\n",
       "      <td>600</td>\n",
       "      <td>70</td>\n",
       "      <td>21</td>\n",
       "      <td>1</td>\n",
       "      <td>43</td>\n",
       "      <td>1</td>\n",
       "      <td>49</td>\n",
       "      <td>y</td>\n",
       "    </tr>\n",
       "    <tr>\n",
       "      <th>1</th>\n",
       "      <td>1</td>\n",
       "      <td>6</td>\n",
       "      <td>5</td>\n",
       "      <td>11.940</td>\n",
       "      <td>1</td>\n",
       "      <td>59.99</td>\n",
       "      <td>59.99</td>\n",
       "      <td>59.99</td>\n",
       "      <td>1</td>\n",
       "      <td>59.99</td>\n",
       "      <td>...</td>\n",
       "      <td>completely orderable</td>\n",
       "      <td>1</td>\n",
       "      <td>600</td>\n",
       "      <td>70</td>\n",
       "      <td>21</td>\n",
       "      <td>1</td>\n",
       "      <td>43</td>\n",
       "      <td>1</td>\n",
       "      <td>49</td>\n",
       "      <td>y</td>\n",
       "    </tr>\n",
       "    <tr>\n",
       "      <th>2</th>\n",
       "      <td>1</td>\n",
       "      <td>6</td>\n",
       "      <td>5</td>\n",
       "      <td>39.887</td>\n",
       "      <td>1</td>\n",
       "      <td>59.99</td>\n",
       "      <td>59.99</td>\n",
       "      <td>59.99</td>\n",
       "      <td>1</td>\n",
       "      <td>59.99</td>\n",
       "      <td>...</td>\n",
       "      <td>completely orderable</td>\n",
       "      <td>1</td>\n",
       "      <td>600</td>\n",
       "      <td>70</td>\n",
       "      <td>21</td>\n",
       "      <td>1</td>\n",
       "      <td>43</td>\n",
       "      <td>1</td>\n",
       "      <td>49</td>\n",
       "      <td>y</td>\n",
       "    </tr>\n",
       "    <tr>\n",
       "      <th>3</th>\n",
       "      <td>2</td>\n",
       "      <td>6</td>\n",
       "      <td>5</td>\n",
       "      <td>0.000</td>\n",
       "      <td>0</td>\n",
       "      <td>?</td>\n",
       "      <td>?</td>\n",
       "      <td>?</td>\n",
       "      <td>0</td>\n",
       "      <td>?</td>\n",
       "      <td>...</td>\n",
       "      <td>completely orderable</td>\n",
       "      <td>?</td>\n",
       "      <td>?</td>\n",
       "      <td>?</td>\n",
       "      <td>?</td>\n",
       "      <td>?</td>\n",
       "      <td>?</td>\n",
       "      <td>?</td>\n",
       "      <td>?</td>\n",
       "      <td>y</td>\n",
       "    </tr>\n",
       "    <tr>\n",
       "      <th>4</th>\n",
       "      <td>2</td>\n",
       "      <td>6</td>\n",
       "      <td>5</td>\n",
       "      <td>15.633</td>\n",
       "      <td>0</td>\n",
       "      <td>?</td>\n",
       "      <td>?</td>\n",
       "      <td>?</td>\n",
       "      <td>0</td>\n",
       "      <td>?</td>\n",
       "      <td>...</td>\n",
       "      <td>completely orderable</td>\n",
       "      <td>?</td>\n",
       "      <td>?</td>\n",
       "      <td>?</td>\n",
       "      <td>?</td>\n",
       "      <td>?</td>\n",
       "      <td>?</td>\n",
       "      <td>?</td>\n",
       "      <td>?</td>\n",
       "      <td>y</td>\n",
       "    </tr>\n",
       "  </tbody>\n",
       "</table>\n",
       "<p>5 rows × 24 columns</p>\n",
       "</div>"
      ],
      "text/plain": [
       "   sessionNo  startHour  startWeekday  duration  cCount cMinPrice cMaxPrice  \\\n",
       "0          1          6             5     0.000       1     59.99     59.99   \n",
       "1          1          6             5    11.940       1     59.99     59.99   \n",
       "2          1          6             5    39.887       1     59.99     59.99   \n",
       "3          2          6             5     0.000       0         ?         ?   \n",
       "4          2          6             5    15.633       0         ?         ?   \n",
       "\n",
       "  cSumPrice  bCount bMinPrice  ...          availability customerNo maxVal  \\\n",
       "0     59.99       1     59.99  ...                     ?          1    600   \n",
       "1     59.99       1     59.99  ...  completely orderable          1    600   \n",
       "2     59.99       1     59.99  ...  completely orderable          1    600   \n",
       "3         ?       0         ?  ...  completely orderable          ?      ?   \n",
       "4         ?       0         ?  ...  completely orderable          ?      ?   \n",
       "\n",
       "  customerScore accountLifetime payments age address lastOrder order  \n",
       "0            70              21        1  43       1        49     y  \n",
       "1            70              21        1  43       1        49     y  \n",
       "2            70              21        1  43       1        49     y  \n",
       "3             ?               ?        ?   ?       ?         ?     y  \n",
       "4             ?               ?        ?   ?       ?         ?     y  \n",
       "\n",
       "[5 rows x 24 columns]"
      ]
     },
     "execution_count": 3,
     "metadata": {},
     "output_type": "execute_result"
    }
   ],
   "source": [
    "df_train = pd.read_csv(input_train_path, sep=\"|\")\n",
    "df_train.head()"
   ]
  },
  {
   "cell_type": "code",
   "execution_count": 4,
   "id": "6b606aaf-60ac-4abe-9437-d287809f3146",
   "metadata": {},
   "outputs": [
    {
     "data": {
      "text/plain": [
       "(429013, 24)"
      ]
     },
     "execution_count": 4,
     "metadata": {},
     "output_type": "execute_result"
    }
   ],
   "source": [
    "df_train.shape"
   ]
  },
  {
   "cell_type": "code",
   "execution_count": 5,
   "id": "e7179a62-ecdd-4946-ba3a-0a902947d258",
   "metadata": {},
   "outputs": [
    {
     "data": {
      "text/plain": [
       "sessionNo              1\n",
       "startHour              6\n",
       "startWeekday           5\n",
       "duration             0.0\n",
       "cCount                 1\n",
       "cMinPrice          59.99\n",
       "cMaxPrice          59.99\n",
       "cSumPrice          59.99\n",
       "bCount                 1\n",
       "bMinPrice          59.99\n",
       "bMaxPrice          59.99\n",
       "bSumPrice          59.99\n",
       "bStep                  ?\n",
       "onlineStatus           ?\n",
       "availability           ?\n",
       "customerNo             1\n",
       "maxVal               600\n",
       "customerScore         70\n",
       "accountLifetime       21\n",
       "payments               1\n",
       "age                   43\n",
       "address                1\n",
       "lastOrder             49\n",
       "order                  y\n",
       "Name: 0, dtype: object"
      ]
     },
     "execution_count": 5,
     "metadata": {},
     "output_type": "execute_result"
    }
   ],
   "source": [
    "df_train.iloc[0]"
   ]
  },
  {
   "cell_type": "code",
   "execution_count": 6,
   "id": "587dbfc2-9ecb-40bd-b88c-85cbf190416d",
   "metadata": {},
   "outputs": [
    {
     "data": {
      "text/plain": [
       "sessionNo            int64\n",
       "startHour            int64\n",
       "startWeekday         int64\n",
       "duration           float64\n",
       "cCount               int64\n",
       "cMinPrice           object\n",
       "cMaxPrice           object\n",
       "cSumPrice           object\n",
       "bCount               int64\n",
       "bMinPrice           object\n",
       "bMaxPrice           object\n",
       "bSumPrice           object\n",
       "bStep               object\n",
       "onlineStatus        object\n",
       "availability        object\n",
       "customerNo          object\n",
       "maxVal              object\n",
       "customerScore       object\n",
       "accountLifetime     object\n",
       "payments            object\n",
       "age                 object\n",
       "address             object\n",
       "lastOrder           object\n",
       "order               object\n",
       "dtype: object"
      ]
     },
     "execution_count": 6,
     "metadata": {},
     "output_type": "execute_result"
    }
   ],
   "source": [
    "df_train.dtypes"
   ]
  },
  {
   "cell_type": "code",
   "execution_count": 7,
   "id": "cdd88352-864a-46cf-859d-b1a408425b33",
   "metadata": {},
   "outputs": [
    {
     "data": {
      "text/html": [
       "<div>\n",
       "<style scoped>\n",
       "    .dataframe tbody tr th:only-of-type {\n",
       "        vertical-align: middle;\n",
       "    }\n",
       "\n",
       "    .dataframe tbody tr th {\n",
       "        vertical-align: top;\n",
       "    }\n",
       "\n",
       "    .dataframe thead th {\n",
       "        text-align: right;\n",
       "    }\n",
       "</style>\n",
       "<table border=\"1\" class=\"dataframe\">\n",
       "  <thead>\n",
       "    <tr style=\"text-align: right;\">\n",
       "      <th></th>\n",
       "      <th>sessionNo</th>\n",
       "      <th>startHour</th>\n",
       "      <th>startWeekday</th>\n",
       "      <th>duration</th>\n",
       "      <th>cCount</th>\n",
       "      <th>bCount</th>\n",
       "    </tr>\n",
       "  </thead>\n",
       "  <tbody>\n",
       "    <tr>\n",
       "      <th>count</th>\n",
       "      <td>429013.000000</td>\n",
       "      <td>429013.000000</td>\n",
       "      <td>429013.000000</td>\n",
       "      <td>429013.000000</td>\n",
       "      <td>429013.000000</td>\n",
       "      <td>429013.000000</td>\n",
       "    </tr>\n",
       "    <tr>\n",
       "      <th>mean</th>\n",
       "      <td>25274.631293</td>\n",
       "      <td>14.617061</td>\n",
       "      <td>5.924839</td>\n",
       "      <td>1573.901640</td>\n",
       "      <td>24.140317</td>\n",
       "      <td>4.135168</td>\n",
       "    </tr>\n",
       "    <tr>\n",
       "      <th>std</th>\n",
       "      <td>14441.366146</td>\n",
       "      <td>4.485914</td>\n",
       "      <td>0.790930</td>\n",
       "      <td>2427.123356</td>\n",
       "      <td>30.398164</td>\n",
       "      <td>4.451778</td>\n",
       "    </tr>\n",
       "    <tr>\n",
       "      <th>min</th>\n",
       "      <td>1.000000</td>\n",
       "      <td>0.000000</td>\n",
       "      <td>5.000000</td>\n",
       "      <td>0.000000</td>\n",
       "      <td>0.000000</td>\n",
       "      <td>0.000000</td>\n",
       "    </tr>\n",
       "    <tr>\n",
       "      <th>25%</th>\n",
       "      <td>12731.000000</td>\n",
       "      <td>11.000000</td>\n",
       "      <td>5.000000</td>\n",
       "      <td>225.070000</td>\n",
       "      <td>5.000000</td>\n",
       "      <td>1.000000</td>\n",
       "    </tr>\n",
       "    <tr>\n",
       "      <th>50%</th>\n",
       "      <td>25470.000000</td>\n",
       "      <td>15.000000</td>\n",
       "      <td>6.000000</td>\n",
       "      <td>738.199000</td>\n",
       "      <td>13.000000</td>\n",
       "      <td>3.000000</td>\n",
       "    </tr>\n",
       "    <tr>\n",
       "      <th>75%</th>\n",
       "      <td>37542.000000</td>\n",
       "      <td>18.000000</td>\n",
       "      <td>7.000000</td>\n",
       "      <td>1880.265000</td>\n",
       "      <td>31.000000</td>\n",
       "      <td>5.000000</td>\n",
       "    </tr>\n",
       "    <tr>\n",
       "      <th>max</th>\n",
       "      <td>50000.000000</td>\n",
       "      <td>23.000000</td>\n",
       "      <td>7.000000</td>\n",
       "      <td>21580.092000</td>\n",
       "      <td>200.000000</td>\n",
       "      <td>108.000000</td>\n",
       "    </tr>\n",
       "  </tbody>\n",
       "</table>\n",
       "</div>"
      ],
      "text/plain": [
       "           sessionNo      startHour   startWeekday       duration  \\\n",
       "count  429013.000000  429013.000000  429013.000000  429013.000000   \n",
       "mean    25274.631293      14.617061       5.924839    1573.901640   \n",
       "std     14441.366146       4.485914       0.790930    2427.123356   \n",
       "min         1.000000       0.000000       5.000000       0.000000   \n",
       "25%     12731.000000      11.000000       5.000000     225.070000   \n",
       "50%     25470.000000      15.000000       6.000000     738.199000   \n",
       "75%     37542.000000      18.000000       7.000000    1880.265000   \n",
       "max     50000.000000      23.000000       7.000000   21580.092000   \n",
       "\n",
       "              cCount         bCount  \n",
       "count  429013.000000  429013.000000  \n",
       "mean       24.140317       4.135168  \n",
       "std        30.398164       4.451778  \n",
       "min         0.000000       0.000000  \n",
       "25%         5.000000       1.000000  \n",
       "50%        13.000000       3.000000  \n",
       "75%        31.000000       5.000000  \n",
       "max       200.000000     108.000000  "
      ]
     },
     "execution_count": 7,
     "metadata": {},
     "output_type": "execute_result"
    }
   ],
   "source": [
    "df_train.describe()"
   ]
  },
  {
   "cell_type": "markdown",
   "id": "c8de8aef-3e2e-4717-b8dc-226d150c5843",
   "metadata": {},
   "source": [
    "No columns have missing values. However, it may contain `?`."
   ]
  },
  {
   "cell_type": "code",
   "execution_count": 8,
   "id": "88ebe74d-554a-4c38-a101-94c37a54643b",
   "metadata": {},
   "outputs": [
    {
     "name": "stdout",
     "output_type": "stream",
     "text": [
      "<class 'pandas.core.frame.DataFrame'>\n",
      "RangeIndex: 429013 entries, 0 to 429012\n",
      "Data columns (total 24 columns):\n",
      " #   Column           Non-Null Count   Dtype  \n",
      "---  ------           --------------   -----  \n",
      " 0   sessionNo        429013 non-null  int64  \n",
      " 1   startHour        429013 non-null  int64  \n",
      " 2   startWeekday     429013 non-null  int64  \n",
      " 3   duration         429013 non-null  float64\n",
      " 4   cCount           429013 non-null  int64  \n",
      " 5   cMinPrice        429013 non-null  object \n",
      " 6   cMaxPrice        429013 non-null  object \n",
      " 7   cSumPrice        429013 non-null  object \n",
      " 8   bCount           429013 non-null  int64  \n",
      " 9   bMinPrice        429013 non-null  object \n",
      " 10  bMaxPrice        429013 non-null  object \n",
      " 11  bSumPrice        429013 non-null  object \n",
      " 12  bStep            429013 non-null  object \n",
      " 13  onlineStatus     429013 non-null  object \n",
      " 14  availability     429013 non-null  object \n",
      " 15  customerNo       429013 non-null  object \n",
      " 16  maxVal           429013 non-null  object \n",
      " 17  customerScore    429013 non-null  object \n",
      " 18  accountLifetime  429013 non-null  object \n",
      " 19  payments         429013 non-null  object \n",
      " 20  age              429013 non-null  object \n",
      " 21  address          429013 non-null  object \n",
      " 22  lastOrder        429013 non-null  object \n",
      " 23  order            429013 non-null  object \n",
      "dtypes: float64(1), int64(5), object(18)\n",
      "memory usage: 78.6+ MB\n"
     ]
    }
   ],
   "source": [
    "df_train.info()"
   ]
  },
  {
   "cell_type": "markdown",
   "id": "632aa08f-189b-42ef-94d1-9038e13f9aa2",
   "metadata": {},
   "source": [
    "## Reformat data types + handle missing values"
   ]
  },
  {
   "cell_type": "code",
   "execution_count": 9,
   "id": "b27c0fae-3f35-4458-918d-238d4ad0e425",
   "metadata": {},
   "outputs": [
    {
     "name": "stdout",
     "output_type": "stream",
     "text": [
      "Preview of sessionNo\n",
      "[49996, 49997, 49998, 49999, 50000]\n",
      "--------------------------------\n",
      "Preview of startHour\n",
      "[1, 2, 3, 4, 5]\n",
      "--------------------------------\n",
      "Preview of startWeekday\n",
      "[5, 6, 7]\n",
      "--------------------------------\n",
      "Preview of duration\n",
      "[675.114, 715.341, 2961.909, 4700.383, 5988.882]\n",
      "--------------------------------\n",
      "Preview of cCount\n",
      "[134, 164, 183, 189, 199]\n",
      "--------------------------------\n",
      "Preview of cMinPrice\n",
      "['14.96', '159.2', '175.0', '29.75', '5.4']\n",
      "--------------------------------\n",
      "Preview of cMaxPrice\n",
      "['175.0', '201.99', '225.0', '35.9', '809.9']\n",
      "--------------------------------\n",
      "Preview of cSumPrice\n",
      "['2974.6', '4297.08', '4315.03', '5253.28', '667.88']\n",
      "--------------------------------\n",
      "Preview of bCount\n",
      "[104, 105, 106, 107, 108]\n",
      "--------------------------------\n",
      "Preview of bMinPrice\n",
      "['175.0', '2999.99', '39.16', '5.4', '52.4']\n",
      "--------------------------------\n",
      "Preview of bMaxPrice\n",
      "['175.0', '34.5', '35.9', '5.4', '52.4']\n",
      "--------------------------------\n",
      "Preview of bSumPrice\n",
      "['21.64', '211.86', '30.59', '306.94', '85.86']\n",
      "--------------------------------\n",
      "Preview of bStep\n",
      "['1', '2', '3', '4', '5']\n",
      "--------------------------------\n",
      "Preview of onlineStatus\n",
      "['?', 'n', 'y']\n",
      "--------------------------------\n",
      "Preview of availability\n",
      "['completely not determinable', 'mainly not determinable', 'mainly not orderable', 'mainly orderable', 'mixed']\n",
      "--------------------------------\n",
      "Preview of customerNo\n",
      "['25034', '25035', '25036', '25037', '25038']\n",
      "--------------------------------\n",
      "Preview of maxVal\n",
      "['14600', '22100', '26700', '8300', '8700']\n",
      "--------------------------------\n",
      "Preview of customerScore\n",
      "['294', '318', '339', '343', '615']\n",
      "--------------------------------\n",
      "Preview of accountLifetime\n",
      "['515', '518', '521', '527', '600']\n",
      "--------------------------------\n",
      "Preview of payments\n",
      "['136', '213', '273', '304', '307']\n",
      "--------------------------------\n",
      "Preview of age\n",
      "['88', '89', '92', '93', '99']\n",
      "--------------------------------\n",
      "Preview of address\n",
      "['1', '2', '3', '?']\n",
      "--------------------------------\n",
      "Preview of lastOrder\n",
      "['464', '490', '508', '647', '662']\n",
      "--------------------------------\n",
      "Preview of order\n",
      "['n', 'y']\n",
      "--------------------------------\n"
     ]
    }
   ],
   "source": [
    "for col in df_train.columns:\n",
    "    print(f\"Preview of {col}\")\n",
    "    print(sorted(df_train[col].unique()[-5:]))\n",
    "    print(\"--------------------------------\")\n",
    "    \n",
    "    ## replace missing value with a numeric value, e.g., -99\n",
    "    mask = (df_train[col] == '?')\n",
    "    df_train.loc[mask, col] = -99"
   ]
  },
  {
   "cell_type": "code",
   "execution_count": 10,
   "id": "c25fc36f-e4f6-4319-943a-beda035d2eac",
   "metadata": {},
   "outputs": [],
   "source": [
    "# then, convert to numeric\n",
    "numeric_column_list = [\n",
    "    'startHour', 'startWeekday', 'duration', 'cCount',\n",
    "   'cMinPrice', 'cMaxPrice', 'cSumPrice', 'bCount', 'bMinPrice',\n",
    "   'bMaxPrice', 'bSumPrice', 'bStep',\n",
    "   'customerNo', 'maxVal', 'customerScore', 'accountLifetime', 'payments',\n",
    "   'age', 'address', 'lastOrder'\n",
    "]\n",
    "\n",
    "for col in numeric_column_list:\n",
    "    df_train[col] = df_train[col].astype(float)"
   ]
  },
  {
   "cell_type": "code",
   "execution_count": 14,
   "id": "3b210fc1-4793-413f-9845-b95435d0b9f5",
   "metadata": {},
   "outputs": [],
   "source": [
    "for col in ['onlineStatus','order']:\n",
    "    condition_list = [\n",
    "        (df_train[col] == 'y'),\n",
    "        (df_train[col] == 'n'),\n",
    "    ]\n",
    "    choice_list = [\n",
    "        1,\n",
    "        0\n",
    "    ]\n",
    "    df_train[col] = np.select(condition_list, choice_list, default=df_train[col])"
   ]
  },
  {
   "cell_type": "code",
   "execution_count": 15,
   "id": "89ddf525-5189-4a8f-89ef-e08de9b2109f",
   "metadata": {},
   "outputs": [
    {
     "data": {
      "text/plain": [
       "1    0.67604\n",
       "0    0.32396\n",
       "Name: order, dtype: float64"
      ]
     },
     "execution_count": 15,
     "metadata": {},
     "output_type": "execute_result"
    }
   ],
   "source": [
    "df_train['order'].value_counts(True)"
   ]
  },
  {
   "cell_type": "code",
   "execution_count": 16,
   "id": "e98190a3-91e1-45d1-82bc-0b79aa45a9b0",
   "metadata": {},
   "outputs": [
    {
     "data": {
      "text/plain": [
       "-99.0    191333\n",
       " 1.0      90058\n",
       " 2.0      60682\n",
       " 4.0      41142\n",
       " 3.0      30062\n",
       " 5.0      15736\n",
       "Name: bStep, dtype: int64"
      ]
     },
     "execution_count": 16,
     "metadata": {},
     "output_type": "execute_result"
    }
   ],
   "source": [
    "df_train['bStep'].value_counts()"
   ]
  },
  {
   "cell_type": "code",
   "execution_count": 17,
   "id": "f442b7b4-84e6-4da1-994e-db89b089eed5",
   "metadata": {},
   "outputs": [
    {
     "data": {
      "text/plain": [
       "sessionNo              1\n",
       "startHour            6.0\n",
       "startWeekday         5.0\n",
       "duration             0.0\n",
       "cCount               1.0\n",
       "cMinPrice          59.99\n",
       "cMaxPrice          59.99\n",
       "cSumPrice          59.99\n",
       "bCount               1.0\n",
       "bMinPrice          59.99\n",
       "bMaxPrice          59.99\n",
       "bSumPrice          59.99\n",
       "bStep              -99.0\n",
       "onlineStatus         -99\n",
       "availability         -99\n",
       "customerNo           1.0\n",
       "maxVal             600.0\n",
       "customerScore       70.0\n",
       "accountLifetime     21.0\n",
       "payments             1.0\n",
       "age                 43.0\n",
       "address              1.0\n",
       "lastOrder           49.0\n",
       "order                  1\n",
       "Name: 0, dtype: object"
      ]
     },
     "execution_count": 17,
     "metadata": {},
     "output_type": "execute_result"
    }
   ],
   "source": [
    "df_train.iloc[0]"
   ]
  },
  {
   "cell_type": "code",
   "execution_count": 19,
   "id": "4fc01f70-0897-448d-b88f-f459a4ae5f04",
   "metadata": {},
   "outputs": [],
   "source": [
    "SAVE_DATA = False\n",
    "\n",
    "if SAVE_DATA:\n",
    "    output_train_path = os.path.join(\n",
    "        '..',\n",
    "        'dataset',\n",
    "        'preprocessed',\n",
    "        'transact_train.csv'\n",
    "    )\n",
    "    df_train.to_csv(output_train_path, index=False)"
   ]
  },
  {
   "cell_type": "markdown",
   "id": "4228cc2b-a6da-4f42-af00-78a282aee79c",
   "metadata": {},
   "source": [
    "## Exploratory Analysis"
   ]
  },
  {
   "cell_type": "code",
   "execution_count": 21,
   "id": "d4458ee0-5a82-4438-bd4c-cf9bcaa9beec",
   "metadata": {},
   "outputs": [
    {
     "data": {
      "text/plain": [
       "Index(['sessionNo', 'startHour', 'startWeekday', 'duration', 'cCount',\n",
       "       'cMinPrice', 'cMaxPrice', 'cSumPrice', 'bCount', 'bMinPrice',\n",
       "       'bMaxPrice', 'bSumPrice', 'bStep', 'onlineStatus', 'availability',\n",
       "       'customerNo', 'maxVal', 'customerScore', 'accountLifetime', 'payments',\n",
       "       'age', 'address', 'lastOrder', 'order'],\n",
       "      dtype='object')"
      ]
     },
     "execution_count": 21,
     "metadata": {},
     "output_type": "execute_result"
    }
   ],
   "source": [
    "df_train.columns"
   ]
  },
  {
   "cell_type": "code",
   "execution_count": null,
   "id": "a606cd6e-00df-43af-b31f-9e9c24680ece",
   "metadata": {},
   "outputs": [],
   "source": []
  }
 ],
 "metadata": {
  "kernelspec": {
   "display_name": "Python 3 (ipykernel)",
   "language": "python",
   "name": "python3"
  },
  "language_info": {
   "codemirror_mode": {
    "name": "ipython",
    "version": 3
   },
   "file_extension": ".py",
   "mimetype": "text/x-python",
   "name": "python",
   "nbconvert_exporter": "python",
   "pygments_lexer": "ipython3",
   "version": "3.8.10"
  }
 },
 "nbformat": 4,
 "nbformat_minor": 5
}
