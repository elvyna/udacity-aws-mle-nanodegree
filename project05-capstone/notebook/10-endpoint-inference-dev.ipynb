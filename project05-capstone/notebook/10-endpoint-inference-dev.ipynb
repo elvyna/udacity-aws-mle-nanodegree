{
 "cells": [
  {
   "cell_type": "markdown",
   "id": "ed53e4fe-9c1d-41f3-9544-cc625e31da22",
   "metadata": {},
   "source": [
    "# Notes\n",
    "\n",
    "This notebook is used as a prototype for the inference script for Sagemaker Endpoint."
   ]
  },
  {
   "cell_type": "code",
   "execution_count": 1,
   "id": "9ec19562-8762-479e-a1c0-1c123640020b",
   "metadata": {},
   "outputs": [
    {
     "name": "stdout",
     "output_type": "stream",
     "text": [
      "Requirement already satisfied: scikit-learn==0.20 in /home/elvyna/miniconda3/envs/py37/lib/python3.7/site-packages (0.20.0)\n",
      "Requirement already satisfied: scipy>=0.13.3 in /home/elvyna/miniconda3/envs/py37/lib/python3.7/site-packages (from scikit-learn==0.20) (1.5.3)\n",
      "Requirement already satisfied: numpy>=1.8.2 in /home/elvyna/miniconda3/envs/py37/lib/python3.7/site-packages (from scikit-learn==0.20) (1.21.2)\n"
     ]
    }
   ],
   "source": [
    "!pip install -U scikit-learn==0.20"
   ]
  },
  {
   "cell_type": "code",
   "execution_count": 2,
   "id": "1463fdd4-6c7d-49eb-a081-af683da22e49",
   "metadata": {},
   "outputs": [
    {
     "name": "stderr",
     "output_type": "stream",
     "text": [
      "/home/elvyna/miniconda3/envs/py37/lib/python3.7/site-packages/sklearn/ensemble/gradient_boosting.py:34: DeprecationWarning: `np.bool` is a deprecated alias for the builtin `bool`. To silence this warning, use `bool` by itself. Doing this will not modify any behavior and is safe. If you specifically wanted the numpy scalar type, use `np.bool_` here.\n",
      "Deprecated in NumPy 1.20; for more details and guidance: https://numpy.org/devdocs/release/1.20.0-notes.html#deprecations\n",
      "  from ._gradient_boosting import predict_stages\n",
      "/home/elvyna/miniconda3/envs/py37/lib/python3.7/site-packages/sklearn/ensemble/gradient_boosting.py:34: DeprecationWarning: `np.bool` is a deprecated alias for the builtin `bool`. To silence this warning, use `bool` by itself. Doing this will not modify any behavior and is safe. If you specifically wanted the numpy scalar type, use `np.bool_` here.\n",
      "Deprecated in NumPy 1.20; for more details and guidance: https://numpy.org/devdocs/release/1.20.0-notes.html#deprecations\n",
      "  from ._gradient_boosting import predict_stages\n"
     ]
    }
   ],
   "source": [
    "import json\n",
    "import logging\n",
    "import sys\n",
    "import os\n",
    "from sklearn.ensemble import RandomForestClassifier\n",
    "import pandas as pd\n",
    "import numpy as np\n",
    "import pickle\n",
    "from io import StringIO \n",
    "\n",
    "logging.basicConfig(\n",
    "    format=\"%(filename)s %(asctime)s %(levelname)s Line no: %(lineno)d %(message)s\",\n",
    "    datefmt=\"%Y-%m-%d %H:%M:%S%z\",\n",
    "    level=logging.INFO,\n",
    ")\n",
    "log = logging.getLogger(__name__)\n",
    "\n",
    "log.addHandler(logging.StreamHandler(sys.stdout))\n",
    "\n",
    "JSON_CONTENT_TYPE = \"application/json\"\n",
    "NUMPY_CONTENT_TYPE = \"application/x-npy\"\n",
    "CSV_CONTENT_TYPE = \"text/csv\""
   ]
  },
  {
   "cell_type": "code",
   "execution_count": 3,
   "id": "a6a69a8e-a3fc-42b3-9a29-40757e887082",
   "metadata": {},
   "outputs": [],
   "source": [
    "def determine_time_of_day(df: pd.DataFrame, column_name: str) -> pd.DataFrame:\n",
    "    \"\"\"\n",
    "    Determine time of day based on hour of the day.\n",
    "    Time of day: early morning, morning, afternoon, or evening.\n",
    "\n",
    "    :param df: input dataframe to be processed\n",
    "    :type df: pd.DataFrame\n",
    "    :param column_name: column that stores hour of day\n",
    "    :type column_name: str\n",
    "    :return: input dataframe with additional time_of_day column\n",
    "    :rtype: pd.DataFrame\n",
    "    \"\"\"\n",
    "    condition_list = [\n",
    "        ((df[column_name] >= 0) & (df[column_name] < 6)),\n",
    "        ((df[column_name] >= 6) & (df[column_name] < 12)),\n",
    "        ((df[column_name] >= 12) & (df[column_name] < 18)),\n",
    "        ((df[column_name] >= 18) & (df[column_name] < 25)),\n",
    "    ]\n",
    "\n",
    "    choice_list = [\"early_morning\", \"morning\", \"afternoon\", \"evening\"]\n",
    "\n",
    "    df[\"time_of_day\"] = np.select(condition_list, choice_list, default=\"unknown\")\n",
    "    return df\n",
    "\n",
    "\n",
    "def preprocess_input(df_test):\n",
    "    ## convert '?' into -99\n",
    "    ## reformat data types\n",
    "    for col in df_test.columns:\n",
    "        ## replace missing value with a numeric value, e.g., -99\n",
    "        mask = df_test[col] == \"?\"\n",
    "        df_test.loc[mask, col] = -99\n",
    "\n",
    "    ## reformat data types\n",
    "    # then, convert to numeric\n",
    "    numeric_column_list = [\n",
    "        \"startHour\",\n",
    "        \"startWeekday\",\n",
    "        \"duration\",\n",
    "        \"cCount\",\n",
    "        \"cMinPrice\",\n",
    "        \"cMaxPrice\",\n",
    "        \"cSumPrice\",\n",
    "        \"bCount\",\n",
    "        \"bMinPrice\",\n",
    "        \"bMaxPrice\",\n",
    "        \"bSumPrice\",\n",
    "        \"bStep\",\n",
    "        \"customerNo\",\n",
    "        \"maxVal\",\n",
    "        \"customerScore\",\n",
    "        \"accountLifetime\",\n",
    "        \"payments\",\n",
    "        \"age\",\n",
    "        \"address\",\n",
    "        \"lastOrder\",\n",
    "    ]\n",
    "\n",
    "    for col in numeric_column_list:\n",
    "        df_test[col] = df_test[col].astype(float)\n",
    "\n",
    "    condition_list = [\n",
    "        (df_test[\"onlineStatus\"] == \"y\"),\n",
    "        (df_test[\"onlineStatus\"] == \"n\"),\n",
    "    ]\n",
    "    choice_list = [1, 0]\n",
    "    df_test[\"onlineStatus\"] = np.select(\n",
    "        condition_list, choice_list, default=df_test[\"onlineStatus\"]\n",
    "    )\n",
    "\n",
    "    df_test[\"address\"] = df_test[\"address\"].astype(int)\n",
    "\n",
    "    ## remove ID columns\n",
    "    df_test.drop(labels=[\"sessionNo\", \"customerNo\"], axis=1, inplace=True)\n",
    "\n",
    "    ## determine time of day\n",
    "    df_test = determine_time_of_day(df=df_test, column_name=\"startHour\")\n",
    "\n",
    "    ## one hot encoding\n",
    "    selected_feature_list = [\"availability\", \"address\", \"time_of_day\", \"onlineStatus\"]\n",
    "    for selected_feature in selected_feature_list:\n",
    "        df_dummy_values = pd.get_dummies(df_test[selected_feature])\n",
    "        df_dummy_values.columns = [\n",
    "            selected_feature.replace(\" \", \"_\") + \"_\" + str(col)\n",
    "            for col in df_dummy_values.columns\n",
    "        ]\n",
    "        df_test = pd.concat([df_test, df_dummy_values], axis=1)\n",
    "        ## remove redundant features - we've done one hot encoding\n",
    "        df_test.drop(labels=selected_feature, axis=1, inplace=True)\n",
    "\n",
    "    ## reformat\n",
    "    categorical_feature_list = [\n",
    "        \"availability_-99\",\n",
    "        \"availability_completely_not_determinable\",\n",
    "        \"availability_completely_not_orderable\",\n",
    "        \"availability_completely_orderable\",\n",
    "        \"availability_mainly_not_determinable\",\n",
    "        \"availability_mainly_not_orderable\",\n",
    "        \"availability_mainly_orderable\",\n",
    "        \"address_-99\",\n",
    "        \"address_1\",\n",
    "        \"address_2\",\n",
    "        \"time_of_day_afternoon\",\n",
    "        \"time_of_day_early_morning\",\n",
    "        \"time_of_day_evening\",\n",
    "        \"onlineStatus_-99\",\n",
    "        \"onlineStatus_0\",\n",
    "    ]\n",
    "\n",
    "    for col in categorical_feature_list:\n",
    "        try:\n",
    "            df_test[col] = df_test[col].astype(int)\n",
    "        except:\n",
    "            df_test[col] = 0\n",
    "\n",
    "    return df_test"
   ]
  },
  {
   "cell_type": "code",
   "execution_count": 4,
   "id": "de1d9e97-18c7-4baf-80c8-9f5238f9c499",
   "metadata": {},
   "outputs": [],
   "source": [
    "def model_fn(model_dir):\n",
    "    log.info(f\"In model_fn. Model directory is {model_dir}\")\n",
    "\n",
    "    model_file_path = os.path.join(model_dir, \"model.pkl\")\n",
    "\n",
    "    log.info(f\"Loading the model from {model_file_path}\")\n",
    "    with open(model_file_path, \"rb\") as f:\n",
    "        model_clf = pickle.load(f)\n",
    "\n",
    "    log.info(f\"Model is successfully loaded from {model_file_path}\")\n",
    "\n",
    "    return model_clf"
   ]
  },
  {
   "cell_type": "code",
   "execution_count": 27,
   "id": "c352ea80-abc2-4c10-9e76-d9dd6e97200a",
   "metadata": {},
   "outputs": [],
   "source": [
    "def input_fn(request_body, content_type):\n",
    "    assert (\n",
    "        content_type in [JSON_CONTENT_TYPE, CSV_CONTENT_TYPE, NUMPY_CONTENT_TYPE]\n",
    "    ), f\"Request has an unsupported ContentType in content_type: {content_type}\"\n",
    "\n",
    "    log.info(f\"Request body CONTENT-TYPE is: {content_type}\")\n",
    "    log.info(f\"Request body TYPE is: {type(request_body)}\")\n",
    "    \n",
    "    log.info(\"Deserializing the input data.\")\n",
    "    log.info(f\"Request body is: {request_body}\")\n",
    "    \n",
    "    try:\n",
    "        if content_type == JSON_CONTENT_TYPE:\n",
    "            ## convert input json object as a dataframe of one row\n",
    "            request = json.loads(request_body)\n",
    "            log.info(f\"Loaded JSON object: {request}\")\n",
    "            df_test = pd.json_normalize(request)\n",
    "        elif content_type == NUMPY_CONTENT_TYPE:\n",
    "            request_body = request_body.decode('utf-8')\n",
    "            request = np.load(request_body)\n",
    "            log.info(f\"Loaded JSON object: {request}\")\n",
    "            df_test = pd.DataFrame(request)\n",
    "        elif content_type == CSV_CONTENT_TYPE:\n",
    "            # data = request_body.decode('utf-8')\n",
    "            # s = StringIO.StringIO(data)\n",
    "            # s = StringIO(request_body)\n",
    "            # df_test = pd.read_csv(s, header=None)\n",
    "            df_test = pd.DataFrame(request_body)\n",
    "            \n",
    "        df_test = preprocess_input(df_test=df_test)\n",
    "    except Exception as e:\n",
    "        log.info(e)\n",
    "        df_test = pd.read_csv(request_body)\n",
    "        df_test = preprocess_input(df_test=request_body)\n",
    "        \n",
    "    return df_test"
   ]
  },
  {
   "cell_type": "code",
   "execution_count": 14,
   "id": "b8416ca0-3a19-494d-bdf7-349f37128b28",
   "metadata": {},
   "outputs": [],
   "source": [
    "# inference\n",
    "def predict_fn(input_object, model):\n",
    "    log.info(\"In predict_fn\")\n",
    "\n",
    "    log.info(\"Calling model\")\n",
    "    feature_name_list = model.feature_names\n",
    "    prediction = model.predict(input_object[feature_name_list])\n",
    "\n",
    "    return prediction"
   ]
  },
  {
   "cell_type": "markdown",
   "id": "4623e18d-5b61-45d0-ae45-267c2031096d",
   "metadata": {},
   "source": [
    "Here, we pass a JSON object as the test data."
   ]
  },
  {
   "cell_type": "code",
   "execution_count": 15,
   "id": "768327c4-0553-4914-a1e2-f90e3130a0ad",
   "metadata": {},
   "outputs": [
    {
     "name": "stdout",
     "output_type": "stream",
     "text": [
      "In model_fn. Model directory is ../model/\n"
     ]
    },
    {
     "name": "stderr",
     "output_type": "stream",
     "text": [
      "4092385979.py 2022-01-06 13:51:22+1300 INFO Line no: 2 In model_fn. Model directory is ../model/\n"
     ]
    },
    {
     "name": "stdout",
     "output_type": "stream",
     "text": [
      "Loading the model from ../model/model.pkl\n"
     ]
    },
    {
     "name": "stderr",
     "output_type": "stream",
     "text": [
      "4092385979.py 2022-01-06 13:51:22+1300 INFO Line no: 6 Loading the model from ../model/model.pkl\n"
     ]
    },
    {
     "name": "stdout",
     "output_type": "stream",
     "text": [
      "Model is successfully loaded from ../model/model.pkl\n"
     ]
    },
    {
     "name": "stderr",
     "output_type": "stream",
     "text": [
      "4092385979.py 2022-01-06 13:51:23+1300 INFO Line no: 10 Model is successfully loaded from ../model/model.pkl\n"
     ]
    },
    {
     "name": "stdout",
     "output_type": "stream",
     "text": [
      "Request body CONTENT-TYPE is: application/json\n"
     ]
    },
    {
     "name": "stderr",
     "output_type": "stream",
     "text": [
      "498457568.py 2022-01-06 13:51:23+1300 INFO Line no: 6 Request body CONTENT-TYPE is: application/json\n"
     ]
    },
    {
     "name": "stdout",
     "output_type": "stream",
     "text": [
      "Request body TYPE is: <class 'str'>\n"
     ]
    },
    {
     "name": "stderr",
     "output_type": "stream",
     "text": [
      "498457568.py 2022-01-06 13:51:23+1300 INFO Line no: 7 Request body TYPE is: <class 'str'>\n"
     ]
    },
    {
     "name": "stdout",
     "output_type": "stream",
     "text": [
      "Deserializing the input data.\n"
     ]
    },
    {
     "name": "stderr",
     "output_type": "stream",
     "text": [
      "498457568.py 2022-01-06 13:51:23+1300 INFO Line no: 9 Deserializing the input data.\n"
     ]
    },
    {
     "name": "stdout",
     "output_type": "stream",
     "text": [
      "Request body is: {\"sessionNo\": 101, \"startHour\": 4, \"startWeekday\": 7, \"duration\": 0, \"cCount\": 2, \"cMinPrice\": 30, \"cMaxPrice\": 40, \"cSumPrice\": 70, \"bCount\": 1, \"bMinPrice\": 30, \"bMaxPrice\": 30, \"bSumPrice\": 30, \"bStep\": \"?\", \"onlineStatus\": \"?\", \"availability\": \"?\", \"customerNo\": 39, \"maxVal\": 200, \"customerScore\": 65, \"accountLifetime\": 30, \"payments\": 2, \"age\": 39, \"address\": 1, \"lastOrder\": 30}\n"
     ]
    },
    {
     "name": "stderr",
     "output_type": "stream",
     "text": [
      "498457568.py 2022-01-06 13:51:23+1300 INFO Line no: 10 Request body is: {\"sessionNo\": 101, \"startHour\": 4, \"startWeekday\": 7, \"duration\": 0, \"cCount\": 2, \"cMinPrice\": 30, \"cMaxPrice\": 40, \"cSumPrice\": 70, \"bCount\": 1, \"bMinPrice\": 30, \"bMaxPrice\": 30, \"bSumPrice\": 30, \"bStep\": \"?\", \"onlineStatus\": \"?\", \"availability\": \"?\", \"customerNo\": 39, \"maxVal\": 200, \"customerScore\": 65, \"accountLifetime\": 30, \"payments\": 2, \"age\": 39, \"address\": 1, \"lastOrder\": 30}\n"
     ]
    },
    {
     "name": "stdout",
     "output_type": "stream",
     "text": [
      "Loaded JSON object: {'sessionNo': 101, 'startHour': 4, 'startWeekday': 7, 'duration': 0, 'cCount': 2, 'cMinPrice': 30, 'cMaxPrice': 40, 'cSumPrice': 70, 'bCount': 1, 'bMinPrice': 30, 'bMaxPrice': 30, 'bSumPrice': 30, 'bStep': '?', 'onlineStatus': '?', 'availability': '?', 'customerNo': 39, 'maxVal': 200, 'customerScore': 65, 'accountLifetime': 30, 'payments': 2, 'age': 39, 'address': 1, 'lastOrder': 30}\n"
     ]
    },
    {
     "name": "stderr",
     "output_type": "stream",
     "text": [
      "498457568.py 2022-01-06 13:51:23+1300 INFO Line no: 16 Loaded JSON object: {'sessionNo': 101, 'startHour': 4, 'startWeekday': 7, 'duration': 0, 'cCount': 2, 'cMinPrice': 30, 'cMaxPrice': 40, 'cSumPrice': 70, 'bCount': 1, 'bMinPrice': 30, 'bMaxPrice': 30, 'bSumPrice': 30, 'bStep': '?', 'onlineStatus': '?', 'availability': '?', 'customerNo': 39, 'maxVal': 200, 'customerScore': 65, 'accountLifetime': 30, 'payments': 2, 'age': 39, 'address': 1, 'lastOrder': 30}\n"
     ]
    },
    {
     "name": "stdout",
     "output_type": "stream",
     "text": [
      "   startHour  startWeekday  duration  cCount  cMinPrice  cMaxPrice  cSumPrice  \\\n",
      "0        4.0           7.0       0.0     2.0       30.0       40.0       70.0   \n",
      "\n",
      "   bCount  bMinPrice  bMaxPrice  ...  availability_completely_not_orderable  \\\n",
      "0     1.0       30.0       30.0  ...                                      0   \n",
      "\n",
      "   availability_completely_orderable  availability_mainly_not_determinable  \\\n",
      "0                                  0                                     0   \n",
      "\n",
      "   availability_mainly_not_orderable  availability_mainly_orderable  \\\n",
      "0                                  0                              0   \n",
      "\n",
      "   address_-99  address_2  time_of_day_afternoon  time_of_day_evening  \\\n",
      "0            0          0                      0                    0   \n",
      "\n",
      "   onlineStatus_0  \n",
      "0               0  \n",
      "\n",
      "[1 rows x 33 columns]\n",
      "In predict_fn\n"
     ]
    },
    {
     "name": "stderr",
     "output_type": "stream",
     "text": [
      "1955181547.py 2022-01-06 13:51:23+1300 INFO Line no: 3 In predict_fn\n"
     ]
    },
    {
     "name": "stdout",
     "output_type": "stream",
     "text": [
      "Calling model\n"
     ]
    },
    {
     "name": "stderr",
     "output_type": "stream",
     "text": [
      "1955181547.py 2022-01-06 13:51:24+1300 INFO Line no: 5 Calling model\n"
     ]
    },
    {
     "name": "stdout",
     "output_type": "stream",
     "text": [
      "[0]\n"
     ]
    },
    {
     "name": "stderr",
     "output_type": "stream",
     "text": [
      "/home/elvyna/miniconda3/envs/py37/lib/python3.7/site-packages/sklearn/ensemble/base.py:158: DeprecationWarning: `np.int` is a deprecated alias for the builtin `int`. To silence this warning, use `int` by itself. Doing this will not modify any behavior and is safe. When replacing `np.int`, you may wish to use e.g. `np.int64` or `np.int32` to specify the precision. If you wish to review your current use, check the release note link for additional information.\n",
      "Deprecated in NumPy 1.20; for more details and guidance: https://numpy.org/devdocs/release/1.20.0-notes.html#deprecations\n",
      "  dtype=np.int)\n"
     ]
    }
   ],
   "source": [
    "def main():\n",
    "    model_dir = \"../model/\"\n",
    "    model = model_fn(model_dir)\n",
    "    \n",
    "    payload = {\n",
    "        \"sessionNo\": 101,\n",
    "        \"startHour\": 4,\n",
    "        \"startWeekday\": 7,\n",
    "        \"duration\": 0,\n",
    "        \"cCount\": 2,\n",
    "        \"cMinPrice\": 30,\n",
    "        \"cMaxPrice\": 40,\n",
    "        \"cSumPrice\": 70,\n",
    "        \"bCount\": 1,\n",
    "        \"bMinPrice\": 30,\n",
    "        \"bMaxPrice\": 30,\n",
    "        \"bSumPrice\": 30,\n",
    "        \"bStep\": \"?\",\n",
    "        \"onlineStatus\": \"?\",\n",
    "        \"availability\": \"?\",\n",
    "        \"customerNo\": 39,\n",
    "        \"maxVal\": 200,\n",
    "        \"customerScore\": 65,\n",
    "        \"accountLifetime\": 30,\n",
    "        \"payments\": 2,\n",
    "        \"age\": 39,\n",
    "        \"address\": 1,\n",
    "        \"lastOrder\": 30,\n",
    "    }\n",
    "    \n",
    "    request_body = json.dumps(payload)\n",
    "    content_type = 'application/json'\n",
    "    \n",
    "    df_test = input_fn(request_body, content_type)\n",
    "    \n",
    "    print(df_test.head())\n",
    "    \n",
    "    pred = predict_fn(df_test, model)\n",
    "    print(pred)\n",
    "        \n",
    "if __name__ == \"__main__\":\n",
    "    main()"
   ]
  },
  {
   "cell_type": "markdown",
   "id": "1817e2df-5c54-4b1f-a3ed-894cac065428",
   "metadata": {},
   "source": [
    "Pass CSV input - not working yet. Might need to adjust the inference logic (e.g., hard-code the feature names since the input is comma-separated values without headers -- currently we assume it's a CSV file)."
   ]
  },
  {
   "cell_type": "code",
   "execution_count": 29,
   "id": "ba084ccd-d448-4d0b-990f-587e542cab58",
   "metadata": {},
   "outputs": [
    {
     "data": {
      "text/html": [
       "<div>\n",
       "<style scoped>\n",
       "    .dataframe tbody tr th:only-of-type {\n",
       "        vertical-align: middle;\n",
       "    }\n",
       "\n",
       "    .dataframe tbody tr th {\n",
       "        vertical-align: top;\n",
       "    }\n",
       "\n",
       "    .dataframe thead th {\n",
       "        text-align: right;\n",
       "    }\n",
       "</style>\n",
       "<table border=\"1\" class=\"dataframe\">\n",
       "  <thead>\n",
       "    <tr style=\"text-align: right;\">\n",
       "      <th></th>\n",
       "      <th>startHour</th>\n",
       "      <th>startWeekday</th>\n",
       "      <th>duration</th>\n",
       "      <th>cCount</th>\n",
       "      <th>cMinPrice</th>\n",
       "      <th>cMaxPrice</th>\n",
       "      <th>cSumPrice</th>\n",
       "      <th>bCount</th>\n",
       "      <th>bMinPrice</th>\n",
       "      <th>bMaxPrice</th>\n",
       "      <th>...</th>\n",
       "      <th>payments</th>\n",
       "      <th>age</th>\n",
       "      <th>lastOrder</th>\n",
       "      <th>availability_completely_orderable</th>\n",
       "      <th>address_1</th>\n",
       "      <th>address_2</th>\n",
       "      <th>time_of_day_afternoon</th>\n",
       "      <th>time_of_day_evening</th>\n",
       "      <th>onlineStatus_-99</th>\n",
       "      <th>order</th>\n",
       "    </tr>\n",
       "  </thead>\n",
       "  <tbody>\n",
       "    <tr>\n",
       "      <th>3574</th>\n",
       "      <td>15.0</td>\n",
       "      <td>6.0</td>\n",
       "      <td>480.320</td>\n",
       "      <td>12.0</td>\n",
       "      <td>9.99</td>\n",
       "      <td>44.99</td>\n",
       "      <td>343.88</td>\n",
       "      <td>12.0</td>\n",
       "      <td>9.99</td>\n",
       "      <td>44.99</td>\n",
       "      <td>...</td>\n",
       "      <td>18.0</td>\n",
       "      <td>33.0</td>\n",
       "      <td>14.0</td>\n",
       "      <td>1</td>\n",
       "      <td>0</td>\n",
       "      <td>1</td>\n",
       "      <td>1</td>\n",
       "      <td>0</td>\n",
       "      <td>0</td>\n",
       "      <td>1</td>\n",
       "    </tr>\n",
       "    <tr>\n",
       "      <th>84644</th>\n",
       "      <td>17.0</td>\n",
       "      <td>7.0</td>\n",
       "      <td>3547.480</td>\n",
       "      <td>30.0</td>\n",
       "      <td>3.99</td>\n",
       "      <td>29.99</td>\n",
       "      <td>430.55</td>\n",
       "      <td>5.0</td>\n",
       "      <td>3.99</td>\n",
       "      <td>20.00</td>\n",
       "      <td>...</td>\n",
       "      <td>3.0</td>\n",
       "      <td>54.0</td>\n",
       "      <td>8.0</td>\n",
       "      <td>1</td>\n",
       "      <td>0</td>\n",
       "      <td>1</td>\n",
       "      <td>1</td>\n",
       "      <td>0</td>\n",
       "      <td>0</td>\n",
       "      <td>1</td>\n",
       "    </tr>\n",
       "    <tr>\n",
       "      <th>123897</th>\n",
       "      <td>15.0</td>\n",
       "      <td>7.0</td>\n",
       "      <td>690.174</td>\n",
       "      <td>4.0</td>\n",
       "      <td>14.99</td>\n",
       "      <td>14.99</td>\n",
       "      <td>59.96</td>\n",
       "      <td>1.0</td>\n",
       "      <td>14.99</td>\n",
       "      <td>14.99</td>\n",
       "      <td>...</td>\n",
       "      <td>-99.0</td>\n",
       "      <td>-99.0</td>\n",
       "      <td>-99.0</td>\n",
       "      <td>1</td>\n",
       "      <td>0</td>\n",
       "      <td>0</td>\n",
       "      <td>1</td>\n",
       "      <td>0</td>\n",
       "      <td>0</td>\n",
       "      <td>0</td>\n",
       "    </tr>\n",
       "    <tr>\n",
       "      <th>126160</th>\n",
       "      <td>10.0</td>\n",
       "      <td>5.0</td>\n",
       "      <td>595.122</td>\n",
       "      <td>10.0</td>\n",
       "      <td>5.99</td>\n",
       "      <td>24.99</td>\n",
       "      <td>154.92</td>\n",
       "      <td>4.0</td>\n",
       "      <td>22.99</td>\n",
       "      <td>24.99</td>\n",
       "      <td>...</td>\n",
       "      <td>9.0</td>\n",
       "      <td>49.0</td>\n",
       "      <td>11.0</td>\n",
       "      <td>1</td>\n",
       "      <td>0</td>\n",
       "      <td>1</td>\n",
       "      <td>0</td>\n",
       "      <td>0</td>\n",
       "      <td>0</td>\n",
       "      <td>1</td>\n",
       "    </tr>\n",
       "    <tr>\n",
       "      <th>27919</th>\n",
       "      <td>18.0</td>\n",
       "      <td>6.0</td>\n",
       "      <td>1302.851</td>\n",
       "      <td>13.0</td>\n",
       "      <td>29.99</td>\n",
       "      <td>59.95</td>\n",
       "      <td>719.43</td>\n",
       "      <td>3.0</td>\n",
       "      <td>59.95</td>\n",
       "      <td>59.95</td>\n",
       "      <td>...</td>\n",
       "      <td>23.0</td>\n",
       "      <td>47.0</td>\n",
       "      <td>6.0</td>\n",
       "      <td>1</td>\n",
       "      <td>0</td>\n",
       "      <td>1</td>\n",
       "      <td>0</td>\n",
       "      <td>1</td>\n",
       "      <td>0</td>\n",
       "      <td>1</td>\n",
       "    </tr>\n",
       "  </tbody>\n",
       "</table>\n",
       "<p>5 rows × 25 columns</p>\n",
       "</div>"
      ],
      "text/plain": [
       "        startHour  startWeekday  duration  cCount  cMinPrice  cMaxPrice  \\\n",
       "3574         15.0           6.0   480.320    12.0       9.99      44.99   \n",
       "84644        17.0           7.0  3547.480    30.0       3.99      29.99   \n",
       "123897       15.0           7.0   690.174     4.0      14.99      14.99   \n",
       "126160       10.0           5.0   595.122    10.0       5.99      24.99   \n",
       "27919        18.0           6.0  1302.851    13.0      29.99      59.95   \n",
       "\n",
       "        cSumPrice  bCount  bMinPrice  bMaxPrice  ...  payments   age  \\\n",
       "3574       343.88    12.0       9.99      44.99  ...      18.0  33.0   \n",
       "84644      430.55     5.0       3.99      20.00  ...       3.0  54.0   \n",
       "123897      59.96     1.0      14.99      14.99  ...     -99.0 -99.0   \n",
       "126160     154.92     4.0      22.99      24.99  ...       9.0  49.0   \n",
       "27919      719.43     3.0      59.95      59.95  ...      23.0  47.0   \n",
       "\n",
       "        lastOrder  availability_completely_orderable  address_1  address_2  \\\n",
       "3574         14.0                                  1          0          1   \n",
       "84644         8.0                                  1          0          1   \n",
       "123897      -99.0                                  1          0          0   \n",
       "126160       11.0                                  1          0          1   \n",
       "27919         6.0                                  1          0          1   \n",
       "\n",
       "        time_of_day_afternoon  time_of_day_evening  onlineStatus_-99  order  \n",
       "3574                        1                    0                 0      1  \n",
       "84644                       1                    0                 0      1  \n",
       "123897                      1                    0                 0      0  \n",
       "126160                      0                    0                 0      1  \n",
       "27919                       0                    1                 0      1  \n",
       "\n",
       "[5 rows x 25 columns]"
      ]
     },
     "execution_count": 29,
     "metadata": {},
     "output_type": "execute_result"
    }
   ],
   "source": [
    "test_file_path = os.path.join(\n",
    "    '..',\n",
    "    'dataset',\n",
    "    'feature-engineering',\n",
    "    'df_test_rfe.csv'\n",
    ")\n",
    "df_input = pd.read_csv(test_file_path).sample(5)"
   ]
  },
  {
   "cell_type": "code",
   "execution_count": 38,
   "id": "bf2ca268-e72e-4852-9023-fdb543a07a76",
   "metadata": {},
   "outputs": [
    {
     "data": {
      "text/plain": [
       "'15.0, 6.0, 480.32, 12.0, 9.99, 44.99, 343.88, 12.0, 9.99, 44.99, 343.88, 2.0, 2600.0, 522.0, 100.0, 18.0, 33.0, 14.0, 1.0, 0.0, 1.0, 1.0, 0.0, 0.0, 1.0'"
      ]
     },
     "execution_count": 38,
     "metadata": {},
     "output_type": "execute_result"
    }
   ],
   "source": [
    "', '.join([str(elem) for elem in df_input.iloc[0].values.tolist()])"
   ]
  },
  {
   "cell_type": "code",
   "execution_count": 28,
   "id": "c3c6830f-2ecf-4692-afe9-d4ec4d224c92",
   "metadata": {},
   "outputs": [
    {
     "name": "stdout",
     "output_type": "stream",
     "text": [
      "In model_fn. Model directory is ../model/\n"
     ]
    },
    {
     "name": "stderr",
     "output_type": "stream",
     "text": [
      "4092385979.py 2022-01-06 14:13:10+1300 INFO Line no: 2 In model_fn. Model directory is ../model/\n"
     ]
    },
    {
     "name": "stdout",
     "output_type": "stream",
     "text": [
      "Loading the model from ../model/model.pkl\n"
     ]
    },
    {
     "name": "stderr",
     "output_type": "stream",
     "text": [
      "4092385979.py 2022-01-06 14:13:10+1300 INFO Line no: 6 Loading the model from ../model/model.pkl\n"
     ]
    },
    {
     "name": "stdout",
     "output_type": "stream",
     "text": [
      "Model is successfully loaded from ../model/model.pkl\n"
     ]
    },
    {
     "name": "stderr",
     "output_type": "stream",
     "text": [
      "4092385979.py 2022-01-06 14:13:11+1300 INFO Line no: 10 Model is successfully loaded from ../model/model.pkl\n"
     ]
    },
    {
     "name": "stdout",
     "output_type": "stream",
     "text": [
      "Request body CONTENT-TYPE is: text/csv\n"
     ]
    },
    {
     "name": "stderr",
     "output_type": "stream",
     "text": [
      "2071135398.py 2022-01-06 14:13:11+1300 INFO Line no: 6 Request body CONTENT-TYPE is: text/csv\n"
     ]
    },
    {
     "name": "stdout",
     "output_type": "stream",
     "text": [
      "Request body TYPE is: <class 'pandas.core.frame.DataFrame'>\n"
     ]
    },
    {
     "name": "stderr",
     "output_type": "stream",
     "text": [
      "2071135398.py 2022-01-06 14:13:11+1300 INFO Line no: 7 Request body TYPE is: <class 'pandas.core.frame.DataFrame'>\n"
     ]
    },
    {
     "name": "stdout",
     "output_type": "stream",
     "text": [
      "Deserializing the input data.\n"
     ]
    },
    {
     "name": "stderr",
     "output_type": "stream",
     "text": [
      "2071135398.py 2022-01-06 14:13:11+1300 INFO Line no: 9 Deserializing the input data.\n"
     ]
    },
    {
     "name": "stdout",
     "output_type": "stream",
     "text": [
      "Request body is:         startHour  startWeekday  duration  cCount  cMinPrice  cMaxPrice  \\\n",
      "98017        13.0           5.0  1771.885    25.0      14.99      29.99   \n",
      "69166         9.0           6.0  3816.593    85.0       8.00     239.99   \n",
      "29003        21.0           6.0  5978.640   121.0       9.99      89.95   \n",
      "101862       11.0           7.0   445.757     5.0      21.95      21.95   \n",
      "80963        16.0           5.0  3581.435    19.0       9.99      39.95   \n",
      "\n",
      "        cSumPrice  bCount  bMinPrice  bMaxPrice  ...  payments   age  \\\n",
      "98017      382.84     4.0      14.99      29.99  ...     -99.0 -99.0   \n",
      "69166     5590.75     2.0       9.99     129.99  ...      12.0  63.0   \n",
      "29003     3994.92     4.0       9.99      39.90  ...     -99.0 -99.0   \n",
      "101862      43.90     1.0      21.95      21.95  ...     -99.0 -99.0   \n",
      "80963      438.77     6.0       9.99      29.99  ...       5.0  42.0   \n",
      "\n",
      "        lastOrder  availability_completely_orderable  address_1  address_2  \\\n",
      "98017       -99.0                                  0          0          0   \n",
      "69166        79.0                                  1          1          0   \n",
      "29003       -99.0                                  1          0          0   \n",
      "101862      -99.0                                  0          0          0   \n",
      "80963        16.0                                  1          0          1   \n",
      "\n",
      "        time_of_day_afternoon  time_of_day_evening  onlineStatus_-99  order  \n",
      "98017                       1                    0                 1      1  \n",
      "69166                       0                    0                 0      1  \n",
      "29003                       0                    1                 0      1  \n",
      "101862                      0                    0                 1      0  \n",
      "80963                       1                    0                 0      1  \n",
      "\n",
      "[5 rows x 25 columns]\n"
     ]
    },
    {
     "name": "stderr",
     "output_type": "stream",
     "text": [
      "2071135398.py 2022-01-06 14:13:11+1300 INFO Line no: 10 Request body is:         startHour  startWeekday  duration  cCount  cMinPrice  cMaxPrice  \\\n",
      "98017        13.0           5.0  1771.885    25.0      14.99      29.99   \n",
      "69166         9.0           6.0  3816.593    85.0       8.00     239.99   \n",
      "29003        21.0           6.0  5978.640   121.0       9.99      89.95   \n",
      "101862       11.0           7.0   445.757     5.0      21.95      21.95   \n",
      "80963        16.0           5.0  3581.435    19.0       9.99      39.95   \n",
      "\n",
      "        cSumPrice  bCount  bMinPrice  bMaxPrice  ...  payments   age  \\\n",
      "98017      382.84     4.0      14.99      29.99  ...     -99.0 -99.0   \n",
      "69166     5590.75     2.0       9.99     129.99  ...      12.0  63.0   \n",
      "29003     3994.92     4.0       9.99      39.90  ...     -99.0 -99.0   \n",
      "101862      43.90     1.0      21.95      21.95  ...     -99.0 -99.0   \n",
      "80963      438.77     6.0       9.99      29.99  ...       5.0  42.0   \n",
      "\n",
      "        lastOrder  availability_completely_orderable  address_1  address_2  \\\n",
      "98017       -99.0                                  0          0          0   \n",
      "69166        79.0                                  1          1          0   \n",
      "29003       -99.0                                  1          0          0   \n",
      "101862      -99.0                                  0          0          0   \n",
      "80963        16.0                                  1          0          1   \n",
      "\n",
      "        time_of_day_afternoon  time_of_day_evening  onlineStatus_-99  order  \n",
      "98017                       1                    0                 1      1  \n",
      "69166                       0                    0                 0      1  \n",
      "29003                       0                    1                 0      1  \n",
      "101862                      0                    0                 1      0  \n",
      "80963                       1                    0                 0      1  \n",
      "\n",
      "[5 rows x 25 columns]\n"
     ]
    },
    {
     "name": "stdout",
     "output_type": "stream",
     "text": [
      "'customerNo'\n"
     ]
    },
    {
     "name": "stderr",
     "output_type": "stream",
     "text": [
      "2071135398.py 2022-01-06 14:13:11+1300 INFO Line no: 32 'customerNo'\n"
     ]
    },
    {
     "ename": "TypeError",
     "evalue": "argument of type 'method' is not iterable",
     "output_type": "error",
     "traceback": [
      "\u001b[0;31m---------------------------------------------------------------------------\u001b[0m",
      "\u001b[0;31mKeyError\u001b[0m                                  Traceback (most recent call last)",
      "\u001b[0;32m~/miniconda3/envs/py37/lib/python3.7/site-packages/pandas/core/indexes/base.py\u001b[0m in \u001b[0;36mget_loc\u001b[0;34m(self, key, method, tolerance)\u001b[0m\n\u001b[1;32m   3080\u001b[0m             \u001b[0;32mtry\u001b[0m\u001b[0;34m:\u001b[0m\u001b[0;34m\u001b[0m\u001b[0;34m\u001b[0m\u001b[0m\n\u001b[0;32m-> 3081\u001b[0;31m                 \u001b[0;32mreturn\u001b[0m \u001b[0mself\u001b[0m\u001b[0;34m.\u001b[0m\u001b[0m_engine\u001b[0m\u001b[0;34m.\u001b[0m\u001b[0mget_loc\u001b[0m\u001b[0;34m(\u001b[0m\u001b[0mcasted_key\u001b[0m\u001b[0;34m)\u001b[0m\u001b[0;34m\u001b[0m\u001b[0;34m\u001b[0m\u001b[0m\n\u001b[0m\u001b[1;32m   3082\u001b[0m             \u001b[0;32mexcept\u001b[0m \u001b[0mKeyError\u001b[0m \u001b[0;32mas\u001b[0m \u001b[0merr\u001b[0m\u001b[0;34m:\u001b[0m\u001b[0;34m\u001b[0m\u001b[0;34m\u001b[0m\u001b[0m\n",
      "\u001b[0;32mpandas/_libs/index.pyx\u001b[0m in \u001b[0;36mpandas._libs.index.IndexEngine.get_loc\u001b[0;34m()\u001b[0m\n",
      "\u001b[0;32mpandas/_libs/index.pyx\u001b[0m in \u001b[0;36mpandas._libs.index.IndexEngine.get_loc\u001b[0;34m()\u001b[0m\n",
      "\u001b[0;32mpandas/_libs/hashtable_class_helper.pxi\u001b[0m in \u001b[0;36mpandas._libs.hashtable.PyObjectHashTable.get_item\u001b[0;34m()\u001b[0m\n",
      "\u001b[0;32mpandas/_libs/hashtable_class_helper.pxi\u001b[0m in \u001b[0;36mpandas._libs.hashtable.PyObjectHashTable.get_item\u001b[0;34m()\u001b[0m\n",
      "\u001b[0;31mKeyError\u001b[0m: 'customerNo'",
      "\nThe above exception was the direct cause of the following exception:\n",
      "\u001b[0;31mKeyError\u001b[0m                                  Traceback (most recent call last)",
      "\u001b[0;32m/tmp/ipykernel_19766/2071135398.py\u001b[0m in \u001b[0;36minput_fn\u001b[0;34m(request_body, content_type)\u001b[0m\n\u001b[1;32m     29\u001b[0m \u001b[0;34m\u001b[0m\u001b[0m\n\u001b[0;32m---> 30\u001b[0;31m         \u001b[0mdf_test\u001b[0m \u001b[0;34m=\u001b[0m \u001b[0mpreprocess_input\u001b[0m\u001b[0;34m(\u001b[0m\u001b[0mdf_test\u001b[0m\u001b[0;34m=\u001b[0m\u001b[0mdf_test\u001b[0m\u001b[0;34m)\u001b[0m\u001b[0;34m\u001b[0m\u001b[0;34m\u001b[0m\u001b[0m\n\u001b[0m\u001b[1;32m     31\u001b[0m     \u001b[0;32mexcept\u001b[0m \u001b[0mException\u001b[0m \u001b[0;32mas\u001b[0m \u001b[0me\u001b[0m\u001b[0;34m:\u001b[0m\u001b[0;34m\u001b[0m\u001b[0;34m\u001b[0m\u001b[0m\n",
      "\u001b[0;32m/tmp/ipykernel_19766/45263283.py\u001b[0m in \u001b[0;36mpreprocess_input\u001b[0;34m(df_test)\u001b[0m\n\u001b[1;32m     59\u001b[0m     \u001b[0;32mfor\u001b[0m \u001b[0mcol\u001b[0m \u001b[0;32min\u001b[0m \u001b[0mnumeric_column_list\u001b[0m\u001b[0;34m:\u001b[0m\u001b[0;34m\u001b[0m\u001b[0;34m\u001b[0m\u001b[0m\n\u001b[0;32m---> 60\u001b[0;31m         \u001b[0mdf_test\u001b[0m\u001b[0;34m[\u001b[0m\u001b[0mcol\u001b[0m\u001b[0;34m]\u001b[0m \u001b[0;34m=\u001b[0m \u001b[0mdf_test\u001b[0m\u001b[0;34m[\u001b[0m\u001b[0mcol\u001b[0m\u001b[0;34m]\u001b[0m\u001b[0;34m.\u001b[0m\u001b[0mastype\u001b[0m\u001b[0;34m(\u001b[0m\u001b[0mfloat\u001b[0m\u001b[0;34m)\u001b[0m\u001b[0;34m\u001b[0m\u001b[0;34m\u001b[0m\u001b[0m\n\u001b[0m\u001b[1;32m     61\u001b[0m \u001b[0;34m\u001b[0m\u001b[0m\n",
      "\u001b[0;32m~/miniconda3/envs/py37/lib/python3.7/site-packages/pandas/core/frame.py\u001b[0m in \u001b[0;36m__getitem__\u001b[0;34m(self, key)\u001b[0m\n\u001b[1;32m   3023\u001b[0m                 \u001b[0;32mreturn\u001b[0m \u001b[0mself\u001b[0m\u001b[0;34m.\u001b[0m\u001b[0m_getitem_multilevel\u001b[0m\u001b[0;34m(\u001b[0m\u001b[0mkey\u001b[0m\u001b[0;34m)\u001b[0m\u001b[0;34m\u001b[0m\u001b[0;34m\u001b[0m\u001b[0m\n\u001b[0;32m-> 3024\u001b[0;31m             \u001b[0mindexer\u001b[0m \u001b[0;34m=\u001b[0m \u001b[0mself\u001b[0m\u001b[0;34m.\u001b[0m\u001b[0mcolumns\u001b[0m\u001b[0;34m.\u001b[0m\u001b[0mget_loc\u001b[0m\u001b[0;34m(\u001b[0m\u001b[0mkey\u001b[0m\u001b[0;34m)\u001b[0m\u001b[0;34m\u001b[0m\u001b[0;34m\u001b[0m\u001b[0m\n\u001b[0m\u001b[1;32m   3025\u001b[0m             \u001b[0;32mif\u001b[0m \u001b[0mis_integer\u001b[0m\u001b[0;34m(\u001b[0m\u001b[0mindexer\u001b[0m\u001b[0;34m)\u001b[0m\u001b[0;34m:\u001b[0m\u001b[0;34m\u001b[0m\u001b[0;34m\u001b[0m\u001b[0m\n",
      "\u001b[0;32m~/miniconda3/envs/py37/lib/python3.7/site-packages/pandas/core/indexes/base.py\u001b[0m in \u001b[0;36mget_loc\u001b[0;34m(self, key, method, tolerance)\u001b[0m\n\u001b[1;32m   3082\u001b[0m             \u001b[0;32mexcept\u001b[0m \u001b[0mKeyError\u001b[0m \u001b[0;32mas\u001b[0m \u001b[0merr\u001b[0m\u001b[0;34m:\u001b[0m\u001b[0;34m\u001b[0m\u001b[0;34m\u001b[0m\u001b[0m\n\u001b[0;32m-> 3083\u001b[0;31m                 \u001b[0;32mraise\u001b[0m \u001b[0mKeyError\u001b[0m\u001b[0;34m(\u001b[0m\u001b[0mkey\u001b[0m\u001b[0;34m)\u001b[0m \u001b[0;32mfrom\u001b[0m \u001b[0merr\u001b[0m\u001b[0;34m\u001b[0m\u001b[0;34m\u001b[0m\u001b[0m\n\u001b[0m\u001b[1;32m   3084\u001b[0m \u001b[0;34m\u001b[0m\u001b[0m\n",
      "\u001b[0;31mKeyError\u001b[0m: 'customerNo'",
      "\nDuring handling of the above exception, another exception occurred:\n",
      "\u001b[0;31mTypeError\u001b[0m                                 Traceback (most recent call last)",
      "\u001b[0;32m/tmp/ipykernel_19766/429734678.py\u001b[0m in \u001b[0;36m<module>\u001b[0;34m\u001b[0m\n\u001b[1;32m     22\u001b[0m \u001b[0;34m\u001b[0m\u001b[0m\n\u001b[1;32m     23\u001b[0m \u001b[0;32mif\u001b[0m \u001b[0m__name__\u001b[0m \u001b[0;34m==\u001b[0m \u001b[0;34m\"__main__\"\u001b[0m\u001b[0;34m:\u001b[0m\u001b[0;34m\u001b[0m\u001b[0;34m\u001b[0m\u001b[0m\n\u001b[0;32m---> 24\u001b[0;31m     \u001b[0mmain\u001b[0m\u001b[0;34m(\u001b[0m\u001b[0;34m)\u001b[0m\u001b[0;34m\u001b[0m\u001b[0;34m\u001b[0m\u001b[0m\n\u001b[0m",
      "\u001b[0;32m/tmp/ipykernel_19766/429734678.py\u001b[0m in \u001b[0;36mmain\u001b[0;34m()\u001b[0m\n\u001b[1;32m     14\u001b[0m     \u001b[0mcontent_type\u001b[0m \u001b[0;34m=\u001b[0m \u001b[0;34m'text/csv'\u001b[0m\u001b[0;34m\u001b[0m\u001b[0;34m\u001b[0m\u001b[0m\n\u001b[1;32m     15\u001b[0m \u001b[0;34m\u001b[0m\u001b[0m\n\u001b[0;32m---> 16\u001b[0;31m     \u001b[0mdf_test\u001b[0m \u001b[0;34m=\u001b[0m \u001b[0minput_fn\u001b[0m\u001b[0;34m(\u001b[0m\u001b[0mrequest_body\u001b[0m\u001b[0;34m,\u001b[0m \u001b[0mcontent_type\u001b[0m\u001b[0;34m)\u001b[0m\u001b[0;34m\u001b[0m\u001b[0;34m\u001b[0m\u001b[0m\n\u001b[0m\u001b[1;32m     17\u001b[0m \u001b[0;34m\u001b[0m\u001b[0m\n\u001b[1;32m     18\u001b[0m     \u001b[0mprint\u001b[0m\u001b[0;34m(\u001b[0m\u001b[0mdf_test\u001b[0m\u001b[0;34m.\u001b[0m\u001b[0mhead\u001b[0m\u001b[0;34m(\u001b[0m\u001b[0;34m)\u001b[0m\u001b[0;34m)\u001b[0m\u001b[0;34m\u001b[0m\u001b[0;34m\u001b[0m\u001b[0m\n",
      "\u001b[0;32m/tmp/ipykernel_19766/2071135398.py\u001b[0m in \u001b[0;36minput_fn\u001b[0;34m(request_body, content_type)\u001b[0m\n\u001b[1;32m     31\u001b[0m     \u001b[0;32mexcept\u001b[0m \u001b[0mException\u001b[0m \u001b[0;32mas\u001b[0m \u001b[0me\u001b[0m\u001b[0;34m:\u001b[0m\u001b[0;34m\u001b[0m\u001b[0;34m\u001b[0m\u001b[0m\n\u001b[1;32m     32\u001b[0m         \u001b[0mlog\u001b[0m\u001b[0;34m.\u001b[0m\u001b[0minfo\u001b[0m\u001b[0;34m(\u001b[0m\u001b[0me\u001b[0m\u001b[0;34m)\u001b[0m\u001b[0;34m\u001b[0m\u001b[0;34m\u001b[0m\u001b[0m\n\u001b[0;32m---> 33\u001b[0;31m         \u001b[0mdf_test\u001b[0m \u001b[0;34m=\u001b[0m \u001b[0mpd\u001b[0m\u001b[0;34m.\u001b[0m\u001b[0mread_csv\u001b[0m\u001b[0;34m(\u001b[0m\u001b[0mrequest_body\u001b[0m\u001b[0;34m)\u001b[0m\u001b[0;34m\u001b[0m\u001b[0;34m\u001b[0m\u001b[0m\n\u001b[0m\u001b[1;32m     34\u001b[0m         \u001b[0mdf_test\u001b[0m \u001b[0;34m=\u001b[0m \u001b[0mpreprocess_input\u001b[0m\u001b[0;34m(\u001b[0m\u001b[0mdf_test\u001b[0m\u001b[0;34m=\u001b[0m\u001b[0mrequest_body\u001b[0m\u001b[0;34m)\u001b[0m\u001b[0;34m\u001b[0m\u001b[0;34m\u001b[0m\u001b[0m\n\u001b[1;32m     35\u001b[0m \u001b[0;34m\u001b[0m\u001b[0m\n",
      "\u001b[0;32m~/miniconda3/envs/py37/lib/python3.7/site-packages/pandas/io/parsers.py\u001b[0m in \u001b[0;36mread_csv\u001b[0;34m(filepath_or_buffer, sep, delimiter, header, names, index_col, usecols, squeeze, prefix, mangle_dupe_cols, dtype, engine, converters, true_values, false_values, skipinitialspace, skiprows, skipfooter, nrows, na_values, keep_default_na, na_filter, verbose, skip_blank_lines, parse_dates, infer_datetime_format, keep_date_col, date_parser, dayfirst, cache_dates, iterator, chunksize, compression, thousands, decimal, lineterminator, quotechar, quoting, doublequote, escapechar, comment, encoding, dialect, error_bad_lines, warn_bad_lines, delim_whitespace, low_memory, memory_map, float_precision, storage_options)\u001b[0m\n\u001b[1;32m    608\u001b[0m     \u001b[0mkwds\u001b[0m\u001b[0;34m.\u001b[0m\u001b[0mupdate\u001b[0m\u001b[0;34m(\u001b[0m\u001b[0mkwds_defaults\u001b[0m\u001b[0;34m)\u001b[0m\u001b[0;34m\u001b[0m\u001b[0;34m\u001b[0m\u001b[0m\n\u001b[1;32m    609\u001b[0m \u001b[0;34m\u001b[0m\u001b[0m\n\u001b[0;32m--> 610\u001b[0;31m     \u001b[0;32mreturn\u001b[0m \u001b[0m_read\u001b[0m\u001b[0;34m(\u001b[0m\u001b[0mfilepath_or_buffer\u001b[0m\u001b[0;34m,\u001b[0m \u001b[0mkwds\u001b[0m\u001b[0;34m)\u001b[0m\u001b[0;34m\u001b[0m\u001b[0;34m\u001b[0m\u001b[0m\n\u001b[0m\u001b[1;32m    611\u001b[0m \u001b[0;34m\u001b[0m\u001b[0m\n\u001b[1;32m    612\u001b[0m \u001b[0;34m\u001b[0m\u001b[0m\n",
      "\u001b[0;32m~/miniconda3/envs/py37/lib/python3.7/site-packages/pandas/io/parsers.py\u001b[0m in \u001b[0;36m_read\u001b[0;34m(filepath_or_buffer, kwds)\u001b[0m\n\u001b[1;32m    460\u001b[0m \u001b[0;34m\u001b[0m\u001b[0m\n\u001b[1;32m    461\u001b[0m     \u001b[0;31m# Create the parser.\u001b[0m\u001b[0;34m\u001b[0m\u001b[0;34m\u001b[0m\u001b[0;34m\u001b[0m\u001b[0m\n\u001b[0;32m--> 462\u001b[0;31m     \u001b[0mparser\u001b[0m \u001b[0;34m=\u001b[0m \u001b[0mTextFileReader\u001b[0m\u001b[0;34m(\u001b[0m\u001b[0mfilepath_or_buffer\u001b[0m\u001b[0;34m,\u001b[0m \u001b[0;34m**\u001b[0m\u001b[0mkwds\u001b[0m\u001b[0;34m)\u001b[0m\u001b[0;34m\u001b[0m\u001b[0;34m\u001b[0m\u001b[0m\n\u001b[0m\u001b[1;32m    463\u001b[0m \u001b[0;34m\u001b[0m\u001b[0m\n\u001b[1;32m    464\u001b[0m     \u001b[0;32mif\u001b[0m \u001b[0mchunksize\u001b[0m \u001b[0;32mor\u001b[0m \u001b[0miterator\u001b[0m\u001b[0;34m:\u001b[0m\u001b[0;34m\u001b[0m\u001b[0;34m\u001b[0m\u001b[0m\n",
      "\u001b[0;32m~/miniconda3/envs/py37/lib/python3.7/site-packages/pandas/io/parsers.py\u001b[0m in \u001b[0;36m__init__\u001b[0;34m(self, f, engine, **kwds)\u001b[0m\n\u001b[1;32m    817\u001b[0m             \u001b[0mself\u001b[0m\u001b[0;34m.\u001b[0m\u001b[0moptions\u001b[0m\u001b[0;34m[\u001b[0m\u001b[0;34m\"has_index_names\"\u001b[0m\u001b[0;34m]\u001b[0m \u001b[0;34m=\u001b[0m \u001b[0mkwds\u001b[0m\u001b[0;34m[\u001b[0m\u001b[0;34m\"has_index_names\"\u001b[0m\u001b[0;34m]\u001b[0m\u001b[0;34m\u001b[0m\u001b[0;34m\u001b[0m\u001b[0m\n\u001b[1;32m    818\u001b[0m \u001b[0;34m\u001b[0m\u001b[0m\n\u001b[0;32m--> 819\u001b[0;31m         \u001b[0mself\u001b[0m\u001b[0;34m.\u001b[0m\u001b[0m_engine\u001b[0m \u001b[0;34m=\u001b[0m \u001b[0mself\u001b[0m\u001b[0;34m.\u001b[0m\u001b[0m_make_engine\u001b[0m\u001b[0;34m(\u001b[0m\u001b[0mself\u001b[0m\u001b[0;34m.\u001b[0m\u001b[0mengine\u001b[0m\u001b[0;34m)\u001b[0m\u001b[0;34m\u001b[0m\u001b[0;34m\u001b[0m\u001b[0m\n\u001b[0m\u001b[1;32m    820\u001b[0m \u001b[0;34m\u001b[0m\u001b[0m\n\u001b[1;32m    821\u001b[0m     \u001b[0;32mdef\u001b[0m \u001b[0mclose\u001b[0m\u001b[0;34m(\u001b[0m\u001b[0mself\u001b[0m\u001b[0;34m)\u001b[0m\u001b[0;34m:\u001b[0m\u001b[0;34m\u001b[0m\u001b[0;34m\u001b[0m\u001b[0m\n",
      "\u001b[0;32m~/miniconda3/envs/py37/lib/python3.7/site-packages/pandas/io/parsers.py\u001b[0m in \u001b[0;36m_make_engine\u001b[0;34m(self, engine)\u001b[0m\n\u001b[1;32m   1048\u001b[0m             )\n\u001b[1;32m   1049\u001b[0m         \u001b[0;31m# error: Too many arguments for \"ParserBase\"\u001b[0m\u001b[0;34m\u001b[0m\u001b[0;34m\u001b[0m\u001b[0;34m\u001b[0m\u001b[0m\n\u001b[0;32m-> 1050\u001b[0;31m         \u001b[0;32mreturn\u001b[0m \u001b[0mmapping\u001b[0m\u001b[0;34m[\u001b[0m\u001b[0mengine\u001b[0m\u001b[0;34m]\u001b[0m\u001b[0;34m(\u001b[0m\u001b[0mself\u001b[0m\u001b[0;34m.\u001b[0m\u001b[0mf\u001b[0m\u001b[0;34m,\u001b[0m \u001b[0;34m**\u001b[0m\u001b[0mself\u001b[0m\u001b[0;34m.\u001b[0m\u001b[0moptions\u001b[0m\u001b[0;34m)\u001b[0m  \u001b[0;31m# type: ignore[call-arg]\u001b[0m\u001b[0;34m\u001b[0m\u001b[0;34m\u001b[0m\u001b[0m\n\u001b[0m\u001b[1;32m   1051\u001b[0m \u001b[0;34m\u001b[0m\u001b[0m\n\u001b[1;32m   1052\u001b[0m     \u001b[0;32mdef\u001b[0m \u001b[0m_failover_to_python\u001b[0m\u001b[0;34m(\u001b[0m\u001b[0mself\u001b[0m\u001b[0;34m)\u001b[0m\u001b[0;34m:\u001b[0m\u001b[0;34m\u001b[0m\u001b[0;34m\u001b[0m\u001b[0m\n",
      "\u001b[0;32m~/miniconda3/envs/py37/lib/python3.7/site-packages/pandas/io/parsers.py\u001b[0m in \u001b[0;36m__init__\u001b[0;34m(self, src, **kwds)\u001b[0m\n\u001b[1;32m   1865\u001b[0m \u001b[0;34m\u001b[0m\u001b[0m\n\u001b[1;32m   1866\u001b[0m         \u001b[0;31m# open handles\u001b[0m\u001b[0;34m\u001b[0m\u001b[0;34m\u001b[0m\u001b[0;34m\u001b[0m\u001b[0m\n\u001b[0;32m-> 1867\u001b[0;31m         \u001b[0mself\u001b[0m\u001b[0;34m.\u001b[0m\u001b[0m_open_handles\u001b[0m\u001b[0;34m(\u001b[0m\u001b[0msrc\u001b[0m\u001b[0;34m,\u001b[0m \u001b[0mkwds\u001b[0m\u001b[0;34m)\u001b[0m\u001b[0;34m\u001b[0m\u001b[0;34m\u001b[0m\u001b[0m\n\u001b[0m\u001b[1;32m   1868\u001b[0m         \u001b[0;32massert\u001b[0m \u001b[0mself\u001b[0m\u001b[0;34m.\u001b[0m\u001b[0mhandles\u001b[0m \u001b[0;32mis\u001b[0m \u001b[0;32mnot\u001b[0m \u001b[0;32mNone\u001b[0m\u001b[0;34m\u001b[0m\u001b[0;34m\u001b[0m\u001b[0m\n\u001b[1;32m   1869\u001b[0m         \u001b[0;32mfor\u001b[0m \u001b[0mkey\u001b[0m \u001b[0;32min\u001b[0m \u001b[0;34m(\u001b[0m\u001b[0;34m\"storage_options\"\u001b[0m\u001b[0;34m,\u001b[0m \u001b[0;34m\"encoding\"\u001b[0m\u001b[0;34m,\u001b[0m \u001b[0;34m\"memory_map\"\u001b[0m\u001b[0;34m,\u001b[0m \u001b[0;34m\"compression\"\u001b[0m\u001b[0;34m)\u001b[0m\u001b[0;34m:\u001b[0m\u001b[0;34m\u001b[0m\u001b[0;34m\u001b[0m\u001b[0m\n",
      "\u001b[0;32m~/miniconda3/envs/py37/lib/python3.7/site-packages/pandas/io/parsers.py\u001b[0m in \u001b[0;36m_open_handles\u001b[0;34m(self, src, kwds)\u001b[0m\n\u001b[1;32m   1366\u001b[0m             \u001b[0mcompression\u001b[0m\u001b[0;34m=\u001b[0m\u001b[0mkwds\u001b[0m\u001b[0;34m.\u001b[0m\u001b[0mget\u001b[0m\u001b[0;34m(\u001b[0m\u001b[0;34m\"compression\"\u001b[0m\u001b[0;34m,\u001b[0m \u001b[0;32mNone\u001b[0m\u001b[0;34m)\u001b[0m\u001b[0;34m,\u001b[0m\u001b[0;34m\u001b[0m\u001b[0;34m\u001b[0m\u001b[0m\n\u001b[1;32m   1367\u001b[0m             \u001b[0mmemory_map\u001b[0m\u001b[0;34m=\u001b[0m\u001b[0mkwds\u001b[0m\u001b[0;34m.\u001b[0m\u001b[0mget\u001b[0m\u001b[0;34m(\u001b[0m\u001b[0;34m\"memory_map\"\u001b[0m\u001b[0;34m,\u001b[0m \u001b[0;32mFalse\u001b[0m\u001b[0;34m)\u001b[0m\u001b[0;34m,\u001b[0m\u001b[0;34m\u001b[0m\u001b[0;34m\u001b[0m\u001b[0m\n\u001b[0;32m-> 1368\u001b[0;31m             \u001b[0mstorage_options\u001b[0m\u001b[0;34m=\u001b[0m\u001b[0mkwds\u001b[0m\u001b[0;34m.\u001b[0m\u001b[0mget\u001b[0m\u001b[0;34m(\u001b[0m\u001b[0;34m\"storage_options\"\u001b[0m\u001b[0;34m,\u001b[0m \u001b[0;32mNone\u001b[0m\u001b[0;34m)\u001b[0m\u001b[0;34m,\u001b[0m\u001b[0;34m\u001b[0m\u001b[0;34m\u001b[0m\u001b[0m\n\u001b[0m\u001b[1;32m   1369\u001b[0m         )\n\u001b[1;32m   1370\u001b[0m \u001b[0;34m\u001b[0m\u001b[0m\n",
      "\u001b[0;32m~/miniconda3/envs/py37/lib/python3.7/site-packages/pandas/io/common.py\u001b[0m in \u001b[0;36mget_handle\u001b[0;34m(path_or_buf, mode, encoding, compression, memory_map, is_text, errors, storage_options)\u001b[0m\n\u001b[1;32m    552\u001b[0m \u001b[0;34m\u001b[0m\u001b[0m\n\u001b[1;32m    553\u001b[0m     \u001b[0;31m# read_csv does not know whether the buffer is opened in binary/text mode\u001b[0m\u001b[0;34m\u001b[0m\u001b[0;34m\u001b[0m\u001b[0;34m\u001b[0m\u001b[0m\n\u001b[0;32m--> 554\u001b[0;31m     \u001b[0;32mif\u001b[0m \u001b[0m_is_binary_mode\u001b[0m\u001b[0;34m(\u001b[0m\u001b[0mpath_or_buf\u001b[0m\u001b[0;34m,\u001b[0m \u001b[0mmode\u001b[0m\u001b[0;34m)\u001b[0m \u001b[0;32mand\u001b[0m \u001b[0;34m\"b\"\u001b[0m \u001b[0;32mnot\u001b[0m \u001b[0;32min\u001b[0m \u001b[0mmode\u001b[0m\u001b[0;34m:\u001b[0m\u001b[0;34m\u001b[0m\u001b[0;34m\u001b[0m\u001b[0m\n\u001b[0m\u001b[1;32m    555\u001b[0m         \u001b[0mmode\u001b[0m \u001b[0;34m+=\u001b[0m \u001b[0;34m\"b\"\u001b[0m\u001b[0;34m\u001b[0m\u001b[0;34m\u001b[0m\u001b[0m\n\u001b[1;32m    556\u001b[0m \u001b[0;34m\u001b[0m\u001b[0m\n",
      "\u001b[0;32m~/miniconda3/envs/py37/lib/python3.7/site-packages/pandas/io/common.py\u001b[0m in \u001b[0;36m_is_binary_mode\u001b[0;34m(handle, mode)\u001b[0m\n\u001b[1;32m    889\u001b[0m     \u001b[0;31m# classes that expect bytes\u001b[0m\u001b[0;34m\u001b[0m\u001b[0;34m\u001b[0m\u001b[0;34m\u001b[0m\u001b[0m\n\u001b[1;32m    890\u001b[0m     \u001b[0mbinary_classes\u001b[0m \u001b[0;34m=\u001b[0m \u001b[0;34m(\u001b[0m\u001b[0mBufferedIOBase\u001b[0m\u001b[0;34m,\u001b[0m \u001b[0mRawIOBase\u001b[0m\u001b[0;34m)\u001b[0m\u001b[0;34m\u001b[0m\u001b[0;34m\u001b[0m\u001b[0m\n\u001b[0;32m--> 891\u001b[0;31m     \u001b[0;32mreturn\u001b[0m \u001b[0misinstance\u001b[0m\u001b[0;34m(\u001b[0m\u001b[0mhandle\u001b[0m\u001b[0;34m,\u001b[0m \u001b[0mbinary_classes\u001b[0m\u001b[0;34m)\u001b[0m \u001b[0;32mor\u001b[0m \u001b[0;34m\"b\"\u001b[0m \u001b[0;32min\u001b[0m \u001b[0mgetattr\u001b[0m\u001b[0;34m(\u001b[0m\u001b[0mhandle\u001b[0m\u001b[0;34m,\u001b[0m \u001b[0;34m\"mode\"\u001b[0m\u001b[0;34m,\u001b[0m \u001b[0mmode\u001b[0m\u001b[0;34m)\u001b[0m\u001b[0;34m\u001b[0m\u001b[0;34m\u001b[0m\u001b[0m\n\u001b[0m",
      "\u001b[0;31mTypeError\u001b[0m: argument of type 'method' is not iterable"
     ]
    }
   ],
   "source": [
    "def main():\n",
    "    model_dir = \"../model/\"\n",
    "    model = model_fn(model_dir)\n",
    "    \n",
    "    test_file_path = os.path.join(\n",
    "        '..',\n",
    "        'dataset',\n",
    "        'feature-engineering',\n",
    "        'df_test_rfe.csv'\n",
    "    )\n",
    "    df_input = pd.read_csv(test_file_path)\n",
    "\n",
    "    request_body = df_input.sample(5)\n",
    "    content_type = 'text/csv'\n",
    "    \n",
    "    df_test = input_fn(request_body, content_type)\n",
    "    \n",
    "    print(df_test.head())\n",
    "    \n",
    "    pred = predict_fn(df_test, model)\n",
    "    print(pred)\n",
    "        \n",
    "if __name__ == \"__main__\":\n",
    "    main()"
   ]
  }
 ],
 "metadata": {
  "kernelspec": {
   "display_name": "py37",
   "language": "python",
   "name": "myenv"
  },
  "language_info": {
   "codemirror_mode": {
    "name": "ipython",
    "version": 3
   },
   "file_extension": ".py",
   "mimetype": "text/x-python",
   "name": "python",
   "nbconvert_exporter": "python",
   "pygments_lexer": "ipython3",
   "version": "3.7.11"
  }
 },
 "nbformat": 4,
 "nbformat_minor": 5
}
