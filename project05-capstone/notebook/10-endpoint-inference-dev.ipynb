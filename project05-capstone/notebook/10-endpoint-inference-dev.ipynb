{
 "cells": [
  {
   "cell_type": "markdown",
   "id": "ed53e4fe-9c1d-41f3-9544-cc625e31da22",
   "metadata": {},
   "source": [
    "# Notes\n",
    "\n",
    "This notebook is used as a prototype for the inference script for Sagemaker Endpoint."
   ]
  },
  {
   "cell_type": "code",
   "execution_count": 1,
   "id": "9ec19562-8762-479e-a1c0-1c123640020b",
   "metadata": {},
   "outputs": [
    {
     "name": "stdout",
     "output_type": "stream",
     "text": [
      "Requirement already satisfied: scikit-learn==0.20 in /home/elvyna/miniconda3/envs/py37/lib/python3.7/site-packages (0.20.0)\n",
      "Requirement already satisfied: scipy>=0.13.3 in /home/elvyna/miniconda3/envs/py37/lib/python3.7/site-packages (from scikit-learn==0.20) (1.5.3)\n",
      "Requirement already satisfied: numpy>=1.8.2 in /home/elvyna/miniconda3/envs/py37/lib/python3.7/site-packages (from scikit-learn==0.20) (1.21.2)\n"
     ]
    }
   ],
   "source": [
    "!pip install -U scikit-learn==0.20"
   ]
  },
  {
   "cell_type": "code",
   "execution_count": 2,
   "id": "1463fdd4-6c7d-49eb-a081-af683da22e49",
   "metadata": {},
   "outputs": [
    {
     "name": "stderr",
     "output_type": "stream",
     "text": [
      "/home/elvyna/miniconda3/envs/py37/lib/python3.7/site-packages/sklearn/ensemble/gradient_boosting.py:34: DeprecationWarning: `np.bool` is a deprecated alias for the builtin `bool`. To silence this warning, use `bool` by itself. Doing this will not modify any behavior and is safe. If you specifically wanted the numpy scalar type, use `np.bool_` here.\n",
      "Deprecated in NumPy 1.20; for more details and guidance: https://numpy.org/devdocs/release/1.20.0-notes.html#deprecations\n",
      "  from ._gradient_boosting import predict_stages\n",
      "/home/elvyna/miniconda3/envs/py37/lib/python3.7/site-packages/sklearn/ensemble/gradient_boosting.py:34: DeprecationWarning: `np.bool` is a deprecated alias for the builtin `bool`. To silence this warning, use `bool` by itself. Doing this will not modify any behavior and is safe. If you specifically wanted the numpy scalar type, use `np.bool_` here.\n",
      "Deprecated in NumPy 1.20; for more details and guidance: https://numpy.org/devdocs/release/1.20.0-notes.html#deprecations\n",
      "  from ._gradient_boosting import predict_stages\n"
     ]
    }
   ],
   "source": [
    "import json\n",
    "import logging\n",
    "import sys\n",
    "import os\n",
    "from sklearn.ensemble import RandomForestClassifier\n",
    "import pandas as pd\n",
    "import numpy as np\n",
    "import pickle\n",
    "from io import StringIO \n",
    "\n",
    "logging.basicConfig(\n",
    "    format=\"%(filename)s %(asctime)s %(levelname)s Line no: %(lineno)d %(message)s\",\n",
    "    datefmt=\"%Y-%m-%d %H:%M:%S%z\",\n",
    "    level=logging.INFO,\n",
    ")\n",
    "log = logging.getLogger(__name__)\n",
    "\n",
    "log.addHandler(logging.StreamHandler(sys.stdout))\n",
    "\n",
    "JSON_CONTENT_TYPE = \"application/json\"\n",
    "NUMPY_CONTENT_TYPE = \"application/x-npy\"\n",
    "CSV_CONTENT_TYPE = \"text/csv\""
   ]
  },
  {
   "cell_type": "code",
   "execution_count": 3,
   "id": "a6a69a8e-a3fc-42b3-9a29-40757e887082",
   "metadata": {},
   "outputs": [],
   "source": [
    "def determine_time_of_day(df: pd.DataFrame, column_name: str) -> pd.DataFrame:\n",
    "    \"\"\"\n",
    "    Determine time of day based on hour of the day.\n",
    "    Time of day: early morning, morning, afternoon, or evening.\n",
    "\n",
    "    :param df: input dataframe to be processed\n",
    "    :type df: pd.DataFrame\n",
    "    :param column_name: column that stores hour of day\n",
    "    :type column_name: str\n",
    "    :return: input dataframe with additional time_of_day column\n",
    "    :rtype: pd.DataFrame\n",
    "    \"\"\"\n",
    "    condition_list = [\n",
    "        ((df[column_name] >= 0) & (df[column_name] < 6)),\n",
    "        ((df[column_name] >= 6) & (df[column_name] < 12)),\n",
    "        ((df[column_name] >= 12) & (df[column_name] < 18)),\n",
    "        ((df[column_name] >= 18) & (df[column_name] < 25)),\n",
    "    ]\n",
    "\n",
    "    choice_list = [\"early_morning\", \"morning\", \"afternoon\", \"evening\"]\n",
    "\n",
    "    df[\"time_of_day\"] = np.select(condition_list, choice_list, default=\"unknown\")\n",
    "    return df\n",
    "\n",
    "\n",
    "def preprocess_input(df_test):\n",
    "    ## convert '?' into -99\n",
    "    ## reformat data types\n",
    "    for col in df_test.columns:\n",
    "        ## replace missing value with a numeric value, e.g., -99\n",
    "        mask = df_test[col] == \"?\"\n",
    "        df_test.loc[mask, col] = -99\n",
    "\n",
    "    ## reformat data types\n",
    "    # then, convert to numeric\n",
    "    numeric_column_list = [\n",
    "        \"startHour\",\n",
    "        \"startWeekday\",\n",
    "        \"duration\",\n",
    "        \"cCount\",\n",
    "        \"cMinPrice\",\n",
    "        \"cMaxPrice\",\n",
    "        \"cSumPrice\",\n",
    "        \"bCount\",\n",
    "        \"bMinPrice\",\n",
    "        \"bMaxPrice\",\n",
    "        \"bSumPrice\",\n",
    "        \"bStep\",\n",
    "        \"customerNo\",\n",
    "        \"maxVal\",\n",
    "        \"customerScore\",\n",
    "        \"accountLifetime\",\n",
    "        \"payments\",\n",
    "        \"age\",\n",
    "        \"address\",\n",
    "        \"lastOrder\",\n",
    "    ]\n",
    "\n",
    "    for col in numeric_column_list:\n",
    "        df_test[col] = df_test[col].astype(float)\n",
    "\n",
    "    condition_list = [\n",
    "        (df_test[\"onlineStatus\"] == \"y\"),\n",
    "        (df_test[\"onlineStatus\"] == \"n\"),\n",
    "    ]\n",
    "    choice_list = [1, 0]\n",
    "    df_test[\"onlineStatus\"] = np.select(\n",
    "        condition_list, choice_list, default=df_test[\"onlineStatus\"]\n",
    "    )\n",
    "\n",
    "    df_test[\"address\"] = df_test[\"address\"].astype(int)\n",
    "\n",
    "    ## remove ID columns\n",
    "    df_test.drop(labels=[\"sessionNo\", \"customerNo\"], axis=1, inplace=True)\n",
    "\n",
    "    ## determine time of day\n",
    "    df_test = determine_time_of_day(df=df_test, column_name=\"startHour\")\n",
    "\n",
    "    ## one hot encoding\n",
    "    selected_feature_list = [\"availability\", \"address\", \"time_of_day\", \"onlineStatus\"]\n",
    "    for selected_feature in selected_feature_list:\n",
    "        df_dummy_values = pd.get_dummies(df_test[selected_feature])\n",
    "        df_dummy_values.columns = [\n",
    "            selected_feature.replace(\" \", \"_\") + \"_\" + str(col)\n",
    "            for col in df_dummy_values.columns\n",
    "        ]\n",
    "        df_test = pd.concat([df_test, df_dummy_values], axis=1)\n",
    "        ## remove redundant features - we've done one hot encoding\n",
    "        df_test.drop(labels=selected_feature, axis=1, inplace=True)\n",
    "\n",
    "    ## reformat\n",
    "    categorical_feature_list = [\n",
    "        \"availability_-99\",\n",
    "        \"availability_completely_not_determinable\",\n",
    "        \"availability_completely_not_orderable\",\n",
    "        \"availability_completely_orderable\",\n",
    "        \"availability_mainly_not_determinable\",\n",
    "        \"availability_mainly_not_orderable\",\n",
    "        \"availability_mainly_orderable\",\n",
    "        \"address_-99\",\n",
    "        \"address_1\",\n",
    "        \"address_2\",\n",
    "        \"time_of_day_afternoon\",\n",
    "        \"time_of_day_early_morning\",\n",
    "        \"time_of_day_evening\",\n",
    "        \"onlineStatus_-99\",\n",
    "        \"onlineStatus_0\",\n",
    "    ]\n",
    "\n",
    "    for col in categorical_feature_list:\n",
    "        try:\n",
    "            df_test[col] = df_test[col].astype(int)\n",
    "        except:\n",
    "            df_test[col] = 0\n",
    "\n",
    "    return df_test"
   ]
  },
  {
   "cell_type": "code",
   "execution_count": 4,
   "id": "de1d9e97-18c7-4baf-80c8-9f5238f9c499",
   "metadata": {},
   "outputs": [],
   "source": [
    "def model_fn(model_dir):\n",
    "    log.info(f\"In model_fn. Model directory is {model_dir}\")\n",
    "\n",
    "    model_file_path = os.path.join(model_dir, \"model.pkl\")\n",
    "\n",
    "    log.info(f\"Loading the model from {model_file_path}\")\n",
    "    with open(model_file_path, \"rb\") as f:\n",
    "        model_clf = pickle.load(f)\n",
    "\n",
    "    log.info(f\"Model is successfully loaded from {model_file_path}\")\n",
    "\n",
    "    return model_clf"
   ]
  },
  {
   "cell_type": "code",
   "execution_count": 8,
   "id": "c352ea80-abc2-4c10-9e76-d9dd6e97200a",
   "metadata": {},
   "outputs": [],
   "source": [
    "def input_fn(request_body, content_type):\n",
    "    assert (\n",
    "        content_type in [JSON_CONTENT_TYPE, CSV_CONTENT_TYPE, NUMPY_CONTENT_TYPE]\n",
    "    ), f\"Request has an unsupported ContentType in content_type: {content_type}\"\n",
    "\n",
    "    log.info(f\"Request body CONTENT-TYPE is: {content_type}\")\n",
    "    log.info(f\"Request body TYPE is: {type(request_body)}\")\n",
    "    \n",
    "    log.info(\"Deserializing the input data.\")\n",
    "    log.info(f\"Request body is: {request_body}\")\n",
    "    \n",
    "    try:\n",
    "        if content_type == JSON_CONTENT_TYPE:\n",
    "            ## convert input json object as a dataframe of one row\n",
    "            request = json.loads(request_body)\n",
    "            log.info(f\"Loaded JSON object: {request}\")\n",
    "            df_test = pd.json_normalize(request)\n",
    "        elif content_type == NUMPY_CONTENT_TYPE:\n",
    "            request_body = request_body.decode('utf-8')\n",
    "            request = np.load(request_body)\n",
    "            log.info(f\"Loaded JSON object: {request}\")\n",
    "            df_test = pd.DataFrame(request)\n",
    "        elif content_type == CSV_CONTENT_TYPE:\n",
    "            # data = request_body.decode('utf-8')\n",
    "            # s = StringIO.StringIO(data)\n",
    "            s = StringIO(request_body)\n",
    "            df_test = pd.read_csv(s, header=None)\n",
    "            \n",
    "        df_test = preprocess_input(df_test=df_test)\n",
    "    except Exception as e:\n",
    "        log.info(e)\n",
    "        df_test = pd.read_csv(request_body)\n",
    "        df_test = preprocess_input(df_test=request_body)\n",
    "        \n",
    "    return df_test"
   ]
  },
  {
   "cell_type": "code",
   "execution_count": 14,
   "id": "b8416ca0-3a19-494d-bdf7-349f37128b28",
   "metadata": {},
   "outputs": [],
   "source": [
    "# inference\n",
    "def predict_fn(input_object, model):\n",
    "    log.info(\"In predict_fn\")\n",
    "\n",
    "    log.info(\"Calling model\")\n",
    "    feature_name_list = model.feature_names\n",
    "    prediction = model.predict(input_object[feature_name_list])\n",
    "\n",
    "    return prediction"
   ]
  },
  {
   "cell_type": "markdown",
   "id": "4623e18d-5b61-45d0-ae45-267c2031096d",
   "metadata": {},
   "source": [
    "Here, we pass a JSON object as the test data."
   ]
  },
  {
   "cell_type": "code",
   "execution_count": 15,
   "id": "768327c4-0553-4914-a1e2-f90e3130a0ad",
   "metadata": {},
   "outputs": [
    {
     "name": "stdout",
     "output_type": "stream",
     "text": [
      "In model_fn. Model directory is ../model/\n"
     ]
    },
    {
     "name": "stderr",
     "output_type": "stream",
     "text": [
      "4092385979.py 2022-01-06 13:51:22+1300 INFO Line no: 2 In model_fn. Model directory is ../model/\n"
     ]
    },
    {
     "name": "stdout",
     "output_type": "stream",
     "text": [
      "Loading the model from ../model/model.pkl\n"
     ]
    },
    {
     "name": "stderr",
     "output_type": "stream",
     "text": [
      "4092385979.py 2022-01-06 13:51:22+1300 INFO Line no: 6 Loading the model from ../model/model.pkl\n"
     ]
    },
    {
     "name": "stdout",
     "output_type": "stream",
     "text": [
      "Model is successfully loaded from ../model/model.pkl\n"
     ]
    },
    {
     "name": "stderr",
     "output_type": "stream",
     "text": [
      "4092385979.py 2022-01-06 13:51:23+1300 INFO Line no: 10 Model is successfully loaded from ../model/model.pkl\n"
     ]
    },
    {
     "name": "stdout",
     "output_type": "stream",
     "text": [
      "Request body CONTENT-TYPE is: application/json\n"
     ]
    },
    {
     "name": "stderr",
     "output_type": "stream",
     "text": [
      "498457568.py 2022-01-06 13:51:23+1300 INFO Line no: 6 Request body CONTENT-TYPE is: application/json\n"
     ]
    },
    {
     "name": "stdout",
     "output_type": "stream",
     "text": [
      "Request body TYPE is: <class 'str'>\n"
     ]
    },
    {
     "name": "stderr",
     "output_type": "stream",
     "text": [
      "498457568.py 2022-01-06 13:51:23+1300 INFO Line no: 7 Request body TYPE is: <class 'str'>\n"
     ]
    },
    {
     "name": "stdout",
     "output_type": "stream",
     "text": [
      "Deserializing the input data.\n"
     ]
    },
    {
     "name": "stderr",
     "output_type": "stream",
     "text": [
      "498457568.py 2022-01-06 13:51:23+1300 INFO Line no: 9 Deserializing the input data.\n"
     ]
    },
    {
     "name": "stdout",
     "output_type": "stream",
     "text": [
      "Request body is: {\"sessionNo\": 101, \"startHour\": 4, \"startWeekday\": 7, \"duration\": 0, \"cCount\": 2, \"cMinPrice\": 30, \"cMaxPrice\": 40, \"cSumPrice\": 70, \"bCount\": 1, \"bMinPrice\": 30, \"bMaxPrice\": 30, \"bSumPrice\": 30, \"bStep\": \"?\", \"onlineStatus\": \"?\", \"availability\": \"?\", \"customerNo\": 39, \"maxVal\": 200, \"customerScore\": 65, \"accountLifetime\": 30, \"payments\": 2, \"age\": 39, \"address\": 1, \"lastOrder\": 30}\n"
     ]
    },
    {
     "name": "stderr",
     "output_type": "stream",
     "text": [
      "498457568.py 2022-01-06 13:51:23+1300 INFO Line no: 10 Request body is: {\"sessionNo\": 101, \"startHour\": 4, \"startWeekday\": 7, \"duration\": 0, \"cCount\": 2, \"cMinPrice\": 30, \"cMaxPrice\": 40, \"cSumPrice\": 70, \"bCount\": 1, \"bMinPrice\": 30, \"bMaxPrice\": 30, \"bSumPrice\": 30, \"bStep\": \"?\", \"onlineStatus\": \"?\", \"availability\": \"?\", \"customerNo\": 39, \"maxVal\": 200, \"customerScore\": 65, \"accountLifetime\": 30, \"payments\": 2, \"age\": 39, \"address\": 1, \"lastOrder\": 30}\n"
     ]
    },
    {
     "name": "stdout",
     "output_type": "stream",
     "text": [
      "Loaded JSON object: {'sessionNo': 101, 'startHour': 4, 'startWeekday': 7, 'duration': 0, 'cCount': 2, 'cMinPrice': 30, 'cMaxPrice': 40, 'cSumPrice': 70, 'bCount': 1, 'bMinPrice': 30, 'bMaxPrice': 30, 'bSumPrice': 30, 'bStep': '?', 'onlineStatus': '?', 'availability': '?', 'customerNo': 39, 'maxVal': 200, 'customerScore': 65, 'accountLifetime': 30, 'payments': 2, 'age': 39, 'address': 1, 'lastOrder': 30}\n"
     ]
    },
    {
     "name": "stderr",
     "output_type": "stream",
     "text": [
      "498457568.py 2022-01-06 13:51:23+1300 INFO Line no: 16 Loaded JSON object: {'sessionNo': 101, 'startHour': 4, 'startWeekday': 7, 'duration': 0, 'cCount': 2, 'cMinPrice': 30, 'cMaxPrice': 40, 'cSumPrice': 70, 'bCount': 1, 'bMinPrice': 30, 'bMaxPrice': 30, 'bSumPrice': 30, 'bStep': '?', 'onlineStatus': '?', 'availability': '?', 'customerNo': 39, 'maxVal': 200, 'customerScore': 65, 'accountLifetime': 30, 'payments': 2, 'age': 39, 'address': 1, 'lastOrder': 30}\n"
     ]
    },
    {
     "name": "stdout",
     "output_type": "stream",
     "text": [
      "   startHour  startWeekday  duration  cCount  cMinPrice  cMaxPrice  cSumPrice  \\\n",
      "0        4.0           7.0       0.0     2.0       30.0       40.0       70.0   \n",
      "\n",
      "   bCount  bMinPrice  bMaxPrice  ...  availability_completely_not_orderable  \\\n",
      "0     1.0       30.0       30.0  ...                                      0   \n",
      "\n",
      "   availability_completely_orderable  availability_mainly_not_determinable  \\\n",
      "0                                  0                                     0   \n",
      "\n",
      "   availability_mainly_not_orderable  availability_mainly_orderable  \\\n",
      "0                                  0                              0   \n",
      "\n",
      "   address_-99  address_2  time_of_day_afternoon  time_of_day_evening  \\\n",
      "0            0          0                      0                    0   \n",
      "\n",
      "   onlineStatus_0  \n",
      "0               0  \n",
      "\n",
      "[1 rows x 33 columns]\n",
      "In predict_fn\n"
     ]
    },
    {
     "name": "stderr",
     "output_type": "stream",
     "text": [
      "1955181547.py 2022-01-06 13:51:23+1300 INFO Line no: 3 In predict_fn\n"
     ]
    },
    {
     "name": "stdout",
     "output_type": "stream",
     "text": [
      "Calling model\n"
     ]
    },
    {
     "name": "stderr",
     "output_type": "stream",
     "text": [
      "1955181547.py 2022-01-06 13:51:24+1300 INFO Line no: 5 Calling model\n"
     ]
    },
    {
     "name": "stdout",
     "output_type": "stream",
     "text": [
      "[0]\n"
     ]
    },
    {
     "name": "stderr",
     "output_type": "stream",
     "text": [
      "/home/elvyna/miniconda3/envs/py37/lib/python3.7/site-packages/sklearn/ensemble/base.py:158: DeprecationWarning: `np.int` is a deprecated alias for the builtin `int`. To silence this warning, use `int` by itself. Doing this will not modify any behavior and is safe. When replacing `np.int`, you may wish to use e.g. `np.int64` or `np.int32` to specify the precision. If you wish to review your current use, check the release note link for additional information.\n",
      "Deprecated in NumPy 1.20; for more details and guidance: https://numpy.org/devdocs/release/1.20.0-notes.html#deprecations\n",
      "  dtype=np.int)\n"
     ]
    }
   ],
   "source": [
    "def main():\n",
    "    model_dir = \"../model/\"\n",
    "    model = model_fn(model_dir)\n",
    "    \n",
    "    payload = {\n",
    "        \"sessionNo\": 101,\n",
    "        \"startHour\": 4,\n",
    "        \"startWeekday\": 7,\n",
    "        \"duration\": 0,\n",
    "        \"cCount\": 2,\n",
    "        \"cMinPrice\": 30,\n",
    "        \"cMaxPrice\": 40,\n",
    "        \"cSumPrice\": 70,\n",
    "        \"bCount\": 1,\n",
    "        \"bMinPrice\": 30,\n",
    "        \"bMaxPrice\": 30,\n",
    "        \"bSumPrice\": 30,\n",
    "        \"bStep\": \"?\",\n",
    "        \"onlineStatus\": \"?\",\n",
    "        \"availability\": \"?\",\n",
    "        \"customerNo\": 39,\n",
    "        \"maxVal\": 200,\n",
    "        \"customerScore\": 65,\n",
    "        \"accountLifetime\": 30,\n",
    "        \"payments\": 2,\n",
    "        \"age\": 39,\n",
    "        \"address\": 1,\n",
    "        \"lastOrder\": 30,\n",
    "    }\n",
    "    \n",
    "    request_body = json.dumps(payload)\n",
    "    content_type = 'application/json'\n",
    "    \n",
    "    df_test = input_fn(request_body, content_type)\n",
    "    \n",
    "    print(df_test.head())\n",
    "    \n",
    "    pred = predict_fn(df_test, model)\n",
    "    print(pred)\n",
    "        \n",
    "if __name__ == \"__main__\":\n",
    "    main()"
   ]
  }
 ],
 "metadata": {
  "kernelspec": {
   "display_name": "py37",
   "language": "python",
   "name": "myenv"
  },
  "language_info": {
   "codemirror_mode": {
    "name": "ipython",
    "version": 3
   },
   "file_extension": ".py",
   "mimetype": "text/x-python",
   "name": "python",
   "nbconvert_exporter": "python",
   "pygments_lexer": "ipython3",
   "version": "3.7.11"
  }
 },
 "nbformat": 4,
 "nbformat_minor": 5
}
