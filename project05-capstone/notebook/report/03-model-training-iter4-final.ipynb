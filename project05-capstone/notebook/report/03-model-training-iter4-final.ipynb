{
 "cells": [
  {
   "cell_type": "markdown",
   "id": "a43a394d-2b13-4438-a60d-8c38479b8cdb",
   "metadata": {},
   "source": [
    "# Notes\n",
    "\n",
    "Similar feature sets as iteration 1, except that we remove records that are considered as outliers at least in one column."
   ]
  },
  {
   "cell_type": "code",
   "execution_count": 1,
   "id": "d1bf231a-3db4-40a4-9e22-62d8fd1e63df",
   "metadata": {},
   "outputs": [],
   "source": [
    "import pandas as pd\n",
    "import matplotlib.pyplot as plt\n",
    "import numpy as np\n",
    "import seaborn as sns\n",
    "import os\n",
    "\n",
    "sns.set_context('talk')\n",
    "\n",
    "RND = 121"
   ]
  },
  {
   "cell_type": "code",
   "execution_count": 2,
   "id": "42b084a9-9eb8-488e-bec2-32b5bdb2628e",
   "metadata": {},
   "outputs": [
    {
     "data": {
      "text/html": [
       "<div>\n",
       "<style scoped>\n",
       "    .dataframe tbody tr th:only-of-type {\n",
       "        vertical-align: middle;\n",
       "    }\n",
       "\n",
       "    .dataframe tbody tr th {\n",
       "        vertical-align: top;\n",
       "    }\n",
       "\n",
       "    .dataframe thead th {\n",
       "        text-align: right;\n",
       "    }\n",
       "</style>\n",
       "<table border=\"1\" class=\"dataframe\">\n",
       "  <thead>\n",
       "    <tr style=\"text-align: right;\">\n",
       "      <th></th>\n",
       "      <th>startHour</th>\n",
       "      <th>startWeekday</th>\n",
       "      <th>duration</th>\n",
       "      <th>cCount</th>\n",
       "      <th>cMinPrice</th>\n",
       "      <th>cMaxPrice</th>\n",
       "      <th>cSumPrice</th>\n",
       "      <th>bCount</th>\n",
       "      <th>bMinPrice</th>\n",
       "      <th>bMaxPrice</th>\n",
       "      <th>...</th>\n",
       "      <th>payments</th>\n",
       "      <th>age</th>\n",
       "      <th>lastOrder</th>\n",
       "      <th>availability_completely_orderable</th>\n",
       "      <th>address_1</th>\n",
       "      <th>address_2</th>\n",
       "      <th>time_of_day_afternoon</th>\n",
       "      <th>time_of_day_evening</th>\n",
       "      <th>onlineStatus_-99</th>\n",
       "      <th>order</th>\n",
       "    </tr>\n",
       "  </thead>\n",
       "  <tbody>\n",
       "    <tr>\n",
       "      <th>0</th>\n",
       "      <td>6.0</td>\n",
       "      <td>6.0</td>\n",
       "      <td>148.694</td>\n",
       "      <td>14.0</td>\n",
       "      <td>11.99</td>\n",
       "      <td>26.99</td>\n",
       "      <td>261.88</td>\n",
       "      <td>3.0</td>\n",
       "      <td>11.99</td>\n",
       "      <td>26.99</td>\n",
       "      <td>...</td>\n",
       "      <td>-99.0</td>\n",
       "      <td>-99.0</td>\n",
       "      <td>-99.0</td>\n",
       "      <td>0</td>\n",
       "      <td>0</td>\n",
       "      <td>0</td>\n",
       "      <td>0</td>\n",
       "      <td>0</td>\n",
       "      <td>1</td>\n",
       "      <td>1</td>\n",
       "    </tr>\n",
       "    <tr>\n",
       "      <th>1</th>\n",
       "      <td>21.0</td>\n",
       "      <td>5.0</td>\n",
       "      <td>502.445</td>\n",
       "      <td>15.0</td>\n",
       "      <td>29.99</td>\n",
       "      <td>49.99</td>\n",
       "      <td>629.85</td>\n",
       "      <td>4.0</td>\n",
       "      <td>29.99</td>\n",
       "      <td>49.99</td>\n",
       "      <td>...</td>\n",
       "      <td>4.0</td>\n",
       "      <td>60.0</td>\n",
       "      <td>13.0</td>\n",
       "      <td>1</td>\n",
       "      <td>0</td>\n",
       "      <td>1</td>\n",
       "      <td>0</td>\n",
       "      <td>1</td>\n",
       "      <td>0</td>\n",
       "      <td>1</td>\n",
       "    </tr>\n",
       "    <tr>\n",
       "      <th>2</th>\n",
       "      <td>21.0</td>\n",
       "      <td>6.0</td>\n",
       "      <td>2268.294</td>\n",
       "      <td>33.0</td>\n",
       "      <td>4.99</td>\n",
       "      <td>19.99</td>\n",
       "      <td>373.76</td>\n",
       "      <td>5.0</td>\n",
       "      <td>5.00</td>\n",
       "      <td>17.99</td>\n",
       "      <td>...</td>\n",
       "      <td>1.0</td>\n",
       "      <td>55.0</td>\n",
       "      <td>230.0</td>\n",
       "      <td>1</td>\n",
       "      <td>0</td>\n",
       "      <td>1</td>\n",
       "      <td>0</td>\n",
       "      <td>1</td>\n",
       "      <td>0</td>\n",
       "      <td>1</td>\n",
       "    </tr>\n",
       "    <tr>\n",
       "      <th>3</th>\n",
       "      <td>9.0</td>\n",
       "      <td>6.0</td>\n",
       "      <td>98.096</td>\n",
       "      <td>5.0</td>\n",
       "      <td>19.99</td>\n",
       "      <td>34.99</td>\n",
       "      <td>129.95</td>\n",
       "      <td>5.0</td>\n",
       "      <td>19.99</td>\n",
       "      <td>34.99</td>\n",
       "      <td>...</td>\n",
       "      <td>0.0</td>\n",
       "      <td>51.0</td>\n",
       "      <td>552.0</td>\n",
       "      <td>1</td>\n",
       "      <td>0</td>\n",
       "      <td>1</td>\n",
       "      <td>0</td>\n",
       "      <td>0</td>\n",
       "      <td>0</td>\n",
       "      <td>1</td>\n",
       "    </tr>\n",
       "    <tr>\n",
       "      <th>4</th>\n",
       "      <td>8.0</td>\n",
       "      <td>7.0</td>\n",
       "      <td>548.471</td>\n",
       "      <td>6.0</td>\n",
       "      <td>9.99</td>\n",
       "      <td>39.99</td>\n",
       "      <td>119.95</td>\n",
       "      <td>4.0</td>\n",
       "      <td>9.99</td>\n",
       "      <td>39.99</td>\n",
       "      <td>...</td>\n",
       "      <td>88.0</td>\n",
       "      <td>41.0</td>\n",
       "      <td>5.0</td>\n",
       "      <td>0</td>\n",
       "      <td>1</td>\n",
       "      <td>0</td>\n",
       "      <td>0</td>\n",
       "      <td>0</td>\n",
       "      <td>1</td>\n",
       "      <td>1</td>\n",
       "    </tr>\n",
       "  </tbody>\n",
       "</table>\n",
       "<p>5 rows × 25 columns</p>\n",
       "</div>"
      ],
      "text/plain": [
       "   startHour  startWeekday  duration  cCount  cMinPrice  cMaxPrice  cSumPrice  \\\n",
       "0        6.0           6.0   148.694    14.0      11.99      26.99     261.88   \n",
       "1       21.0           5.0   502.445    15.0      29.99      49.99     629.85   \n",
       "2       21.0           6.0  2268.294    33.0       4.99      19.99     373.76   \n",
       "3        9.0           6.0    98.096     5.0      19.99      34.99     129.95   \n",
       "4        8.0           7.0   548.471     6.0       9.99      39.99     119.95   \n",
       "\n",
       "   bCount  bMinPrice  bMaxPrice  ...  payments   age  lastOrder  \\\n",
       "0     3.0      11.99      26.99  ...     -99.0 -99.0      -99.0   \n",
       "1     4.0      29.99      49.99  ...       4.0  60.0       13.0   \n",
       "2     5.0       5.00      17.99  ...       1.0  55.0      230.0   \n",
       "3     5.0      19.99      34.99  ...       0.0  51.0      552.0   \n",
       "4     4.0       9.99      39.99  ...      88.0  41.0        5.0   \n",
       "\n",
       "   availability_completely_orderable  address_1  address_2  \\\n",
       "0                                  0          0          0   \n",
       "1                                  1          0          1   \n",
       "2                                  1          0          1   \n",
       "3                                  1          0          1   \n",
       "4                                  0          1          0   \n",
       "\n",
       "   time_of_day_afternoon  time_of_day_evening  onlineStatus_-99  order  \n",
       "0                      0                    0                 1      1  \n",
       "1                      0                    1                 0      1  \n",
       "2                      0                    1                 0      1  \n",
       "3                      0                    0                 0      1  \n",
       "4                      0                    0                 1      1  \n",
       "\n",
       "[5 rows x 25 columns]"
      ]
     },
     "execution_count": 2,
     "metadata": {},
     "output_type": "execute_result"
    }
   ],
   "source": [
    "FILE_NAME = \"df_train_rfe.csv\"\n",
    "\n",
    "input_train_path = os.path.join(\n",
    "    '..',\n",
    "    '..',\n",
    "    'dataset',\n",
    "    'feature-engineering',\n",
    "    FILE_NAME\n",
    ")\n",
    "\n",
    "df_train = pd.read_csv(input_train_path)\n",
    "df_train.head()\n",
    "\n",
    "input_test_path = os.path.join(\n",
    "    '..',\n",
    "    '..',\n",
    "    'dataset',\n",
    "    'feature-engineering',\n",
    "    FILE_NAME.replace('train','test')\n",
    ")\n",
    "df_test = pd.read_csv(input_test_path)\n",
    "df_test.head()"
   ]
  },
  {
   "cell_type": "markdown",
   "id": "b76f247a-2927-49e0-8680-7f49b8ec716b",
   "metadata": {},
   "source": [
    "# Prepare training and test set"
   ]
  },
  {
   "cell_type": "code",
   "execution_count": 3,
   "id": "97a3c061-0842-4af2-86d0-1b6f9f8c3b82",
   "metadata": {},
   "outputs": [
    {
     "data": {
      "text/plain": [
       "238878"
      ]
     },
     "execution_count": 3,
     "metadata": {},
     "output_type": "execute_result"
    }
   ],
   "source": [
    "row_count = df_train.shape[0]\n",
    "row_count"
   ]
  },
  {
   "cell_type": "code",
   "execution_count": 4,
   "id": "d38237c8-c52b-49c1-9e54-00bc0ef5c93e",
   "metadata": {},
   "outputs": [
    {
     "data": {
      "text/plain": [
       "startHour                              16.000\n",
       "startWeekday                            5.000\n",
       "duration                               84.495\n",
       "cCount                                  7.000\n",
       "cMinPrice                               3.990\n",
       "cMaxPrice                              29.990\n",
       "cSumPrice                             183.930\n",
       "bCount                                  1.000\n",
       "bMinPrice                              29.990\n",
       "bMaxPrice                              29.990\n",
       "bSumPrice                              29.990\n",
       "bStep                                 -99.000\n",
       "maxVal                               2500.000\n",
       "customerScore                         582.000\n",
       "accountLifetime                       359.000\n",
       "payments                               13.000\n",
       "age                                    72.000\n",
       "lastOrder                             146.000\n",
       "availability_completely_orderable       0.000\n",
       "address_1                               1.000\n",
       "address_2                               0.000\n",
       "time_of_day_afternoon                   1.000\n",
       "time_of_day_evening                     0.000\n",
       "onlineStatus_-99                        1.000\n",
       "order                                   1.000\n",
       "Name: 0, dtype: float64"
      ]
     },
     "execution_count": 4,
     "metadata": {},
     "output_type": "execute_result"
    }
   ],
   "source": [
    "df_train.iloc[0]"
   ]
  },
  {
   "cell_type": "code",
   "execution_count": 5,
   "id": "f4614679-a824-4b64-9401-98cad388eed2",
   "metadata": {},
   "outputs": [
    {
     "name": "stdout",
     "output_type": "stream",
     "text": [
      "availability_-99 doesn't exist!\n",
      "availability_completely_not_determinable doesn't exist!\n",
      "availability_completely_not_orderable doesn't exist!\n",
      "availability_mainly_not_determinable doesn't exist!\n",
      "availability_mainly_not_orderable doesn't exist!\n",
      "availability_mainly_orderable doesn't exist!\n",
      "address_-99 doesn't exist!\n",
      "time_of_day_early_morning doesn't exist!\n",
      "onlineStatus_0 doesn't exist!\n"
     ]
    }
   ],
   "source": [
    "categorical_feature_list_initial = [\n",
    "    'availability_-99', 'availability_completely_not_determinable',\n",
    "    'availability_completely_not_orderable','availability_completely_orderable',\n",
    "    'availability_mainly_not_determinable','availability_mainly_not_orderable', \n",
    "    'availability_mainly_orderable',\n",
    "    'address_-99', 'address_1', 'address_2', \n",
    "    'time_of_day_afternoon','time_of_day_early_morning', 'time_of_day_evening', \n",
    "    'onlineStatus_-99','onlineStatus_0'\n",
    "]\n",
    "\n",
    "categorical_feature_list = []\n",
    "for col in categorical_feature_list_initial:\n",
    "    try:\n",
    "        df_train[col] = df_train[col].astype(int)\n",
    "        df_test[col] = df_test[col].astype(int)\n",
    "        categorical_feature_list.append(col)\n",
    "    except:\n",
    "        print(f\"{col} doesn't exist!\")\n",
    "        continue"
   ]
  },
  {
   "cell_type": "code",
   "execution_count": 6,
   "id": "a9052b21-e8dc-4cad-9d1c-4a623434c09c",
   "metadata": {},
   "outputs": [],
   "source": [
    "target_class = 'order'\n",
    "\n",
    "y_train = df_train[target_class].copy()\n",
    "X_train = df_train.drop(labels=[target_class], axis=1)\n",
    "\n",
    "y_test = df_test[target_class].copy()\n",
    "X_test = df_test.drop(labels=[target_class], axis=1)"
   ]
  },
  {
   "cell_type": "code",
   "execution_count": 7,
   "id": "4892193b-651a-4df4-81cb-5f670aba1b99",
   "metadata": {},
   "outputs": [
    {
     "name": "stdout",
     "output_type": "stream",
     "text": [
      "(238878, 24) (238878,)\n",
      "(128704, 24) (128704,)\n"
     ]
    }
   ],
   "source": [
    "print(X_train.shape, y_train.shape)\n",
    "print(X_test.shape, y_test.shape)"
   ]
  },
  {
   "cell_type": "code",
   "execution_count": 8,
   "id": "476fc1ea-36bf-4e63-9ca9-fae25b159ae0",
   "metadata": {},
   "outputs": [],
   "source": [
    "from sklearn.metrics import accuracy_score, classification_report, f1_score\n",
    "from sklearn.metrics import roc_auc_score\n",
    "\n",
    "def evaluate_performance(y_true, y_pred, print_results = True):\n",
    "    accuracy = accuracy_score(y_true, y_pred)\n",
    "    f_score = f1_score(y_true, y_pred)\n",
    "    auc = roc_auc_score(y_true, y_pred)\n",
    "    \n",
    "    if print_results:\n",
    "        print(f\"Accuracy : {accuracy:.3%}\")\n",
    "        print(f\"F1-score : {f_score:.3%}\")\n",
    "        print(f\"AUC: {auc:.3f}\")\n",
    "        print(classification_report(y_true, y_pred))\n",
    "        \n",
    "    return accuracy, f_score, auc"
   ]
  },
  {
   "cell_type": "code",
   "execution_count": 9,
   "id": "52d50cec-64dc-44bd-8a76-aeadd4480f68",
   "metadata": {},
   "outputs": [],
   "source": [
    "from sklearn.model_selection import KFold\n",
    "\n",
    "def kfold_cv(clf, X_train, y_train, k = 10):\n",
    "    kfold = KFold(random_state = RND, shuffle = True, n_splits = k)\n",
    "    \n",
    "    cv_accuracy = np.zeros(shape=k)\n",
    "    cv_f1 = np.zeros(shape=k)\n",
    "    cv_auc = np.zeros(shape=k)\n",
    "    \n",
    "    i = 0\n",
    "    for train_index, val_index in kfold.split(X_train):\n",
    "        X_tr = X_train.loc[train_index]\n",
    "        y_tr = y_train.loc[train_index]\n",
    "        X_val = X_train.loc[val_index]\n",
    "        y_val = y_train.loc[val_index]\n",
    "        \n",
    "        clf.fit(X_tr, y_tr)\n",
    "        y_pred = clf.predict(X_val)\n",
    "        accuracy, f_score, auc = evaluate_performance(y_val, y_pred, print_results = False)\n",
    "        print(f\"Iteration {i+1}: Accuracy={accuracy:.3%} | F1-score={f_score:.3%} | AUC={auc:.3f}\")\n",
    "        \n",
    "        cv_accuracy[i] = accuracy\n",
    "        cv_f1[i] = f_score\n",
    "        cv_auc[i] = auc\n",
    "        \n",
    "        i += 1\n",
    "    \n",
    "    print(\"Cross-validation results\")\n",
    "    print(\"========================\")\n",
    "    print(f\"Accuracy: {np.mean(cv_accuracy):.3%} +- {np.std(cv_accuracy):.3%}\")\n",
    "    print(f\"F1-score: {np.mean(cv_f1):.3%} +- {np.std(cv_f1):.3%}\")\n",
    "    print(f\"AUC: {np.mean(cv_auc):.3f} +- {np.std(cv_auc):.3f}\")"
   ]
  },
  {
   "cell_type": "markdown",
   "id": "386c6b66-cca0-4a8c-9812-de902220f63d",
   "metadata": {},
   "source": [
    "# Model Training and Evaluation\n",
    "\n"
   ]
  },
  {
   "cell_type": "markdown",
   "id": "c9651df6-9385-42be-9ecf-1fc5c8266d10",
   "metadata": {},
   "source": [
    "# Random Forest"
   ]
  },
  {
   "cell_type": "code",
   "execution_count": 10,
   "id": "2bb9b625-6490-4e84-96af-184e4c5f725f",
   "metadata": {},
   "outputs": [
    {
     "name": "stdout",
     "output_type": "stream",
     "text": [
      "Iteration 1: Accuracy=92.017% | F1-score=92.099% | AUC=0.920\n",
      "Iteration 2: Accuracy=91.962% | F1-score=92.154% | AUC=0.920\n",
      "Iteration 3: Accuracy=91.898% | F1-score=92.065% | AUC=0.919\n",
      "Iteration 4: Accuracy=91.931% | F1-score=92.096% | AUC=0.919\n",
      "Iteration 5: Accuracy=92.123% | F1-score=92.234% | AUC=0.921\n",
      "Cross-validation results\n",
      "========================\n",
      "Accuracy: 91.986% +- 0.079%\n",
      "F1-score: 92.130% +- 0.060%\n",
      "AUC: 0.920 +- 0.001\n"
     ]
    },
    {
     "data": {
      "text/plain": [
       "RandomForestClassifier(max_depth=30, n_estimators=300, random_state=121)"
      ]
     },
     "execution_count": 10,
     "metadata": {},
     "output_type": "execute_result"
    }
   ],
   "source": [
    "from sklearn.ensemble import RandomForestClassifier\n",
    "\n",
    "model_rf = RandomForestClassifier(\n",
    "    random_state=RND,\n",
    "    n_estimators=300,\n",
    "    max_depth=30,\n",
    "    min_samples_split=2,\n",
    ")\n",
    "\n",
    "## Perform k-fold cross-validation\n",
    "KFOLD_ITER = 5\n",
    "kfold_cv(model_rf, X_train, y_train, k=KFOLD_ITER)\n",
    "\n",
    "## Train with the whole training set\n",
    "model_rf.fit(X_train, y_train)"
   ]
  },
  {
   "cell_type": "code",
   "execution_count": 11,
   "id": "21671b8d-767b-49d5-bf05-e96f02a6d2a7",
   "metadata": {},
   "outputs": [
    {
     "name": "stdout",
     "output_type": "stream",
     "text": [
      "Accuracy : 82.506%\n",
      "F1-score : 87.581%\n",
      "AUC: 0.777\n",
      "              precision    recall  f1-score   support\n",
      "\n",
      "           0       0.78      0.64      0.70     41947\n",
      "           1       0.84      0.92      0.88     86757\n",
      "\n",
      "    accuracy                           0.83    128704\n",
      "   macro avg       0.81      0.78      0.79    128704\n",
      "weighted avg       0.82      0.83      0.82    128704\n",
      "\n"
     ]
    }
   ],
   "source": [
    "y_pred = model_rf.predict(X_test)\n",
    "accuracy, f_score, auc = evaluate_performance(y_test, y_pred)"
   ]
  },
  {
   "cell_type": "code",
   "execution_count": 12,
   "id": "441f7d1c-ba3d-4042-b931-1f6817fb7f5f",
   "metadata": {},
   "outputs": [
    {
     "data": {
      "text/plain": [
       "{'bootstrap': True,\n",
       " 'ccp_alpha': 0.0,\n",
       " 'class_weight': None,\n",
       " 'criterion': 'gini',\n",
       " 'max_depth': 30,\n",
       " 'max_features': 'auto',\n",
       " 'max_leaf_nodes': None,\n",
       " 'max_samples': None,\n",
       " 'min_impurity_decrease': 0.0,\n",
       " 'min_impurity_split': None,\n",
       " 'min_samples_leaf': 1,\n",
       " 'min_samples_split': 2,\n",
       " 'min_weight_fraction_leaf': 0.0,\n",
       " 'n_estimators': 300,\n",
       " 'n_jobs': None,\n",
       " 'oob_score': False,\n",
       " 'random_state': 121,\n",
       " 'verbose': 0,\n",
       " 'warm_start': False}"
      ]
     },
     "execution_count": 12,
     "metadata": {},
     "output_type": "execute_result"
    }
   ],
   "source": [
    "model_rf.get_params()"
   ]
  },
  {
   "cell_type": "code",
   "execution_count": 13,
   "id": "bb443620-c6a7-4787-9e5a-af3832c0a558",
   "metadata": {},
   "outputs": [
    {
     "data": {
      "image/png": "[encoded data removed]",
      "text/plain": [
       "<Figure size 864x864 with 1 Axes>"
      ]
     },
     "metadata": {
      "needs_background": "light"
     },
     "output_type": "display_data"
    }
   ],
   "source": [
    "rf_coef = pd.DataFrame(\n",
    "    data = {\n",
    "        'feature_name': X_train.columns,\n",
    "        'coef': model_rf.feature_importances_\n",
    "    }\n",
    ").sort_values(by='coef', ascending=False)\n",
    "rf_coef['coef_abs'] = np.abs(rf_coef['coef'])\n",
    "\n",
    "\n",
    "f, ax = plt.subplots(figsize=(12, 12))\n",
    "sns.barplot(\n",
    "    data=rf_coef,\n",
    "    y='feature_name',\n",
    "    x='coef',\n",
    "    orient='h',\n",
    "    palette='magma',\n",
    "    ax=ax\n",
    ");\n",
    "\n",
    "plt.xlabel('coefficient value')\n",
    "plt.ylabel('')\n",
    "sns.despine();"
   ]
  }
 ],
 "metadata": {
  "kernelspec": {
   "display_name": "py37",
   "language": "python",
   "name": "myenv"
  },
  "language_info": {
   "codemirror_mode": {
    "name": "ipython",
    "version": 3
   },
   "file_extension": ".py",
   "mimetype": "text/x-python",
   "name": "python",
   "nbconvert_exporter": "python",
   "pygments_lexer": "ipython3",
   "version": "3.7.11"
  }
 },
 "nbformat": 4,
 "nbformat_minor": 5
}
