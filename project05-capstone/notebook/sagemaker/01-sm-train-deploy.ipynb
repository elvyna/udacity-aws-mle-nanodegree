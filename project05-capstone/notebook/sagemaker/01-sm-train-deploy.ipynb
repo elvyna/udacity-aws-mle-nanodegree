{
 "cells": [
  {
   "cell_type": "code",
   "execution_count": 1,
   "metadata": {},
   "outputs": [],
   "source": [
    "import sagemaker\n",
    "import boto3\n",
    "import os\n",
    "import numpy as np\n",
    "import seaborn as sns\n",
    "\n",
    "sns.set_context(\"talk\")\n",
    "\n",
    "BUCKET = 'project05-capstone-vexenta'\n",
    "role = sagemaker.get_execution_role()"
   ]
  },
  {
   "cell_type": "code",
   "execution_count": 2,
   "metadata": {},
   "outputs": [],
   "source": [
    "model_output_dir = f\"s3://{BUCKET}/model/hp-tuning/model.tar.gz\"\n",
    "input_train = f\"s3://{BUCKET}/data/model-input/train/df_train_rfe.csv\"\n",
    "input_test = f\"s3://{BUCKET}/data/model-input/test/df_test_rfe.csv\"\n",
    "\n",
    "os.environ[\"SM_MODEL_DIR\"] = model_output_dir\n",
    "os.environ[\"SM_CHANNEL_TRAIN\"] = input_train\n",
    "os.environ[\"SM_CHANNEL_TEST\"] = input_test"
   ]
  },
  {
   "cell_type": "code",
   "execution_count": 3,
   "metadata": {},
   "outputs": [
    {
     "data": {
      "text/plain": [
       "{'_tuning_objective_metric': '\"cv f1-score\"',\n",
       " 'max_depth': 30,\n",
       " 'min_samples_split': 2,\n",
       " 'n_estimators': 300,\n",
       " 'sagemaker_container_log_level': '20',\n",
       " 'sagemaker_estimator_class_name': '\"SKLearn\"',\n",
       " 'sagemaker_estimator_module': '\"sagemaker.sklearn.estimator\"',\n",
       " 'sagemaker_job_name': '\"sagemaker-scikit-learn-2022-01-04-00-40-29-497\"',\n",
       " 'sagemaker_program': '\"train-rf.py\"',\n",
       " 'sagemaker_region': '\"us-east-1\"',\n",
       " 'sagemaker_submit_directory': '\"s3://sagemaker-us-east-1-567220378588/sagemaker-scikit-learn-2022-01-04-00-40-29-497/source/sourcedir.tar.gz\"'}"
      ]
     },
     "execution_count": 3,
     "metadata": {},
     "output_type": "execute_result"
    }
   ],
   "source": [
    "hyperparameters = {\n",
    "    '_tuning_objective_metric': '\"cv f1-score\"',\n",
    "    'max_depth': '\"30\"',\n",
    "    'min_samples_split': '\"2\"',\n",
    "    'n_estimators': '\"300\"',\n",
    "    'sagemaker_container_log_level': '20',\n",
    "    'sagemaker_estimator_class_name': '\"SKLearn\"',\n",
    "    'sagemaker_estimator_module': '\"sagemaker.sklearn.estimator\"',\n",
    "    'sagemaker_job_name': '\"sagemaker-scikit-learn-2022-01-04-00-40-29-497\"',\n",
    "    'sagemaker_program': '\"train-rf.py\"',\n",
    "    'sagemaker_region': '\"us-east-1\"',\n",
    "    'sagemaker_submit_directory': '\"s3://sagemaker-us-east-1-567220378588/sagemaker-scikit-learn-2022-01-04-00-40-29-497/source/sourcedir.tar.gz\"'\n",
    "}\n",
    "\n",
    "## reformat input\n",
    "for key in [\"min_samples_split\",\"n_estimators\",\"max_depth\"]:\n",
    "    if not isinstance(hyperparameters[key], int):\n",
    "        hyperparameters[key] = int(hyperparameters[key].replace('\"',''))\n",
    "        \n",
    "hyperparameters"
   ]
  },
  {
   "cell_type": "code",
   "execution_count": 5,
   "metadata": {},
   "outputs": [
    {
     "name": "stdout",
     "output_type": "stream",
     "text": [
      "2022-01-04 01:48:38 Starting - Starting the training job...\n",
      "2022-01-04 01:49:01 Starting - Launching requested ML instancesProfilerReport-1641260918: InProgress\n",
      "......\n",
      "2022-01-04 01:50:01 Starting - Preparing the instances for training......\n",
      "2022-01-04 01:51:06 Downloading - Downloading input data...\n",
      "2022-01-04 01:51:35 Training - Downloading the training image...\n",
      "2022-01-04 01:52:02 Training - Training image download completed. Training in progress.\u001b[34m2022-01-04 01:51:50,680 sagemaker-containers INFO     Imported framework sagemaker_sklearn_container.training\u001b[0m\n",
      "\u001b[34m2022-01-04 01:51:50,683 sagemaker-training-toolkit INFO     No GPUs detected (normal if no gpus installed)\u001b[0m\n",
      "\u001b[34m2022-01-04 01:51:50,691 sagemaker_sklearn_container.training INFO     Invoking user training script.\u001b[0m\n",
      "\u001b[34m2022-01-04 01:51:51,040 sagemaker-training-toolkit INFO     No GPUs detected (normal if no gpus installed)\u001b[0m\n",
      "\u001b[34m2022-01-04 01:51:51,051 sagemaker-training-toolkit INFO     No GPUs detected (normal if no gpus installed)\u001b[0m\n",
      "\u001b[34m2022-01-04 01:51:51,062 sagemaker-training-toolkit INFO     No GPUs detected (normal if no gpus installed)\u001b[0m\n",
      "\u001b[34m2022-01-04 01:51:51,073 sagemaker-training-toolkit INFO     Invoking user script\u001b[0m\n",
      "\u001b[34mTraining Env:\u001b[0m\n",
      "\u001b[34m{\n",
      "    \"additional_framework_parameters\": {\n",
      "        \"sagemaker_estimator_class_name\": \"\\\"SKLearn\\\"\",\n",
      "        \"sagemaker_estimator_module\": \"\\\"sagemaker.sklearn.estimator\\\"\"\n",
      "    },\n",
      "    \"channel_input_dirs\": {\n",
      "        \"test\": \"/opt/ml/input/data/test\",\n",
      "        \"train\": \"/opt/ml/input/data/train\"\n",
      "    },\n",
      "    \"current_host\": \"algo-1\",\n",
      "    \"framework_module\": \"sagemaker_sklearn_container.training:main\",\n",
      "    \"hosts\": [\n",
      "        \"algo-1\"\n",
      "    ],\n",
      "    \"hyperparameters\": {\n",
      "        \"max_depth\": 30,\n",
      "        \"min_samples_split\": 2,\n",
      "        \"n_estimators\": 300\n",
      "    },\n",
      "    \"input_config_dir\": \"/opt/ml/input/config\",\n",
      "    \"input_data_config\": {\n",
      "        \"test\": {\n",
      "            \"TrainingInputMode\": \"File\",\n",
      "            \"S3DistributionType\": \"FullyReplicated\",\n",
      "            \"RecordWrapperType\": \"None\"\n",
      "        },\n",
      "        \"train\": {\n",
      "            \"TrainingInputMode\": \"File\",\n",
      "            \"S3DistributionType\": \"FullyReplicated\",\n",
      "            \"RecordWrapperType\": \"None\"\n",
      "        }\n",
      "    },\n",
      "    \"input_dir\": \"/opt/ml/input\",\n",
      "    \"is_master\": true,\n",
      "    \"job_name\": \"sagemaker-scikit-learn-2022-01-04-01-48-37-966\",\n",
      "    \"log_level\": 20,\n",
      "    \"master_hostname\": \"algo-1\",\n",
      "    \"model_dir\": \"/opt/ml/model\",\n",
      "    \"module_dir\": \"s3://sagemaker-us-east-1-567220378588/sagemaker-scikit-learn-2022-01-04-01-48-37-966/source/sourcedir.tar.gz\",\n",
      "    \"module_name\": \"train-rf\",\n",
      "    \"network_interface_name\": \"eth0\",\n",
      "    \"num_cpus\": 8,\n",
      "    \"num_gpus\": 0,\n",
      "    \"output_data_dir\": \"/opt/ml/output/data\",\n",
      "    \"output_dir\": \"/opt/ml/output\",\n",
      "    \"output_intermediate_dir\": \"/opt/ml/output/intermediate\",\n",
      "    \"resource_config\": {\n",
      "        \"current_host\": \"algo-1\",\n",
      "        \"hosts\": [\n",
      "            \"algo-1\"\n",
      "        ],\n",
      "        \"network_interface_name\": \"eth0\"\n",
      "    },\n",
      "    \"user_entry_point\": \"train-rf.py\"\u001b[0m\n",
      "\u001b[34m}\u001b[0m\n",
      "\u001b[34mEnvironment variables:\u001b[0m\n",
      "\u001b[34mSM_HOSTS=[\"algo-1\"]\u001b[0m\n",
      "\u001b[34mSM_NETWORK_INTERFACE_NAME=eth0\u001b[0m\n",
      "\u001b[34mSM_HPS={\"max_depth\":30,\"min_samples_split\":2,\"n_estimators\":300}\u001b[0m\n",
      "\u001b[34mSM_USER_ENTRY_POINT=train-rf.py\u001b[0m\n",
      "\u001b[34mSM_FRAMEWORK_PARAMS={\"sagemaker_estimator_class_name\":\"\\\"SKLearn\\\"\",\"sagemaker_estimator_module\":\"\\\"sagemaker.sklearn.estimator\\\"\"}\u001b[0m\n",
      "\u001b[34mSM_RESOURCE_CONFIG={\"current_host\":\"algo-1\",\"hosts\":[\"algo-1\"],\"network_interface_name\":\"eth0\"}\u001b[0m\n",
      "\u001b[34mSM_INPUT_DATA_CONFIG={\"test\":{\"RecordWrapperType\":\"None\",\"S3DistributionType\":\"FullyReplicated\",\"TrainingInputMode\":\"File\"},\"train\":{\"RecordWrapperType\":\"None\",\"S3DistributionType\":\"FullyReplicated\",\"TrainingInputMode\":\"File\"}}\u001b[0m\n",
      "\u001b[34mSM_OUTPUT_DATA_DIR=/opt/ml/output/data\u001b[0m\n",
      "\u001b[34mSM_CHANNELS=[\"test\",\"train\"]\u001b[0m\n",
      "\u001b[34mSM_CURRENT_HOST=algo-1\u001b[0m\n",
      "\u001b[34mSM_MODULE_NAME=train-rf\u001b[0m\n",
      "\u001b[34mSM_LOG_LEVEL=20\u001b[0m\n",
      "\u001b[34mSM_FRAMEWORK_MODULE=sagemaker_sklearn_container.training:main\u001b[0m\n",
      "\u001b[34mSM_INPUT_DIR=/opt/ml/input\u001b[0m\n",
      "\u001b[34mSM_INPUT_CONFIG_DIR=/opt/ml/input/config\u001b[0m\n",
      "\u001b[34mSM_OUTPUT_DIR=/opt/ml/output\u001b[0m\n",
      "\u001b[34mSM_NUM_CPUS=8\u001b[0m\n",
      "\u001b[34mSM_NUM_GPUS=0\u001b[0m\n",
      "\u001b[34mSM_MODEL_DIR=/opt/ml/model\u001b[0m\n",
      "\u001b[34mSM_MODULE_DIR=s3://sagemaker-us-east-1-567220378588/sagemaker-scikit-learn-2022-01-04-01-48-37-966/source/sourcedir.tar.gz\u001b[0m\n",
      "\u001b[34mSM_TRAINING_ENV={\"additional_framework_parameters\":{\"sagemaker_estimator_class_name\":\"\\\"SKLearn\\\"\",\"sagemaker_estimator_module\":\"\\\"sagemaker.sklearn.estimator\\\"\"},\"channel_input_dirs\":{\"test\":\"/opt/ml/input/data/test\",\"train\":\"/opt/ml/input/data/train\"},\"current_host\":\"algo-1\",\"framework_module\":\"sagemaker_sklearn_container.training:main\",\"hosts\":[\"algo-1\"],\"hyperparameters\":{\"max_depth\":30,\"min_samples_split\":2,\"n_estimators\":300},\"input_config_dir\":\"/opt/ml/input/config\",\"input_data_config\":{\"test\":{\"RecordWrapperType\":\"None\",\"S3DistributionType\":\"FullyReplicated\",\"TrainingInputMode\":\"File\"},\"train\":{\"RecordWrapperType\":\"None\",\"S3DistributionType\":\"FullyReplicated\",\"TrainingInputMode\":\"File\"}},\"input_dir\":\"/opt/ml/input\",\"is_master\":true,\"job_name\":\"sagemaker-scikit-learn-2022-01-04-01-48-37-966\",\"log_level\":20,\"master_hostname\":\"algo-1\",\"model_dir\":\"/opt/ml/model\",\"module_dir\":\"s3://sagemaker-us-east-1-567220378588/sagemaker-scikit-learn-2022-01-04-01-48-37-966/source/sourcedir.tar.gz\",\"module_name\":\"train-rf\",\"network_interface_name\":\"eth0\",\"num_cpus\":8,\"num_gpus\":0,\"output_data_dir\":\"/opt/ml/output/data\",\"output_dir\":\"/opt/ml/output\",\"output_intermediate_dir\":\"/opt/ml/output/intermediate\",\"resource_config\":{\"current_host\":\"algo-1\",\"hosts\":[\"algo-1\"],\"network_interface_name\":\"eth0\"},\"user_entry_point\":\"train-rf.py\"}\u001b[0m\n",
      "\u001b[34mSM_USER_ARGS=[\"--max_depth\",\"30\",\"--min_samples_split\",\"2\",\"--n_estimators\",\"300\"]\u001b[0m\n",
      "\u001b[34mSM_OUTPUT_INTERMEDIATE_DIR=/opt/ml/output/intermediate\u001b[0m\n",
      "\u001b[34mSM_CHANNEL_TEST=/opt/ml/input/data/test\u001b[0m\n",
      "\u001b[34mSM_CHANNEL_TRAIN=/opt/ml/input/data/train\u001b[0m\n",
      "\u001b[34mSM_HP_MAX_DEPTH=30\u001b[0m\n",
      "\u001b[34mSM_HP_MIN_SAMPLES_SPLIT=2\u001b[0m\n",
      "\u001b[34mSM_HP_N_ESTIMATORS=300\u001b[0m\n",
      "\u001b[34mPYTHONPATH=/opt/ml/code:/miniconda3/bin:/miniconda3/lib/python37.zip:/miniconda3/lib/python3.7:/miniconda3/lib/python3.7/lib-dynload:/miniconda3/lib/python3.7/site-packages\u001b[0m\n",
      "\u001b[34mInvoking script with the following command:\u001b[0m\n",
      "\u001b[34m/miniconda3/bin/python train-rf.py --max_depth 30 --min_samples_split 2 --n_estimators 300\u001b[0m\n",
      "\u001b[34m/miniconda3/lib/python3.7/site-packages/sklearn/externals/joblib/externals/cloudpickle/cloudpickle.py:47: DeprecationWarning: the imp module is deprecated in favour of importlib; see the module's documentation for alternative uses\n",
      "  import imp\u001b[0m\n",
      "\u001b[34mtrain-rf.py 2022-01-04 01:53:56+0000 INFO Line no: 81 Iteration 1: Accuracy=91.931% | F1-score=92.019% | AUC=0.919\u001b[0m\n",
      "\u001b[34mtrain-rf.py 2022-01-04 01:55:52+0000 INFO Line no: 81 Iteration 2: Accuracy=91.958% | F1-score=92.151% | AUC=0.920\u001b[0m\n",
      "\u001b[34mtrain-rf.py 2022-01-04 01:57:49+0000 INFO Line no: 81 Iteration 3: Accuracy=91.697% | F1-score=91.875% | AUC=0.917\u001b[0m\n",
      "\u001b[34mtrain-rf.py 2022-01-04 01:59:44+0000 INFO Line no: 81 Iteration 4: Accuracy=91.830% | F1-score=91.992% | AUC=0.918\u001b[0m\n",
      "\u001b[34mtrain-rf.py 2022-01-04 02:01:40+0000 INFO Line no: 81 Iteration 5: Accuracy=91.937% | F1-score=92.062% | AUC=0.919\u001b[0m\n",
      "\u001b[34mtrain-rf.py 2022-01-04 02:01:40+0000 INFO Line no: 90 Cross-validation results\u001b[0m\n",
      "\u001b[34mtrain-rf.py 2022-01-04 02:01:40+0000 INFO Line no: 91 ========================\u001b[0m\n",
      "\u001b[34mtrain-rf.py 2022-01-04 02:01:40+0000 INFO Line no: 92 CV Accuracy: 91.871% +- 0.098%\u001b[0m\n",
      "\u001b[34mtrain-rf.py 2022-01-04 02:01:40+0000 INFO Line no: 93 CV F1-score: 92.020% +- 0.090%\u001b[0m\n",
      "\u001b[34mtrain-rf.py 2022-01-04 02:01:40+0000 INFO Line no: 94 CV AUC: 0.919 +- 0.001\u001b[0m\n",
      "\u001b[34mtrain-rf.py 2022-01-04 02:04:13+0000 INFO Line no: 53 test set - Accuracy : 82.614%\u001b[0m\n",
      "\u001b[34mtrain-rf.py 2022-01-04 02:04:13+0000 INFO Line no: 54 test set - F1-score : 87.642%\u001b[0m\n",
      "\u001b[34mtrain-rf.py 2022-01-04 02:04:13+0000 INFO Line no: 55 test set - AUC: 0.779\u001b[0m\n",
      "\u001b[34mtrain-rf.py 2022-01-04 02:04:13+0000 INFO Line no: 56               precision    recall  f1-score   support\n",
      "           0       0.78      0.64      0.71     41947\n",
      "           1       0.84      0.91      0.88     86757\n",
      "   micro avg       0.83      0.83      0.83    128704\n",
      "   macro avg       0.81      0.78      0.79    128704\u001b[0m\n",
      "\u001b[34mweighted avg       0.82      0.83      0.82    128704\u001b[0m\n",
      "\u001b[34mtrain-rf.py 2022-01-04 02:04:13+0000 INFO Line no: 184 {'bootstrap': True, 'class_weight': None, 'criterion': 'gini', 'max_depth': 30, 'max_features': 'auto', 'max_leaf_nodes': None, 'min_impurity_decrease': 0.0, 'min_impurity_split': None, 'min_samples_leaf': 1, 'min_samples_split': 2, 'min_weight_fraction_leaf': 0.0, 'n_estimators': 300, 'n_jobs': None, 'oob_score': False, 'random_state': 121, 'verbose': 0, 'warm_start': False}\u001b[0m\n",
      "\u001b[34m2022-01-04 02:04:15,185 sagemaker-containers INFO     Reporting training SUCCESS\u001b[0m\n",
      "\n",
      "2022-01-04 02:04:26 Uploading - Uploading generated training model\n",
      "2022-01-04 02:05:41 Completed - Training job completed\n",
      "Training seconds: 875\n",
      "Billable seconds: 875\n"
     ]
    }
   ],
   "source": [
    "## create estimators for your HPs\n",
    "from sagemaker.sklearn.estimator import SKLearn\n",
    "\n",
    "estimator = SKLearn(\n",
    "    entry_point=\"../../src/modelling/train-rf.py\",\n",
    "    role=role,\n",
    "    py_version='py3',\n",
    "    framework_version=\"0.20.0\",\n",
    "    instance_count=1,\n",
    "    instance_type=\"ml.m5.2xlarge\",\n",
    "    hyperparameters=hyperparameters,\n",
    ")\n",
    "\n",
    "## Fit your model\n",
    "estimator.fit(\n",
    "    inputs={\n",
    "        \"train\": input_train, \n",
    "        \"test\": input_test,\n",
    "    },\n",
    "    wait=True\n",
    ")"
   ]
  },
  {
   "cell_type": "code",
   "execution_count": 6,
   "metadata": {},
   "outputs": [
    {
     "data": {
      "text/plain": [
       "'s3://sagemaker-us-east-1-567220378588/sagemaker-scikit-learn-2022-01-04-01-48-37-966/output/model.tar.gz'"
      ]
     },
     "execution_count": 6,
     "metadata": {},
     "output_type": "execute_result"
    }
   ],
   "source": [
    "estimator.model_data"
   ]
  },
  {
   "cell_type": "code",
   "execution_count": 8,
   "metadata": {},
   "outputs": [],
   "source": [
    "# ## deploy endpoint -- failed, must provide model_fn\n",
    "# predictor = estimator.deploy(\n",
    "#     initial_instance_count=1,\n",
    "#     instance_type='ml.m5.large'\n",
    "# )"
   ]
  },
  {
   "cell_type": "code",
   "execution_count": 11,
   "metadata": {},
   "outputs": [
    {
     "name": "stdout",
     "output_type": "stream",
     "text": [
      "-----!"
     ]
    },
    {
     "data": {
      "text/plain": [
       "<sagemaker.sklearn.model.SKLearnPredictor at 0x7fb4a13c3850>"
      ]
     },
     "execution_count": 11,
     "metadata": {},
     "output_type": "execute_result"
    }
   ],
   "source": [
    "## live endpoint: prepare preprocessing logic as functions, then fit into the endpoint\n",
    "## to enable this, MUST prepare endpoint.py (with model_fn, etc.)\n",
    "# model_object = \n",
    "\n",
    "## batch transform? generate predictions on df_test_rfe.csv\n",
    "\n",
    "from sagemaker.sklearn.model import SKLearnModel\n",
    "\n",
    "model_location = 's3://sagemaker-us-east-1-567220378588/sagemaker-scikit-learn-2022-01-04-01-48-37-966/output/model.tar.gz'\n",
    "sklearn_model = SKLearnModel(\n",
    "    model_data=model_location, \n",
    "    role=role,\n",
    "    entry_point='../../src/modelling/inference.py',\n",
    "    py_version='py3',\n",
    "    framework_version='0.20.0',\n",
    "#     predictor_cls=ImagePredictor\n",
    ")\n",
    "\n",
    "predictor = sklearn_model.deploy(\n",
    "    initial_instance_count=1, \n",
    "    instance_type='ml.m5.large'\n",
    ")\n",
    "\n",
    "predictor"
   ]
  },
  {
   "cell_type": "code",
   "execution_count": 12,
   "metadata": {},
   "outputs": [
    {
     "data": {
      "text/plain": [
       "<sagemaker.sklearn.model.SKLearnPredictor at 0x7fb4a13c3850>"
      ]
     },
     "execution_count": 12,
     "metadata": {},
     "output_type": "execute_result"
    }
   ],
   "source": [
    "predictor"
   ]
  },
  {
   "cell_type": "code",
   "execution_count": 13,
   "metadata": {},
   "outputs": [],
   "source": [
    "predictor.delete_endpoint()"
   ]
  }
 ],
 "metadata": {
  "instance_type": "ml.t3.medium",
  "kernelspec": {
   "display_name": "Python 3 (Data Science)",
   "language": "python",
   "name": "python3__SAGEMAKER_INTERNAL__arn:aws:sagemaker:us-east-1:081325390199:image/datascience-1.0"
  },
  "language_info": {
   "codemirror_mode": {
    "name": "ipython",
    "version": 3
   },
   "file_extension": ".py",
   "mimetype": "text/x-python",
   "name": "python",
   "nbconvert_exporter": "python",
   "pygments_lexer": "ipython3",
   "version": "3.7.10"
  }
 },
 "nbformat": 4,
 "nbformat_minor": 5
}
