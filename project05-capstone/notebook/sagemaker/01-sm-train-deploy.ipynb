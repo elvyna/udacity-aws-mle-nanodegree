{
 "cells": [
  {
   "cell_type": "code",
   "execution_count": 2,
   "metadata": {},
   "outputs": [],
   "source": [
    "import sagemaker\n",
    "import boto3\n",
    "import os\n",
    "import numpy as np\n",
    "import seaborn as sns\n",
    "\n",
    "sns.set_context(\"talk\")\n",
    "\n",
    "BUCKET = 'project05-capstone-vexenta'\n",
    "role = sagemaker.get_execution_role()"
   ]
  },
  {
   "cell_type": "markdown",
   "metadata": {},
   "source": [
    "# Train Model\n",
    "\n",
    "Using best hyperparameters from `notebook/sagemaker/00-sm-hp-tuning.ipynb`."
   ]
  },
  {
   "cell_type": "code",
   "execution_count": 3,
   "metadata": {},
   "outputs": [],
   "source": [
    "model_output_dir = f\"s3://{BUCKET}/model/hp-tuning/model.tar.gz\"\n",
    "input_train = f\"s3://{BUCKET}/data/model-input/train/df_train_rfe.csv\"\n",
    "input_test = f\"s3://{BUCKET}/data/model-input/test/df_test_rfe.csv\"\n",
    "\n",
    "os.environ[\"SM_MODEL_DIR\"] = model_output_dir\n",
    "os.environ[\"SM_CHANNEL_TRAIN\"] = input_train\n",
    "os.environ[\"SM_CHANNEL_TEST\"] = input_test"
   ]
  },
  {
   "cell_type": "code",
   "execution_count": 19,
   "metadata": {},
   "outputs": [
    {
     "data": {
      "text/plain": [
       "{'_tuning_objective_metric': '\"cv f1-score\"',\n",
       " 'max_depth': 30,\n",
       " 'min_samples_split': 2,\n",
       " 'n_estimators': 300,\n",
       " 'sagemaker_container_log_level': '20',\n",
       " 'sagemaker_estimator_class_name': '\"SKLearn\"',\n",
       " 'sagemaker_estimator_module': '\"sagemaker.sklearn.estimator\"',\n",
       " 'sagemaker_job_name': '\"sagemaker-scikit-learn-2022-01-05-01-33-08-441\"',\n",
       " 'sagemaker_program': '\"train-rf.py\"',\n",
       " 'sagemaker_region': '\"us-east-1\"',\n",
       " 'sagemaker_submit_directory': '\"s3://sagemaker-us-east-1-567220378588/sagemaker-scikit-learn-2022-01-05-01-33-08-441/source/sourcedir.tar.gz\"'}"
      ]
     },
     "execution_count": 19,
     "metadata": {},
     "output_type": "execute_result"
    }
   ],
   "source": [
    "hyperparameters = {\n",
    "    '_tuning_objective_metric': '\"cv f1-score\"',\n",
    "    'max_depth': '\"30\"',\n",
    "    'min_samples_split': '\"2\"',\n",
    "    'n_estimators': '\"300\"',\n",
    "    'sagemaker_container_log_level': '20',\n",
    "    'sagemaker_estimator_class_name': '\"SKLearn\"',\n",
    "    'sagemaker_estimator_module': '\"sagemaker.sklearn.estimator\"',\n",
    "    'sagemaker_job_name': '\"sagemaker-scikit-learn-2022-01-05-01-33-08-441\"',\n",
    "    'sagemaker_program': '\"train-rf.py\"',\n",
    "    'sagemaker_region': '\"us-east-1\"',\n",
    "    'sagemaker_submit_directory': '\"s3://sagemaker-us-east-1-567220378588/sagemaker-scikit-learn-2022-01-05-01-33-08-441/source/sourcedir.tar.gz\"'\n",
    "}\n",
    "\n",
    "## reformat input\n",
    "for key in [\"min_samples_split\",\"n_estimators\",\"max_depth\"]:\n",
    "    if not isinstance(hyperparameters[key], int):\n",
    "        hyperparameters[key] = int(hyperparameters[key].replace('\"',''))\n",
    "        \n",
    "hyperparameters"
   ]
  },
  {
   "cell_type": "code",
   "execution_count": 20,
   "metadata": {},
   "outputs": [
    {
     "name": "stdout",
     "output_type": "stream",
     "text": [
      "2022-01-05 02:18:32 Starting - Starting the training job...\n",
      "2022-01-05 02:18:56 Starting - Launching requested ML instancesProfilerReport-1641349111: InProgress\n",
      "......\n",
      "2022-01-05 02:19:56 Starting - Preparing the instances for training......\n",
      "2022-01-05 02:21:01 Downloading - Downloading input data...\n",
      "2022-01-05 02:21:17 Training - Downloading the training image....\u001b[34m2022-01-05 02:22:06,464 sagemaker-containers INFO     Imported framework sagemaker_sklearn_container.training\u001b[0m\n",
      "\u001b[34m2022-01-05 02:22:06,467 sagemaker-training-toolkit INFO     No GPUs detected (normal if no gpus installed)\u001b[0m\n",
      "\u001b[34m2022-01-05 02:22:06,476 sagemaker_sklearn_container.training INFO     Invoking user training script.\u001b[0m\n",
      "\u001b[34m2022-01-05 02:22:06,754 sagemaker-training-toolkit INFO     No GPUs detected (normal if no gpus installed)\u001b[0m\n",
      "\u001b[34m2022-01-05 02:22:13,024 sagemaker-training-toolkit INFO     No GPUs detected (normal if no gpus installed)\u001b[0m\n",
      "\u001b[34m2022-01-05 02:22:13,036 sagemaker-training-toolkit INFO     No GPUs detected (normal if no gpus installed)\u001b[0m\n",
      "\u001b[34m2022-01-05 02:22:13,047 sagemaker-training-toolkit INFO     Invoking user script\u001b[0m\n",
      "\u001b[34mTraining Env:\u001b[0m\n",
      "\u001b[34m{\n",
      "    \"additional_framework_parameters\": {\n",
      "        \"sagemaker_estimator_class_name\": \"\\\"SKLearn\\\"\",\n",
      "        \"sagemaker_estimator_module\": \"\\\"sagemaker.sklearn.estimator\\\"\"\n",
      "    },\n",
      "    \"channel_input_dirs\": {\n",
      "        \"test\": \"/opt/ml/input/data/test\",\n",
      "        \"train\": \"/opt/ml/input/data/train\"\n",
      "    },\n",
      "    \"current_host\": \"algo-1\",\n",
      "    \"framework_module\": \"sagemaker_sklearn_container.training:main\",\n",
      "    \"hosts\": [\n",
      "        \"algo-1\"\n",
      "    ],\n",
      "    \"hyperparameters\": {\n",
      "        \"max_depth\": 30,\n",
      "        \"min_samples_split\": 2,\n",
      "        \"n_estimators\": 300\n",
      "    },\n",
      "    \"input_config_dir\": \"/opt/ml/input/config\",\n",
      "    \"input_data_config\": {\n",
      "        \"test\": {\n",
      "            \"TrainingInputMode\": \"File\",\n",
      "            \"S3DistributionType\": \"FullyReplicated\",\n",
      "            \"RecordWrapperType\": \"None\"\n",
      "        },\n",
      "        \"train\": {\n",
      "            \"TrainingInputMode\": \"File\",\n",
      "            \"S3DistributionType\": \"FullyReplicated\",\n",
      "            \"RecordWrapperType\": \"None\"\n",
      "        }\n",
      "    },\n",
      "    \"input_dir\": \"/opt/ml/input\",\n",
      "    \"is_master\": true,\n",
      "    \"job_name\": \"sagemaker-scikit-learn-2022-01-05-02-18-31-464\",\n",
      "    \"log_level\": 20,\n",
      "    \"master_hostname\": \"algo-1\",\n",
      "    \"model_dir\": \"/opt/ml/model\",\n",
      "    \"module_dir\": \"s3://sagemaker-us-east-1-567220378588/sagemaker-scikit-learn-2022-01-05-02-18-31-464/source/sourcedir.tar.gz\",\n",
      "    \"module_name\": \"train-rf\",\n",
      "    \"network_interface_name\": \"eth0\",\n",
      "    \"num_cpus\": 8,\n",
      "    \"num_gpus\": 0,\n",
      "    \"output_data_dir\": \"/opt/ml/output/data\",\n",
      "    \"output_dir\": \"/opt/ml/output\",\n",
      "    \"output_intermediate_dir\": \"/opt/ml/output/intermediate\",\n",
      "    \"resource_config\": {\n",
      "        \"current_host\": \"algo-1\",\n",
      "        \"hosts\": [\n",
      "            \"algo-1\"\n",
      "        ],\n",
      "        \"network_interface_name\": \"eth0\"\n",
      "    },\n",
      "    \"user_entry_point\": \"train-rf.py\"\u001b[0m\n",
      "\u001b[34m}\u001b[0m\n",
      "\u001b[34mEnvironment variables:\u001b[0m\n",
      "\u001b[34mSM_HOSTS=[\"algo-1\"]\u001b[0m\n",
      "\u001b[34mSM_NETWORK_INTERFACE_NAME=eth0\u001b[0m\n",
      "\u001b[34mSM_HPS={\"max_depth\":30,\"min_samples_split\":2,\"n_estimators\":300}\u001b[0m\n",
      "\u001b[34mSM_USER_ENTRY_POINT=train-rf.py\u001b[0m\n",
      "\u001b[34mSM_FRAMEWORK_PARAMS={\"sagemaker_estimator_class_name\":\"\\\"SKLearn\\\"\",\"sagemaker_estimator_module\":\"\\\"sagemaker.sklearn.estimator\\\"\"}\u001b[0m\n",
      "\u001b[34mSM_RESOURCE_CONFIG={\"current_host\":\"algo-1\",\"hosts\":[\"algo-1\"],\"network_interface_name\":\"eth0\"}\u001b[0m\n",
      "\u001b[34mSM_INPUT_DATA_CONFIG={\"test\":{\"RecordWrapperType\":\"None\",\"S3DistributionType\":\"FullyReplicated\",\"TrainingInputMode\":\"File\"},\"train\":{\"RecordWrapperType\":\"None\",\"S3DistributionType\":\"FullyReplicated\",\"TrainingInputMode\":\"File\"}}\u001b[0m\n",
      "\u001b[34mSM_OUTPUT_DATA_DIR=/opt/ml/output/data\u001b[0m\n",
      "\u001b[34mSM_CHANNELS=[\"test\",\"train\"]\u001b[0m\n",
      "\u001b[34mSM_CURRENT_HOST=algo-1\u001b[0m\n",
      "\u001b[34mSM_MODULE_NAME=train-rf\u001b[0m\n",
      "\u001b[34mSM_LOG_LEVEL=20\u001b[0m\n",
      "\u001b[34mSM_FRAMEWORK_MODULE=sagemaker_sklearn_container.training:main\u001b[0m\n",
      "\u001b[34mSM_INPUT_DIR=/opt/ml/input\u001b[0m\n",
      "\u001b[34mSM_INPUT_CONFIG_DIR=/opt/ml/input/config\u001b[0m\n",
      "\u001b[34mSM_OUTPUT_DIR=/opt/ml/output\u001b[0m\n",
      "\u001b[34mSM_NUM_CPUS=8\u001b[0m\n",
      "\u001b[34mSM_NUM_GPUS=0\u001b[0m\n",
      "\u001b[34mSM_MODEL_DIR=/opt/ml/model\u001b[0m\n",
      "\u001b[34mSM_MODULE_DIR=s3://sagemaker-us-east-1-567220378588/sagemaker-scikit-learn-2022-01-05-02-18-31-464/source/sourcedir.tar.gz\u001b[0m\n",
      "\u001b[34mSM_TRAINING_ENV={\"additional_framework_parameters\":{\"sagemaker_estimator_class_name\":\"\\\"SKLearn\\\"\",\"sagemaker_estimator_module\":\"\\\"sagemaker.sklearn.estimator\\\"\"},\"channel_input_dirs\":{\"test\":\"/opt/ml/input/data/test\",\"train\":\"/opt/ml/input/data/train\"},\"current_host\":\"algo-1\",\"framework_module\":\"sagemaker_sklearn_container.training:main\",\"hosts\":[\"algo-1\"],\"hyperparameters\":{\"max_depth\":30,\"min_samples_split\":2,\"n_estimators\":300},\"input_config_dir\":\"/opt/ml/input/config\",\"input_data_config\":{\"test\":{\"RecordWrapperType\":\"None\",\"S3DistributionType\":\"FullyReplicated\",\"TrainingInputMode\":\"File\"},\"train\":{\"RecordWrapperType\":\"None\",\"S3DistributionType\":\"FullyReplicated\",\"TrainingInputMode\":\"File\"}},\"input_dir\":\"/opt/ml/input\",\"is_master\":true,\"job_name\":\"sagemaker-scikit-learn-2022-01-05-02-18-31-464\",\"log_level\":20,\"master_hostname\":\"algo-1\",\"model_dir\":\"/opt/ml/model\",\"module_dir\":\"s3://sagemaker-us-east-1-567220378588/sagemaker-scikit-learn-2022-01-05-02-18-31-464/source/sourcedir.tar.gz\",\"module_name\":\"train-rf\",\"network_interface_name\":\"eth0\",\"num_cpus\":8,\"num_gpus\":0,\"output_data_dir\":\"/opt/ml/output/data\",\"output_dir\":\"/opt/ml/output\",\"output_intermediate_dir\":\"/opt/ml/output/intermediate\",\"resource_config\":{\"current_host\":\"algo-1\",\"hosts\":[\"algo-1\"],\"network_interface_name\":\"eth0\"},\"user_entry_point\":\"train-rf.py\"}\u001b[0m\n",
      "\u001b[34mSM_USER_ARGS=[\"--max_depth\",\"30\",\"--min_samples_split\",\"2\",\"--n_estimators\",\"300\"]\u001b[0m\n",
      "\u001b[34mSM_OUTPUT_INTERMEDIATE_DIR=/opt/ml/output/intermediate\u001b[0m\n",
      "\u001b[34mSM_CHANNEL_TEST=/opt/ml/input/data/test\u001b[0m\n",
      "\u001b[34mSM_CHANNEL_TRAIN=/opt/ml/input/data/train\u001b[0m\n",
      "\u001b[34mSM_HP_MAX_DEPTH=30\u001b[0m\n",
      "\u001b[34mSM_HP_MIN_SAMPLES_SPLIT=2\u001b[0m\n",
      "\u001b[34mSM_HP_N_ESTIMATORS=300\u001b[0m\n",
      "\u001b[34mPYTHONPATH=/opt/ml/code:/miniconda3/bin:/miniconda3/lib/python37.zip:/miniconda3/lib/python3.7:/miniconda3/lib/python3.7/lib-dynload:/miniconda3/lib/python3.7/site-packages\u001b[0m\n",
      "\u001b[34mInvoking script with the following command:\u001b[0m\n",
      "\u001b[34m/miniconda3/bin/python train-rf.py --max_depth 30 --min_samples_split 2 --n_estimators 300\u001b[0m\n",
      "\u001b[34m/miniconda3/lib/python3.7/site-packages/sklearn/externals/joblib/externals/cloudpickle/cloudpickle.py:47: DeprecationWarning: the imp module is deprecated in favour of importlib; see the module's documentation for alternative uses\n",
      "  import imp\u001b[0m\n",
      "\n",
      "2022-01-05 02:22:17 Training - Training image download completed. Training in progress.\u001b[34mtrain-rf.py 2022-01-05 02:24:24+0000 INFO Line no: 95 Iteration 1: Accuracy=92.017% | F1-score=92.099% | AUC=0.920\u001b[0m\n",
      "\u001b[34mtrain-rf.py 2022-01-05 02:26:28+0000 INFO Line no: 95 Iteration 2: Accuracy=91.962% | F1-score=92.154% | AUC=0.920\u001b[0m\n",
      "\u001b[34mtrain-rf.py 2022-01-05 02:28:31+0000 INFO Line no: 95 Iteration 3: Accuracy=91.898% | F1-score=92.065% | AUC=0.919\u001b[0m\n",
      "\u001b[34mtrain-rf.py 2022-01-05 02:30:34+0000 INFO Line no: 95 Iteration 4: Accuracy=91.931% | F1-score=92.096% | AUC=0.919\u001b[0m\n",
      "\u001b[34mtrain-rf.py 2022-01-05 02:32:38+0000 INFO Line no: 95 Iteration 5: Accuracy=92.123% | F1-score=92.234% | AUC=0.921\u001b[0m\n",
      "\u001b[34mtrain-rf.py 2022-01-05 02:32:38+0000 INFO Line no: 104 Cross-validation results\u001b[0m\n",
      "\u001b[34mtrain-rf.py 2022-01-05 02:32:38+0000 INFO Line no: 105 ========================\u001b[0m\n",
      "\u001b[34mtrain-rf.py 2022-01-05 02:32:38+0000 INFO Line no: 106 CV Accuracy: 91.986% +- 0.079%\u001b[0m\n",
      "\u001b[34mtrain-rf.py 2022-01-05 02:32:38+0000 INFO Line no: 107 CV F1-score: 92.130% +- 0.060%\u001b[0m\n",
      "\u001b[34mtrain-rf.py 2022-01-05 02:32:38+0000 INFO Line no: 108 CV AUC: 0.920 +- 0.001\u001b[0m\n",
      "\n",
      "2022-01-05 02:35:29 Uploading - Uploading generated training model\u001b[34mtrain-rf.py 2022-01-05 02:35:23+0000 INFO Line no: 53 test set - Accuracy : 82.506%\u001b[0m\n",
      "\u001b[34mtrain-rf.py 2022-01-05 02:35:23+0000 INFO Line no: 54 test set - F1-score : 87.581%\u001b[0m\n",
      "\u001b[34mtrain-rf.py 2022-01-05 02:35:23+0000 INFO Line no: 55 test set - AUC: 0.777\u001b[0m\n",
      "\u001b[34mtrain-rf.py 2022-01-05 02:35:23+0000 INFO Line no: 56               precision    recall  f1-score   support\n",
      "           0       0.78      0.64      0.70     41947\n",
      "           1       0.84      0.92      0.88     86757\n",
      "   micro avg       0.83      0.83      0.83    128704\n",
      "   macro avg       0.81      0.78      0.79    128704\u001b[0m\n",
      "\u001b[34mweighted avg       0.82      0.83      0.82    128704\u001b[0m\n",
      "\u001b[34mtrain-rf.py 2022-01-05 02:35:23+0000 INFO Line no: 198 {'bootstrap': True, 'class_weight': None, 'criterion': 'gini', 'max_depth': 30, 'max_features': 'auto', 'max_leaf_nodes': None, 'min_impurity_decrease': 0.0, 'min_impurity_split': None, 'min_samples_leaf': 1, 'min_samples_split': 2, 'min_weight_fraction_leaf': 0.0, 'n_estimators': 300, 'n_jobs': None, 'oob_score': False, 'random_state': 121, 'verbose': 0, 'warm_start': False}\u001b[0m\n",
      "\u001b[34m2022-01-05 02:35:24,643 sagemaker-containers INFO     Reporting training SUCCESS\u001b[0m\n",
      "\n",
      "2022-01-05 02:37:01 Completed - Training job completed\n",
      "Training seconds: 951\n",
      "Billable seconds: 951\n"
     ]
    }
   ],
   "source": [
    "## create estimators for your HPs\n",
    "from sagemaker.sklearn.estimator import SKLearn\n",
    "\n",
    "estimator = SKLearn(\n",
    "    entry_point=\"../../src/modelling/train-rf.py\",\n",
    "    role=role,\n",
    "    py_version='py3',\n",
    "    framework_version=\"0.20.0\",\n",
    "    instance_count=1,\n",
    "    instance_type=\"ml.m5.2xlarge\",\n",
    "    hyperparameters=hyperparameters,\n",
    ")\n",
    "\n",
    "## Fit your model\n",
    "estimator.fit(\n",
    "    inputs={\n",
    "        \"train\": input_train, \n",
    "        \"test\": input_test,\n",
    "    },\n",
    "    wait=True\n",
    ")"
   ]
  },
  {
   "cell_type": "code",
   "execution_count": 21,
   "metadata": {},
   "outputs": [
    {
     "data": {
      "text/plain": [
       "'s3://sagemaker-us-east-1-567220378588/sagemaker-scikit-learn-2022-01-05-02-18-31-464/output/model.tar.gz'"
      ]
     },
     "execution_count": 21,
     "metadata": {},
     "output_type": "execute_result"
    }
   ],
   "source": [
    "estimator.model_data"
   ]
  },
  {
   "cell_type": "markdown",
   "metadata": {},
   "source": [
    "# Deploy model as a Sagemaker Endpoint\n",
    "\n",
    "Relevant readings:\n",
    "- https://github.com/aws/amazon-sagemaker-examples/blob/master/sagemaker-python-sdk/scikit_learn_randomforest/Sklearn_on_SageMaker_end2end.ipynb\n",
    "- https://dev.to/aws-builders/running-custom-algorithm-in-aws-sagemaker-4jdf\n",
    "- https://github.com/aws/amazon-sagemaker-examples/blob/master/sagemaker-python-sdk/scikit_learn_inference_pipeline/Inference%20Pipeline%20with%20Scikit-learn%20and%20Linear%20Learner.ipynb"
   ]
  },
  {
   "cell_type": "markdown",
   "metadata": {},
   "source": [
    "## Pass a JSON input"
   ]
  },
  {
   "cell_type": "code",
   "execution_count": 53,
   "metadata": {},
   "outputs": [
    {
     "name": "stdout",
     "output_type": "stream",
     "text": [
      "-----!"
     ]
    },
    {
     "data": {
      "text/plain": [
       "<sagemaker.sklearn.model.SKLearnPredictor at 0x7fee396accd0>"
      ]
     },
     "execution_count": 53,
     "metadata": {},
     "output_type": "execute_result"
    }
   ],
   "source": [
    "## live endpoint: prepare preprocessing logic as functions, then fit into the endpoint\n",
    "## to enable this, MUST provide an inference script (with model_fn, etc.)\n",
    "from sagemaker.sklearn.model import SKLearnModel\n",
    "from sagemaker.serializers import JSONSerializer\n",
    "\n",
    "model_location = 's3://sagemaker-us-east-1-567220378588/sagemaker-scikit-learn-2022-01-05-02-18-31-464/output/model.tar.gz'\n",
    "sklearn_model = SKLearnModel(\n",
    "    model_data=model_location, \n",
    "    role=role,\n",
    "    entry_point='../../src/modelling/inference.py',\n",
    "    py_version='py3',\n",
    "    framework_version='0.20.0',\n",
    ")\n",
    "\n",
    "predictor = sklearn_model.deploy(\n",
    "    initial_instance_count=1, \n",
    "    instance_type='ml.m5.large',\n",
    "    serializer=JSONSerializer()\n",
    ")\n",
    "\n",
    "predictor"
   ]
  },
  {
   "cell_type": "code",
   "execution_count": 54,
   "metadata": {},
   "outputs": [
    {
     "name": "stdout",
     "output_type": "stream",
     "text": [
      "{\"data\": {\"sessionNo\": 101, \"startHour\": 4, \"startWeekday\": 7, \"duration\": 0, \"cCount\": 2, \"cMinPrice\": 30, \"cMaxPrice\": 40, \"cSumPrice\": 70, \"bCount\": 1, \"bMinPrice\": 30, \"bMaxPrice\": 30, \"bSumPrice\": 30, \"bStep\": \"?\", \"onlineStatus\": \"?\", \"availability\": \"?\", \"customerNo\": 39, \"maxVal\": 200, \"customerScore\": 65, \"accountLifetime\": 30, \"payments\": 2, \"age\": 39, \"address\": 1, \"lastOrder\": 30}}\n",
      "[0]\n"
     ]
    }
   ],
   "source": [
    "import json\n",
    "\n",
    "payload = {\n",
    "    \"data\": {\n",
    "        \"sessionNo\": 101,\n",
    "        \"startHour\": 4,\n",
    "        \"startWeekday\": 7,\n",
    "        \"duration\": 0,\n",
    "        \"cCount\": 2,\n",
    "        \"cMinPrice\": 30,\n",
    "        \"cMaxPrice\": 40,\n",
    "        \"cSumPrice\": 70,\n",
    "        \"bCount\": 1,\n",
    "        \"bMinPrice\": 30,\n",
    "        \"bMaxPrice\": 30,\n",
    "        \"bSumPrice\": 30,\n",
    "        \"bStep\": \"?\",\n",
    "        \"onlineStatus\": \"?\",\n",
    "        \"availability\": \"?\",\n",
    "        \"customerNo\": 39,\n",
    "        \"maxVal\": 200,\n",
    "        \"customerScore\": 65,\n",
    "        \"accountLifetime\": 30,\n",
    "        \"payments\": 2,\n",
    "        \"age\": 39,\n",
    "        \"address\": 1,\n",
    "        \"lastOrder\": 30,\n",
    "    }\n",
    "}\n",
    "\n",
    "print(json.dumps(payload))\n",
    "\n",
    "response = predictor.predict(\n",
    "#     json.dumps(payload), ## not needed since we've used JSONSerializer()\n",
    "    payload,\n",
    "    initial_args={\n",
    "        \"ContentType\": \"application/json\"\n",
    "    }\n",
    ")\n",
    "\n",
    "print(response)"
   ]
  },
  {
   "cell_type": "code",
   "execution_count": 55,
   "metadata": {},
   "outputs": [
    {
     "name": "stdout",
     "output_type": "stream",
     "text": [
      "{\"data\": {\"sessionNo\": 15, \"startHour\": 6, \"startWeekday\": 5, \"duration\": 10, \"cCount\": 2, \"cMinPrice\": 30, \"cMaxPrice\": 40, \"cSumPrice\": 70, \"bCount\": 1, \"bMinPrice\": 30, \"bMaxPrice\": 30, \"bSumPrice\": 30, \"bStep\": \"?\", \"onlineStatus\": \"?\", \"availability\": \"?\", \"customerNo\": 39, \"maxVal\": 200, \"customerScore\": 65, \"accountLifetime\": 30, \"payments\": 2, \"age\": 19, \"address\": 2, \"lastOrder\": 75}}\n",
      "[1]\n"
     ]
    }
   ],
   "source": [
    "payload = {\n",
    "    \"data\": {\n",
    "        \"sessionNo\": 15,\n",
    "        \"startHour\": 6,\n",
    "        \"startWeekday\": 5,\n",
    "        \"duration\": 10,\n",
    "        \"cCount\": 2,\n",
    "        \"cMinPrice\": 30,\n",
    "        \"cMaxPrice\": 40,\n",
    "        \"cSumPrice\": 70,\n",
    "        \"bCount\": 1,\n",
    "        \"bMinPrice\": 30,\n",
    "        \"bMaxPrice\": 30,\n",
    "        \"bSumPrice\": 30,\n",
    "        \"bStep\": \"?\",\n",
    "        \"onlineStatus\": \"?\",\n",
    "        \"availability\": \"?\",\n",
    "        \"customerNo\": 39,\n",
    "        \"maxVal\": 200,\n",
    "        \"customerScore\": 65,\n",
    "        \"accountLifetime\": 30,\n",
    "        \"payments\": 2,\n",
    "        \"age\": 19,\n",
    "        \"address\": 2,\n",
    "        \"lastOrder\": 75,\n",
    "    }\n",
    "}\n",
    "\n",
    "print(json.dumps(payload))\n",
    "\n",
    "response = predictor.predict(\n",
    "    payload,\n",
    "    initial_args={\n",
    "        \"ContentType\": \"application/json\"\n",
    "    }\n",
    ")\n",
    "\n",
    "print(response)"
   ]
  },
  {
   "cell_type": "code",
   "execution_count": 56,
   "metadata": {},
   "outputs": [],
   "source": [
    "predictor.delete_endpoint()"
   ]
  },
  {
   "cell_type": "markdown",
   "metadata": {},
   "source": [
    "Yeay, it works!"
   ]
  },
  {
   "cell_type": "markdown",
   "metadata": {},
   "source": [
    "## Pass CSV input\n",
    "\n",
    "**not working yet**."
   ]
  },
  {
   "cell_type": "code",
   "execution_count": 41,
   "metadata": {},
   "outputs": [
    {
     "name": "stdout",
     "output_type": "stream",
     "text": [
      "-----!"
     ]
    },
    {
     "data": {
      "text/plain": [
       "<sagemaker.sklearn.model.SKLearnPredictor at 0x7fee3a2b7310>"
      ]
     },
     "execution_count": 41,
     "metadata": {},
     "output_type": "execute_result"
    }
   ],
   "source": [
    "## live endpoint: prepare preprocessing logic as functions, then fit into the endpoint\n",
    "## to enable this, MUST provide an inference script (with model_fn, etc.)\n",
    "from sagemaker.sklearn.model import SKLearnModel\n",
    "from sagemaker.serializers import CSVSerializer\n",
    "\n",
    "model_location = 's3://sagemaker-us-east-1-567220378588/sagemaker-scikit-learn-2022-01-05-02-18-31-464/output/model.tar.gz'\n",
    "sklearn_model = SKLearnModel(\n",
    "    model_data=model_location, \n",
    "    role=role,\n",
    "    entry_point='../../src/modelling/inference.py',\n",
    "    py_version='py3',\n",
    "    framework_version='0.20.0',\n",
    ")\n",
    "\n",
    "predictor = sklearn_model.deploy(\n",
    "    initial_instance_count=1, \n",
    "    instance_type='ml.m5.large',\n",
    "    serializer=CSVSerializer(),\n",
    "#     deserializer=JSONDeserializer, #CSVDeserializer,\n",
    ")\n",
    "\n",
    "predictor"
   ]
  },
  {
   "cell_type": "code",
   "execution_count": 45,
   "metadata": {},
   "outputs": [
    {
     "data": {
      "text/html": [
       "<div>\n",
       "<style scoped>\n",
       "    .dataframe tbody tr th:only-of-type {\n",
       "        vertical-align: middle;\n",
       "    }\n",
       "\n",
       "    .dataframe tbody tr th {\n",
       "        vertical-align: top;\n",
       "    }\n",
       "\n",
       "    .dataframe thead th {\n",
       "        text-align: right;\n",
       "    }\n",
       "</style>\n",
       "<table border=\"1\" class=\"dataframe\">\n",
       "  <thead>\n",
       "    <tr style=\"text-align: right;\">\n",
       "      <th></th>\n",
       "      <th>sessionNo</th>\n",
       "      <th>startHour</th>\n",
       "      <th>startWeekday</th>\n",
       "      <th>duration</th>\n",
       "      <th>cCount</th>\n",
       "      <th>cMinPrice</th>\n",
       "      <th>cMaxPrice</th>\n",
       "      <th>cSumPrice</th>\n",
       "      <th>bCount</th>\n",
       "      <th>bMinPrice</th>\n",
       "      <th>...</th>\n",
       "      <th>onlineStatus</th>\n",
       "      <th>availability</th>\n",
       "      <th>customerNo</th>\n",
       "      <th>maxVal</th>\n",
       "      <th>customerScore</th>\n",
       "      <th>accountLifetime</th>\n",
       "      <th>payments</th>\n",
       "      <th>age</th>\n",
       "      <th>address</th>\n",
       "      <th>lastOrder</th>\n",
       "    </tr>\n",
       "  </thead>\n",
       "  <tbody>\n",
       "    <tr>\n",
       "      <th>0</th>\n",
       "      <td>101</td>\n",
       "      <td>4</td>\n",
       "      <td>7</td>\n",
       "      <td>0</td>\n",
       "      <td>2</td>\n",
       "      <td>30</td>\n",
       "      <td>40</td>\n",
       "      <td>70</td>\n",
       "      <td>1</td>\n",
       "      <td>30</td>\n",
       "      <td>...</td>\n",
       "      <td>?</td>\n",
       "      <td>?</td>\n",
       "      <td>39</td>\n",
       "      <td>200</td>\n",
       "      <td>65</td>\n",
       "      <td>30</td>\n",
       "      <td>2</td>\n",
       "      <td>39</td>\n",
       "      <td>1</td>\n",
       "      <td>30</td>\n",
       "    </tr>\n",
       "  </tbody>\n",
       "</table>\n",
       "<p>1 rows × 23 columns</p>\n",
       "</div>"
      ],
      "text/plain": [
       "   sessionNo  startHour  startWeekday  duration  cCount  cMinPrice  cMaxPrice  \\\n",
       "0        101          4             7         0       2         30         40   \n",
       "\n",
       "   cSumPrice  bCount  bMinPrice  ...  onlineStatus  availability customerNo  \\\n",
       "0         70       1         30  ...             ?             ?         39   \n",
       "\n",
       "  maxVal customerScore  accountLifetime  payments  age  address  lastOrder  \n",
       "0    200            65               30         2   39        1         30  \n",
       "\n",
       "[1 rows x 23 columns]"
      ]
     },
     "execution_count": 45,
     "metadata": {},
     "output_type": "execute_result"
    }
   ],
   "source": [
    "import pandas as pd\n",
    "\n",
    "## sample input to test the endpoint\n",
    "payload = {\n",
    "        \"sessionNo\": 101,\n",
    "        \"startHour\": 4,\n",
    "        \"startWeekday\": 7,\n",
    "        \"duration\": 0,\n",
    "        \"cCount\": 2,\n",
    "        \"cMinPrice\": 30,\n",
    "        \"cMaxPrice\": 40,\n",
    "        \"cSumPrice\": 70,\n",
    "        \"bCount\": 1,\n",
    "        \"bMinPrice\": 30,\n",
    "        \"bMaxPrice\": 30,\n",
    "        \"bSumPrice\": 30,\n",
    "        \"bStep\": \"?\",\n",
    "        \"onlineStatus\": \"?\",\n",
    "        \"availability\": \"?\",\n",
    "        \"customerNo\": 39,\n",
    "        \"maxVal\": 200,\n",
    "        \"customerScore\": 65,\n",
    "        \"accountLifetime\": 30,\n",
    "        \"payments\": 2,\n",
    "        \"age\": 39,\n",
    "        \"address\": 1,\n",
    "        \"lastOrder\": 30,\n",
    "    }\n",
    "\n",
    "df_input = pd.json_normalize(payload)\n",
    "df_input"
   ]
  },
  {
   "cell_type": "code",
   "execution_count": 51,
   "metadata": {},
   "outputs": [
    {
     "ename": "ModelError",
     "evalue": "An error occurred (ModelError) when calling the InvokeEndpoint operation: Received server error (500) from primary with message \"<!DOCTYPE HTML PUBLIC \"-//W3C//DTD HTML 3.2 Final//EN\">\n<title>500 Internal Server Error</title>\n<h1>Internal Server Error</h1>\n<p>The server encountered an internal error and was unable to complete your request. Either the server is overloaded or there is an error in the application.</p>\n\". See https://us-east-1.console.aws.amazon.com/cloudwatch/home?region=us-east-1#logEventViewer:group=/aws/sagemaker/Endpoints/sagemaker-scikit-learn-2022-01-06-02-30-27-382 in account 567220378588 for more information.",
     "output_type": "error",
     "traceback": [
      "\u001b[0;31m---------------------------------------------------------------------------\u001b[0m",
      "\u001b[0;31mModelError\u001b[0m                                Traceback (most recent call last)",
      "\u001b[0;32m<ipython-input-51-e73890ece5a9>\u001b[0m in \u001b[0;36m<module>\u001b[0;34m\u001b[0m\n\u001b[1;32m      4\u001b[0m     \u001b[0mdata\u001b[0m\u001b[0;34m=\u001b[0m\u001b[0minput_csv\u001b[0m\u001b[0;34m,\u001b[0m\u001b[0;34m\u001b[0m\u001b[0;34m\u001b[0m\u001b[0m\n\u001b[1;32m      5\u001b[0m     initial_args={\n\u001b[0;32m----> 6\u001b[0;31m         \u001b[0;34m\"ContentType\"\u001b[0m\u001b[0;34m:\u001b[0m \u001b[0;34m\"text/csv\"\u001b[0m\u001b[0;34m\u001b[0m\u001b[0;34m\u001b[0m\u001b[0m\n\u001b[0m\u001b[1;32m      7\u001b[0m     }\n\u001b[1;32m      8\u001b[0m )\n",
      "\u001b[0;32m/opt/conda/lib/python3.7/site-packages/sagemaker/predictor.py\u001b[0m in \u001b[0;36mpredict\u001b[0;34m(self, data, initial_args, target_model, target_variant, inference_id)\u001b[0m\n\u001b[1;32m    159\u001b[0m             \u001b[0mdata\u001b[0m\u001b[0;34m,\u001b[0m \u001b[0minitial_args\u001b[0m\u001b[0;34m,\u001b[0m \u001b[0mtarget_model\u001b[0m\u001b[0;34m,\u001b[0m \u001b[0mtarget_variant\u001b[0m\u001b[0;34m,\u001b[0m \u001b[0minference_id\u001b[0m\u001b[0;34m\u001b[0m\u001b[0;34m\u001b[0m\u001b[0m\n\u001b[1;32m    160\u001b[0m         )\n\u001b[0;32m--> 161\u001b[0;31m         \u001b[0mresponse\u001b[0m \u001b[0;34m=\u001b[0m \u001b[0mself\u001b[0m\u001b[0;34m.\u001b[0m\u001b[0msagemaker_session\u001b[0m\u001b[0;34m.\u001b[0m\u001b[0msagemaker_runtime_client\u001b[0m\u001b[0;34m.\u001b[0m\u001b[0minvoke_endpoint\u001b[0m\u001b[0;34m(\u001b[0m\u001b[0;34m**\u001b[0m\u001b[0mrequest_args\u001b[0m\u001b[0;34m)\u001b[0m\u001b[0;34m\u001b[0m\u001b[0;34m\u001b[0m\u001b[0m\n\u001b[0m\u001b[1;32m    162\u001b[0m         \u001b[0;32mreturn\u001b[0m \u001b[0mself\u001b[0m\u001b[0;34m.\u001b[0m\u001b[0m_handle_response\u001b[0m\u001b[0;34m(\u001b[0m\u001b[0mresponse\u001b[0m\u001b[0;34m)\u001b[0m\u001b[0;34m\u001b[0m\u001b[0;34m\u001b[0m\u001b[0m\n\u001b[1;32m    163\u001b[0m \u001b[0;34m\u001b[0m\u001b[0m\n",
      "\u001b[0;32m/opt/conda/lib/python3.7/site-packages/botocore/client.py\u001b[0m in \u001b[0;36m_api_call\u001b[0;34m(self, *args, **kwargs)\u001b[0m\n\u001b[1;32m    389\u001b[0m                     \"%s() only accepts keyword arguments.\" % py_operation_name)\n\u001b[1;32m    390\u001b[0m             \u001b[0;31m# The \"self\" in this scope is referring to the BaseClient.\u001b[0m\u001b[0;34m\u001b[0m\u001b[0;34m\u001b[0m\u001b[0;34m\u001b[0m\u001b[0m\n\u001b[0;32m--> 391\u001b[0;31m             \u001b[0;32mreturn\u001b[0m \u001b[0mself\u001b[0m\u001b[0;34m.\u001b[0m\u001b[0m_make_api_call\u001b[0m\u001b[0;34m(\u001b[0m\u001b[0moperation_name\u001b[0m\u001b[0;34m,\u001b[0m \u001b[0mkwargs\u001b[0m\u001b[0;34m)\u001b[0m\u001b[0;34m\u001b[0m\u001b[0;34m\u001b[0m\u001b[0m\n\u001b[0m\u001b[1;32m    392\u001b[0m \u001b[0;34m\u001b[0m\u001b[0m\n\u001b[1;32m    393\u001b[0m         \u001b[0m_api_call\u001b[0m\u001b[0;34m.\u001b[0m\u001b[0m__name__\u001b[0m \u001b[0;34m=\u001b[0m \u001b[0mstr\u001b[0m\u001b[0;34m(\u001b[0m\u001b[0mpy_operation_name\u001b[0m\u001b[0;34m)\u001b[0m\u001b[0;34m\u001b[0m\u001b[0;34m\u001b[0m\u001b[0m\n",
      "\u001b[0;32m/opt/conda/lib/python3.7/site-packages/botocore/client.py\u001b[0m in \u001b[0;36m_make_api_call\u001b[0;34m(self, operation_name, api_params)\u001b[0m\n\u001b[1;32m    717\u001b[0m             \u001b[0merror_code\u001b[0m \u001b[0;34m=\u001b[0m \u001b[0mparsed_response\u001b[0m\u001b[0;34m.\u001b[0m\u001b[0mget\u001b[0m\u001b[0;34m(\u001b[0m\u001b[0;34m\"Error\"\u001b[0m\u001b[0;34m,\u001b[0m \u001b[0;34m{\u001b[0m\u001b[0;34m}\u001b[0m\u001b[0;34m)\u001b[0m\u001b[0;34m.\u001b[0m\u001b[0mget\u001b[0m\u001b[0;34m(\u001b[0m\u001b[0;34m\"Code\"\u001b[0m\u001b[0;34m)\u001b[0m\u001b[0;34m\u001b[0m\u001b[0;34m\u001b[0m\u001b[0m\n\u001b[1;32m    718\u001b[0m             \u001b[0merror_class\u001b[0m \u001b[0;34m=\u001b[0m \u001b[0mself\u001b[0m\u001b[0;34m.\u001b[0m\u001b[0mexceptions\u001b[0m\u001b[0;34m.\u001b[0m\u001b[0mfrom_code\u001b[0m\u001b[0;34m(\u001b[0m\u001b[0merror_code\u001b[0m\u001b[0;34m)\u001b[0m\u001b[0;34m\u001b[0m\u001b[0;34m\u001b[0m\u001b[0m\n\u001b[0;32m--> 719\u001b[0;31m             \u001b[0;32mraise\u001b[0m \u001b[0merror_class\u001b[0m\u001b[0;34m(\u001b[0m\u001b[0mparsed_response\u001b[0m\u001b[0;34m,\u001b[0m \u001b[0moperation_name\u001b[0m\u001b[0;34m)\u001b[0m\u001b[0;34m\u001b[0m\u001b[0;34m\u001b[0m\u001b[0m\n\u001b[0m\u001b[1;32m    720\u001b[0m         \u001b[0;32melse\u001b[0m\u001b[0;34m:\u001b[0m\u001b[0;34m\u001b[0m\u001b[0;34m\u001b[0m\u001b[0m\n\u001b[1;32m    721\u001b[0m             \u001b[0;32mreturn\u001b[0m \u001b[0mparsed_response\u001b[0m\u001b[0;34m\u001b[0m\u001b[0;34m\u001b[0m\u001b[0m\n",
      "\u001b[0;31mModelError\u001b[0m: An error occurred (ModelError) when calling the InvokeEndpoint operation: Received server error (500) from primary with message \"<!DOCTYPE HTML PUBLIC \"-//W3C//DTD HTML 3.2 Final//EN\">\n<title>500 Internal Server Error</title>\n<h1>Internal Server Error</h1>\n<p>The server encountered an internal error and was unable to complete your request. Either the server is overloaded or there is an error in the application.</p>\n\". See https://us-east-1.console.aws.amazon.com/cloudwatch/home?region=us-east-1#logEventViewer:group=/aws/sagemaker/Endpoints/sagemaker-scikit-learn-2022-01-06-02-30-27-382 in account 567220378588 for more information."
     ]
    }
   ],
   "source": [
    "input_csv = [str(elem) if elem != \"?\" else '\"?\"' for elem in df_input.values[0].tolist()]\n",
    "\n",
    "response = predictor.predict(\n",
    "    data=input_csv,\n",
    "    initial_args={\n",
    "        \"ContentType\": \"text/csv\"\n",
    "    }\n",
    ")\n",
    "\n",
    "print(response)"
   ]
  },
  {
   "cell_type": "code",
   "execution_count": 52,
   "metadata": {},
   "outputs": [],
   "source": [
    "predictor.delete_endpoint()"
   ]
  },
  {
   "cell_type": "markdown",
   "metadata": {},
   "source": [
    "# Batch transform\n",
    "\n",
    "**Not working at the moment**; we should adjust `inference.py` to accept `text/csv` content type properly - may requeire hard-coding the feature names there."
   ]
  },
  {
   "cell_type": "code",
   "execution_count": 25,
   "metadata": {},
   "outputs": [],
   "source": [
    "## batch transform\n",
    "from sagemaker.sklearn.model import SKLearnModel\n",
    "\n",
    "batch_transform_input_path = f\"s3://{BUCKET}/data/model-input/test/df_test_rfe.csv\"\n",
    "batch_transform_output_path = f\"s3://{BUCKET}/data/model-output/batch-transform/\"\n",
    "model_location = 's3://sagemaker-us-east-1-567220378588/sagemaker-scikit-learn-2022-01-05-02-18-31-464/output/model.tar.gz'\n",
    "\n",
    "sklearn_model = SKLearnModel(\n",
    "    model_data=model_location, \n",
    "    role=role,\n",
    "    entry_point='../../src/modelling/inference.py',\n",
    "    py_version='py3',\n",
    "    framework_version='0.20.0',\n",
    ")\n",
    "\n",
    "transformer = sklearn_model.transformer(\n",
    "    instance_count=1, \n",
    "    instance_type='ml.m5.large', \n",
    "    output_path=batch_transform_output_path    \n",
    ")\n",
    "\n",
    "transformer.transform(\n",
    "    data=batch_transform_input_path, \n",
    "    data_type='S3Prefix',\n",
    "    content_type='text/csv',\n",
    "    split_type='Line'\n",
    ")\n",
    "\n",
    "transformer.wait()"
   ]
  }
 ],
 "metadata": {
  "instance_type": "ml.t3.medium",
  "kernelspec": {
   "display_name": "Python 3 (Data Science)",
   "language": "python",
   "name": "python3__SAGEMAKER_INTERNAL__arn:aws:sagemaker:us-east-1:081325390199:image/datascience-1.0"
  },
  "language_info": {
   "codemirror_mode": {
    "name": "ipython",
    "version": 3
   },
   "file_extension": ".py",
   "mimetype": "text/x-python",
   "name": "python",
   "nbconvert_exporter": "python",
   "pygments_lexer": "ipython3",
   "version": "3.7.10"
  }
 },
 "nbformat": 4,
 "nbformat_minor": 5
}
