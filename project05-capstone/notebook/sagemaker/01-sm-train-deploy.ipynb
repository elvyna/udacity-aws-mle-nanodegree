{
 "cells": [
  {
   "cell_type": "code",
   "execution_count": 2,
   "metadata": {},
   "outputs": [],
   "source": [
    "import sagemaker\n",
    "import boto3\n",
    "import os\n",
    "import numpy as np\n",
    "import seaborn as sns\n",
    "\n",
    "sns.set_context(\"talk\")\n",
    "\n",
    "BUCKET = 'project05-capstone-vexenta'\n",
    "role = sagemaker.get_execution_role()"
   ]
  },
  {
   "cell_type": "markdown",
   "metadata": {},
   "source": [
    "# Train Model\n",
    "\n",
    "Using best hyperparameters from `notebook/sagemaker/00-sm-hp-tuning.ipynb`."
   ]
  },
  {
   "cell_type": "code",
   "execution_count": 3,
   "metadata": {},
   "outputs": [],
   "source": [
    "model_output_dir = f\"s3://{BUCKET}/model/hp-tuning/model.tar.gz\"\n",
    "input_train = f\"s3://{BUCKET}/data/model-input/train/df_train_rfe.csv\"\n",
    "input_test = f\"s3://{BUCKET}/data/model-input/test/df_test_rfe.csv\"\n",
    "\n",
    "os.environ[\"SM_MODEL_DIR\"] = model_output_dir\n",
    "os.environ[\"SM_CHANNEL_TRAIN\"] = input_train\n",
    "os.environ[\"SM_CHANNEL_TEST\"] = input_test"
   ]
  },
  {
   "cell_type": "code",
   "execution_count": 4,
   "metadata": {},
   "outputs": [
    {
     "data": {
      "text/plain": [
       "{'_tuning_objective_metric': '\"cv f1-score\"',\n",
       " 'max_depth': 30,\n",
       " 'min_samples_split': 2,\n",
       " 'n_estimators': 300,\n",
       " 'sagemaker_container_log_level': '20',\n",
       " 'sagemaker_estimator_class_name': '\"SKLearn\"',\n",
       " 'sagemaker_estimator_module': '\"sagemaker.sklearn.estimator\"',\n",
       " 'sagemaker_job_name': '\"sagemaker-scikit-learn-2022-01-04-00-40-29-497\"',\n",
       " 'sagemaker_program': '\"train-rf.py\"',\n",
       " 'sagemaker_region': '\"us-east-1\"',\n",
       " 'sagemaker_submit_directory': '\"s3://sagemaker-us-east-1-567220378588/sagemaker-scikit-learn-2022-01-04-00-40-29-497/source/sourcedir.tar.gz\"'}"
      ]
     },
     "execution_count": 4,
     "metadata": {},
     "output_type": "execute_result"
    }
   ],
   "source": [
    "hyperparameters = {\n",
    "    '_tuning_objective_metric': '\"cv f1-score\"',\n",
    "    'max_depth': '\"30\"',\n",
    "    'min_samples_split': '\"2\"',\n",
    "    'n_estimators': '\"300\"',\n",
    "    'sagemaker_container_log_level': '20',\n",
    "    'sagemaker_estimator_class_name': '\"SKLearn\"',\n",
    "    'sagemaker_estimator_module': '\"sagemaker.sklearn.estimator\"',\n",
    "    'sagemaker_job_name': '\"sagemaker-scikit-learn-2022-01-04-00-40-29-497\"',\n",
    "    'sagemaker_program': '\"train-rf.py\"',\n",
    "    'sagemaker_region': '\"us-east-1\"',\n",
    "    'sagemaker_submit_directory': '\"s3://sagemaker-us-east-1-567220378588/sagemaker-scikit-learn-2022-01-04-00-40-29-497/source/sourcedir.tar.gz\"'\n",
    "}\n",
    "\n",
    "## reformat input\n",
    "for key in [\"min_samples_split\",\"n_estimators\",\"max_depth\"]:\n",
    "    if not isinstance(hyperparameters[key], int):\n",
    "        hyperparameters[key] = int(hyperparameters[key].replace('\"',''))\n",
    "        \n",
    "hyperparameters"
   ]
  },
  {
   "cell_type": "code",
   "execution_count": 5,
   "metadata": {},
   "outputs": [
    {
     "name": "stdout",
     "output_type": "stream",
     "text": [
      "2022-01-04 21:39:00 Starting - Starting the training job...\n",
      "2022-01-04 21:39:14 Starting - Launching requested ML instancesProfilerReport-1641332339: InProgress\n",
      "......\n",
      "2022-01-04 21:40:24 Starting - Preparing the instances for training.........\n",
      "2022-01-04 21:42:01 Downloading - Downloading input data\n",
      "2022-01-04 21:42:01 Training - Downloading the training image...\n",
      "2022-01-04 21:42:27 Training - Training image download completed. Training in progress..\u001b[34m2022-01-04 21:42:28,094 sagemaker-containers INFO     Imported framework sagemaker_sklearn_container.training\u001b[0m\n",
      "\u001b[34m2022-01-04 21:42:28,098 sagemaker-training-toolkit INFO     No GPUs detected (normal if no gpus installed)\u001b[0m\n",
      "\u001b[34m2022-01-04 21:42:28,106 sagemaker_sklearn_container.training INFO     Invoking user training script.\u001b[0m\n",
      "\u001b[34m2022-01-04 21:42:28,431 sagemaker-training-toolkit INFO     No GPUs detected (normal if no gpus installed)\u001b[0m\n",
      "\u001b[34m2022-01-04 21:42:28,443 sagemaker-training-toolkit INFO     No GPUs detected (normal if no gpus installed)\u001b[0m\n",
      "\u001b[34m2022-01-04 21:42:28,455 sagemaker-training-toolkit INFO     No GPUs detected (normal if no gpus installed)\u001b[0m\n",
      "\u001b[34m2022-01-04 21:42:28,466 sagemaker-training-toolkit INFO     Invoking user script\u001b[0m\n",
      "\u001b[34mTraining Env:\u001b[0m\n",
      "\u001b[34m{\n",
      "    \"additional_framework_parameters\": {\n",
      "        \"sagemaker_estimator_class_name\": \"\\\"SKLearn\\\"\",\n",
      "        \"sagemaker_estimator_module\": \"\\\"sagemaker.sklearn.estimator\\\"\"\n",
      "    },\n",
      "    \"channel_input_dirs\": {\n",
      "        \"test\": \"/opt/ml/input/data/test\",\n",
      "        \"train\": \"/opt/ml/input/data/train\"\n",
      "    },\n",
      "    \"current_host\": \"algo-1\",\n",
      "    \"framework_module\": \"sagemaker_sklearn_container.training:main\",\n",
      "    \"hosts\": [\n",
      "        \"algo-1\"\n",
      "    ],\n",
      "    \"hyperparameters\": {\n",
      "        \"max_depth\": 30,\n",
      "        \"min_samples_split\": 2,\n",
      "        \"n_estimators\": 300\n",
      "    },\n",
      "    \"input_config_dir\": \"/opt/ml/input/config\",\n",
      "    \"input_data_config\": {\n",
      "        \"test\": {\n",
      "            \"TrainingInputMode\": \"File\",\n",
      "            \"S3DistributionType\": \"FullyReplicated\",\n",
      "            \"RecordWrapperType\": \"None\"\n",
      "        },\n",
      "        \"train\": {\n",
      "            \"TrainingInputMode\": \"File\",\n",
      "            \"S3DistributionType\": \"FullyReplicated\",\n",
      "            \"RecordWrapperType\": \"None\"\n",
      "        }\n",
      "    },\n",
      "    \"input_dir\": \"/opt/ml/input\",\n",
      "    \"is_master\": true,\n",
      "    \"job_name\": \"sagemaker-scikit-learn-2022-01-04-21-38-59-659\",\n",
      "    \"log_level\": 20,\n",
      "    \"master_hostname\": \"algo-1\",\n",
      "    \"model_dir\": \"/opt/ml/model\",\n",
      "    \"module_dir\": \"s3://sagemaker-us-east-1-567220378588/sagemaker-scikit-learn-2022-01-04-21-38-59-659/source/sourcedir.tar.gz\",\n",
      "    \"module_name\": \"train-rf\",\n",
      "    \"network_interface_name\": \"eth0\",\n",
      "    \"num_cpus\": 8,\n",
      "    \"num_gpus\": 0,\n",
      "    \"output_data_dir\": \"/opt/ml/output/data\",\n",
      "    \"output_dir\": \"/opt/ml/output\",\n",
      "    \"output_intermediate_dir\": \"/opt/ml/output/intermediate\",\n",
      "    \"resource_config\": {\n",
      "        \"current_host\": \"algo-1\",\n",
      "        \"hosts\": [\n",
      "            \"algo-1\"\n",
      "        ],\n",
      "        \"network_interface_name\": \"eth0\"\n",
      "    },\n",
      "    \"user_entry_point\": \"train-rf.py\"\u001b[0m\n",
      "\u001b[34m}\u001b[0m\n",
      "\u001b[34mEnvironment variables:\u001b[0m\n",
      "\u001b[34mSM_HOSTS=[\"algo-1\"]\u001b[0m\n",
      "\u001b[34mSM_NETWORK_INTERFACE_NAME=eth0\u001b[0m\n",
      "\u001b[34mSM_HPS={\"max_depth\":30,\"min_samples_split\":2,\"n_estimators\":300}\u001b[0m\n",
      "\u001b[34mSM_USER_ENTRY_POINT=train-rf.py\u001b[0m\n",
      "\u001b[34mSM_FRAMEWORK_PARAMS={\"sagemaker_estimator_class_name\":\"\\\"SKLearn\\\"\",\"sagemaker_estimator_module\":\"\\\"sagemaker.sklearn.estimator\\\"\"}\u001b[0m\n",
      "\u001b[34mSM_RESOURCE_CONFIG={\"current_host\":\"algo-1\",\"hosts\":[\"algo-1\"],\"network_interface_name\":\"eth0\"}\u001b[0m\n",
      "\u001b[34mSM_INPUT_DATA_CONFIG={\"test\":{\"RecordWrapperType\":\"None\",\"S3DistributionType\":\"FullyReplicated\",\"TrainingInputMode\":\"File\"},\"train\":{\"RecordWrapperType\":\"None\",\"S3DistributionType\":\"FullyReplicated\",\"TrainingInputMode\":\"File\"}}\u001b[0m\n",
      "\u001b[34mSM_OUTPUT_DATA_DIR=/opt/ml/output/data\u001b[0m\n",
      "\u001b[34mSM_CHANNELS=[\"test\",\"train\"]\u001b[0m\n",
      "\u001b[34mSM_CURRENT_HOST=algo-1\u001b[0m\n",
      "\u001b[34mSM_MODULE_NAME=train-rf\u001b[0m\n",
      "\u001b[34mSM_LOG_LEVEL=20\u001b[0m\n",
      "\u001b[34mSM_FRAMEWORK_MODULE=sagemaker_sklearn_container.training:main\u001b[0m\n",
      "\u001b[34mSM_INPUT_DIR=/opt/ml/input\u001b[0m\n",
      "\u001b[34mSM_INPUT_CONFIG_DIR=/opt/ml/input/config\u001b[0m\n",
      "\u001b[34mSM_OUTPUT_DIR=/opt/ml/output\u001b[0m\n",
      "\u001b[34mSM_NUM_CPUS=8\u001b[0m\n",
      "\u001b[34mSM_NUM_GPUS=0\u001b[0m\n",
      "\u001b[34mSM_MODEL_DIR=/opt/ml/model\u001b[0m\n",
      "\u001b[34mSM_MODULE_DIR=s3://sagemaker-us-east-1-567220378588/sagemaker-scikit-learn-2022-01-04-21-38-59-659/source/sourcedir.tar.gz\u001b[0m\n",
      "\u001b[34mSM_TRAINING_ENV={\"additional_framework_parameters\":{\"sagemaker_estimator_class_name\":\"\\\"SKLearn\\\"\",\"sagemaker_estimator_module\":\"\\\"sagemaker.sklearn.estimator\\\"\"},\"channel_input_dirs\":{\"test\":\"/opt/ml/input/data/test\",\"train\":\"/opt/ml/input/data/train\"},\"current_host\":\"algo-1\",\"framework_module\":\"sagemaker_sklearn_container.training:main\",\"hosts\":[\"algo-1\"],\"hyperparameters\":{\"max_depth\":30,\"min_samples_split\":2,\"n_estimators\":300},\"input_config_dir\":\"/opt/ml/input/config\",\"input_data_config\":{\"test\":{\"RecordWrapperType\":\"None\",\"S3DistributionType\":\"FullyReplicated\",\"TrainingInputMode\":\"File\"},\"train\":{\"RecordWrapperType\":\"None\",\"S3DistributionType\":\"FullyReplicated\",\"TrainingInputMode\":\"File\"}},\"input_dir\":\"/opt/ml/input\",\"is_master\":true,\"job_name\":\"sagemaker-scikit-learn-2022-01-04-21-38-59-659\",\"log_level\":20,\"master_hostname\":\"algo-1\",\"model_dir\":\"/opt/ml/model\",\"module_dir\":\"s3://sagemaker-us-east-1-567220378588/sagemaker-scikit-learn-2022-01-04-21-38-59-659/source/sourcedir.tar.gz\",\"module_name\":\"train-rf\",\"network_interface_name\":\"eth0\",\"num_cpus\":8,\"num_gpus\":0,\"output_data_dir\":\"/opt/ml/output/data\",\"output_dir\":\"/opt/ml/output\",\"output_intermediate_dir\":\"/opt/ml/output/intermediate\",\"resource_config\":{\"current_host\":\"algo-1\",\"hosts\":[\"algo-1\"],\"network_interface_name\":\"eth0\"},\"user_entry_point\":\"train-rf.py\"}\u001b[0m\n",
      "\u001b[34mSM_USER_ARGS=[\"--max_depth\",\"30\",\"--min_samples_split\",\"2\",\"--n_estimators\",\"300\"]\u001b[0m\n",
      "\u001b[34mSM_OUTPUT_INTERMEDIATE_DIR=/opt/ml/output/intermediate\u001b[0m\n",
      "\u001b[34mSM_CHANNEL_TEST=/opt/ml/input/data/test\u001b[0m\n",
      "\u001b[34mSM_CHANNEL_TRAIN=/opt/ml/input/data/train\u001b[0m\n",
      "\u001b[34mSM_HP_MAX_DEPTH=30\u001b[0m\n",
      "\u001b[34mSM_HP_MIN_SAMPLES_SPLIT=2\u001b[0m\n",
      "\u001b[34mSM_HP_N_ESTIMATORS=300\u001b[0m\n",
      "\u001b[34mPYTHONPATH=/opt/ml/code:/miniconda3/bin:/miniconda3/lib/python37.zip:/miniconda3/lib/python3.7:/miniconda3/lib/python3.7/lib-dynload:/miniconda3/lib/python3.7/site-packages\u001b[0m\n",
      "\u001b[34mInvoking script with the following command:\u001b[0m\n",
      "\u001b[34m/miniconda3/bin/python train-rf.py --max_depth 30 --min_samples_split 2 --n_estimators 300\u001b[0m\n",
      "\u001b[34m/miniconda3/lib/python3.7/site-packages/sklearn/externals/joblib/externals/cloudpickle/cloudpickle.py:47: DeprecationWarning: the imp module is deprecated in favour of importlib; see the module's documentation for alternative uses\n",
      "  import imp\u001b[0m\n",
      "\u001b[34mtrain-rf.py 2022-01-04 21:44:44+0000 INFO Line no: 95 Iteration 1: Accuracy=91.931% | F1-score=92.019% | AUC=0.919\u001b[0m\n",
      "\u001b[34mtrain-rf.py 2022-01-04 21:46:48+0000 INFO Line no: 95 Iteration 2: Accuracy=91.958% | F1-score=92.151% | AUC=0.920\u001b[0m\n",
      "\u001b[34mtrain-rf.py 2022-01-04 21:48:54+0000 INFO Line no: 95 Iteration 3: Accuracy=91.697% | F1-score=91.875% | AUC=0.917\u001b[0m\n",
      "\u001b[34mtrain-rf.py 2022-01-04 21:50:59+0000 INFO Line no: 95 Iteration 4: Accuracy=91.830% | F1-score=91.992% | AUC=0.918\u001b[0m\n",
      "\u001b[34mtrain-rf.py 2022-01-04 21:53:04+0000 INFO Line no: 95 Iteration 5: Accuracy=91.937% | F1-score=92.062% | AUC=0.919\u001b[0m\n",
      "\u001b[34mtrain-rf.py 2022-01-04 21:53:04+0000 INFO Line no: 104 Cross-validation results\u001b[0m\n",
      "\u001b[34mtrain-rf.py 2022-01-04 21:53:04+0000 INFO Line no: 105 ========================\u001b[0m\n",
      "\u001b[34mtrain-rf.py 2022-01-04 21:53:04+0000 INFO Line no: 106 CV Accuracy: 91.871% +- 0.098%\u001b[0m\n",
      "\u001b[34mtrain-rf.py 2022-01-04 21:53:04+0000 INFO Line no: 107 CV F1-score: 92.020% +- 0.090%\u001b[0m\n",
      "\u001b[34mtrain-rf.py 2022-01-04 21:53:04+0000 INFO Line no: 108 CV AUC: 0.919 +- 0.001\u001b[0m\n",
      "\u001b[34mtrain-rf.py 2022-01-04 21:55:53+0000 INFO Line no: 53 test set - Accuracy : 82.614%\u001b[0m\n",
      "\u001b[34mtrain-rf.py 2022-01-04 21:55:53+0000 INFO Line no: 54 test set - F1-score : 87.642%\u001b[0m\n",
      "\u001b[34mtrain-rf.py 2022-01-04 21:55:53+0000 INFO Line no: 55 test set - AUC: 0.779\u001b[0m\n",
      "\u001b[34mtrain-rf.py 2022-01-04 21:55:53+0000 INFO Line no: 56               precision    recall  f1-score   support\n",
      "           0       0.78      0.64      0.71     41947\n",
      "           1       0.84      0.91      0.88     86757\n",
      "   micro avg       0.83      0.83      0.83    128704\n",
      "   macro avg       0.81      0.78      0.79    128704\u001b[0m\n",
      "\u001b[34mweighted avg       0.82      0.83      0.82    128704\u001b[0m\n",
      "\u001b[34mtrain-rf.py 2022-01-04 21:55:53+0000 INFO Line no: 198 {'bootstrap': True, 'class_weight': None, 'criterion': 'gini', 'max_depth': 30, 'max_features': 'auto', 'max_leaf_nodes': None, 'min_impurity_decrease': 0.0, 'min_impurity_split': None, 'min_samples_leaf': 1, 'min_samples_split': 2, 'min_weight_fraction_leaf': 0.0, 'n_estimators': 300, 'n_jobs': None, 'oob_score': False, 'random_state': 121, 'verbose': 0, 'warm_start': False}\u001b[0m\n",
      "\u001b[34m2022-01-04 21:55:54,787 sagemaker-containers INFO     Reporting training SUCCESS\u001b[0m\n",
      "\n",
      "2022-01-04 21:56:10 Uploading - Uploading generated training model\n",
      "2022-01-04 21:57:30 Completed - Training job completed\n",
      "Training seconds: 926\n",
      "Billable seconds: 926\n"
     ]
    }
   ],
   "source": [
    "## create estimators for your HPs\n",
    "from sagemaker.sklearn.estimator import SKLearn\n",
    "\n",
    "estimator = SKLearn(\n",
    "    entry_point=\"../../src/modelling/train-rf.py\",\n",
    "    role=role,\n",
    "    py_version='py3',\n",
    "    framework_version=\"0.20.0\",\n",
    "    instance_count=1,\n",
    "    instance_type=\"ml.m5.2xlarge\",\n",
    "    hyperparameters=hyperparameters,\n",
    ")\n",
    "\n",
    "## Fit your model\n",
    "estimator.fit(\n",
    "    inputs={\n",
    "        \"train\": input_train, \n",
    "        \"test\": input_test,\n",
    "    },\n",
    "    wait=True\n",
    ")"
   ]
  },
  {
   "cell_type": "code",
   "execution_count": 6,
   "metadata": {},
   "outputs": [
    {
     "data": {
      "text/plain": [
       "'s3://sagemaker-us-east-1-567220378588/sagemaker-scikit-learn-2022-01-04-21-38-59-659/output/model.tar.gz'"
      ]
     },
     "execution_count": 6,
     "metadata": {},
     "output_type": "execute_result"
    }
   ],
   "source": [
    "estimator.model_data"
   ]
  },
  {
   "cell_type": "markdown",
   "metadata": {},
   "source": [
    "# Deploy model as a Sagemaker Endpoint"
   ]
  },
  {
   "cell_type": "code",
   "execution_count": 35,
   "metadata": {},
   "outputs": [
    {
     "name": "stdout",
     "output_type": "stream",
     "text": [
      "------!"
     ]
    },
    {
     "data": {
      "text/plain": [
       "<sagemaker.sklearn.model.SKLearnPredictor at 0x7f90d94c6d10>"
      ]
     },
     "execution_count": 35,
     "metadata": {},
     "output_type": "execute_result"
    }
   ],
   "source": [
    "## live endpoint: prepare preprocessing logic as functions, then fit into the endpoint\n",
    "## to enable this, MUST prepare endpoint.py (with model_fn, etc.)\n",
    "\n",
    "## batch transform? generate predictions on df_test_rfe.csv\n",
    "\n",
    "from sagemaker.sklearn.model import SKLearnModel\n",
    "from sagemaker.serializers import JSONSerializer, CSVSerializer\n",
    "from sagemaker.deserializers import JSONDeserializer, CSVDeserializer\n",
    "\n",
    "## TO DO: update with the latest model object (stores feature names in the model object)\n",
    "model_location = 's3://sagemaker-us-east-1-567220378588/sagemaker-scikit-learn-2022-01-04-21-38-59-659/output/model.tar.gz'\n",
    "sklearn_model = SKLearnModel(\n",
    "    model_data=model_location, \n",
    "    role=role,\n",
    "    entry_point='../../src/modelling/inference.py',\n",
    "    py_version='py3',\n",
    "    framework_version='0.20.0',\n",
    ")\n",
    "\n",
    "predictor = sklearn_model.deploy(\n",
    "    initial_instance_count=1, \n",
    "    instance_type='ml.m5.large',\n",
    "    serializer=JSONSerializer, # CSVSerializer,\n",
    "    deserializer=JSONDeserializer, #CSVDeserializer,\n",
    ")\n",
    "\n",
    "predictor"
   ]
  },
  {
   "cell_type": "code",
   "execution_count": 36,
   "metadata": {},
   "outputs": [
    {
     "data": {
      "text/plain": [
       "<sagemaker.sklearn.model.SKLearnPredictor at 0x7f90d94c6d10>"
      ]
     },
     "execution_count": 36,
     "metadata": {},
     "output_type": "execute_result"
    }
   ],
   "source": [
    "predictor"
   ]
  },
  {
   "cell_type": "code",
   "execution_count": 37,
   "metadata": {},
   "outputs": [],
   "source": [
    "import pandas as pd\n",
    "\n",
    "## sample input to test the endpoint\n",
    "payload = {\n",
    "    \"sessionNo\": 101,\n",
    "    \"startHour\": 4,\n",
    "    \"startWeekday\": 7,\n",
    "    \"duration\": 0,\n",
    "    \"cCount\": 2,\n",
    "    \"cMinPrice\": 30,\n",
    "    \"cMaxPrice\": 40,\n",
    "    \"cSumPrice\": 70,\n",
    "    \"bCount\": 1,\n",
    "    \"bMinPrice\": 30,\n",
    "    \"bMaxPrice\": 30,\n",
    "    \"bSumPrice\": 30,\n",
    "    \"bStep\": \"?\",\n",
    "    \"onlineStatus\": \"?\",\n",
    "    \"availability\": \"?\",\n",
    "    \"customerNo\": 39,\n",
    "    \"maxVal\": 200,\n",
    "    \"customerScore\": 65,\n",
    "    \"accountLifetime\": 30,\n",
    "    \"payments\": 2,\n",
    "    \"age\": 39,\n",
    "    \"address\": 1,\n",
    "    \"lastOrder\": 30,\n",
    "}\n",
    "\n",
    "df_input = pd.json_normalize(payload)"
   ]
  },
  {
   "cell_type": "code",
   "execution_count": 38,
   "metadata": {},
   "outputs": [
    {
     "ename": "TypeError",
     "evalue": "can only join an iterable",
     "output_type": "error",
     "traceback": [
      "\u001b[0;31m---------------------------------------------------------------------------\u001b[0m",
      "\u001b[0;31mTypeError\u001b[0m                                 Traceback (most recent call last)",
      "\u001b[0;32m<ipython-input-38-a934e98ea10f>\u001b[0m in \u001b[0;36m<module>\u001b[0;34m\u001b[0m\n\u001b[1;32m      2\u001b[0m     \u001b[0mdf_input\u001b[0m\u001b[0;34m,\u001b[0m\u001b[0;34m\u001b[0m\u001b[0;34m\u001b[0m\u001b[0m\n\u001b[1;32m      3\u001b[0m     initial_args={\n\u001b[0;32m----> 4\u001b[0;31m         \u001b[0;34m\"ContentType\"\u001b[0m\u001b[0;34m:\u001b[0m \u001b[0;34m\"text/csv\"\u001b[0m\u001b[0;34m\u001b[0m\u001b[0;34m\u001b[0m\u001b[0m\n\u001b[0m\u001b[1;32m      5\u001b[0m     }\n\u001b[1;32m      6\u001b[0m )\n",
      "\u001b[0;32m/opt/conda/lib/python3.7/site-packages/sagemaker/predictor.py\u001b[0m in \u001b[0;36mpredict\u001b[0;34m(self, data, initial_args, target_model, target_variant, inference_id)\u001b[0m\n\u001b[1;32m    157\u001b[0m \u001b[0;34m\u001b[0m\u001b[0m\n\u001b[1;32m    158\u001b[0m         request_args = self._create_request_args(\n\u001b[0;32m--> 159\u001b[0;31m             \u001b[0mdata\u001b[0m\u001b[0;34m,\u001b[0m \u001b[0minitial_args\u001b[0m\u001b[0;34m,\u001b[0m \u001b[0mtarget_model\u001b[0m\u001b[0;34m,\u001b[0m \u001b[0mtarget_variant\u001b[0m\u001b[0;34m,\u001b[0m \u001b[0minference_id\u001b[0m\u001b[0;34m\u001b[0m\u001b[0;34m\u001b[0m\u001b[0m\n\u001b[0m\u001b[1;32m    160\u001b[0m         )\n\u001b[1;32m    161\u001b[0m         \u001b[0mresponse\u001b[0m \u001b[0;34m=\u001b[0m \u001b[0mself\u001b[0m\u001b[0;34m.\u001b[0m\u001b[0msagemaker_session\u001b[0m\u001b[0;34m.\u001b[0m\u001b[0msagemaker_runtime_client\u001b[0m\u001b[0;34m.\u001b[0m\u001b[0minvoke_endpoint\u001b[0m\u001b[0;34m(\u001b[0m\u001b[0;34m**\u001b[0m\u001b[0mrequest_args\u001b[0m\u001b[0;34m)\u001b[0m\u001b[0;34m\u001b[0m\u001b[0;34m\u001b[0m\u001b[0m\n",
      "\u001b[0;32m/opt/conda/lib/python3.7/site-packages/sagemaker/predictor.py\u001b[0m in \u001b[0;36m_create_request_args\u001b[0;34m(self, data, initial_args, target_model, target_variant, inference_id)\u001b[0m\n\u001b[1;32m    186\u001b[0m \u001b[0;34m\u001b[0m\u001b[0m\n\u001b[1;32m    187\u001b[0m         \u001b[0;32mif\u001b[0m \u001b[0;34m\"Accept\"\u001b[0m \u001b[0;32mnot\u001b[0m \u001b[0;32min\u001b[0m \u001b[0margs\u001b[0m\u001b[0;34m:\u001b[0m\u001b[0;34m\u001b[0m\u001b[0;34m\u001b[0m\u001b[0m\n\u001b[0;32m--> 188\u001b[0;31m             \u001b[0margs\u001b[0m\u001b[0;34m[\u001b[0m\u001b[0;34m\"Accept\"\u001b[0m\u001b[0;34m]\u001b[0m \u001b[0;34m=\u001b[0m \u001b[0;34m\", \"\u001b[0m\u001b[0;34m.\u001b[0m\u001b[0mjoin\u001b[0m\u001b[0;34m(\u001b[0m\u001b[0mself\u001b[0m\u001b[0;34m.\u001b[0m\u001b[0maccept\u001b[0m\u001b[0;34m)\u001b[0m\u001b[0;34m\u001b[0m\u001b[0;34m\u001b[0m\u001b[0m\n\u001b[0m\u001b[1;32m    189\u001b[0m \u001b[0;34m\u001b[0m\u001b[0m\n\u001b[1;32m    190\u001b[0m         \u001b[0;32mif\u001b[0m \u001b[0mtarget_model\u001b[0m\u001b[0;34m:\u001b[0m\u001b[0;34m\u001b[0m\u001b[0;34m\u001b[0m\u001b[0m\n",
      "\u001b[0;31mTypeError\u001b[0m: can only join an iterable"
     ]
    }
   ],
   "source": [
    "response = predictor.predict(\n",
    "    df_input,\n",
    "    initial_args={\n",
    "        \"ContentType\": \"text/csv\"\n",
    "    }\n",
    ")\n",
    "\n",
    "print(response)"
   ]
  },
  {
   "cell_type": "code",
   "execution_count": 39,
   "metadata": {},
   "outputs": [
    {
     "ename": "TypeError",
     "evalue": "can only join an iterable",
     "output_type": "error",
     "traceback": [
      "\u001b[0;31m---------------------------------------------------------------------------\u001b[0m",
      "\u001b[0;31mTypeError\u001b[0m                                 Traceback (most recent call last)",
      "\u001b[0;32m<ipython-input-39-65666fa4a4af>\u001b[0m in \u001b[0;36m<module>\u001b[0;34m\u001b[0m\n\u001b[1;32m      2\u001b[0m     \u001b[0mpayload\u001b[0m\u001b[0;34m,\u001b[0m\u001b[0;34m\u001b[0m\u001b[0;34m\u001b[0m\u001b[0m\n\u001b[1;32m      3\u001b[0m     initial_args={\n\u001b[0;32m----> 4\u001b[0;31m         \u001b[0;34m\"ContentType\"\u001b[0m\u001b[0;34m:\u001b[0m \u001b[0;34m\"application/json\"\u001b[0m\u001b[0;34m\u001b[0m\u001b[0;34m\u001b[0m\u001b[0m\n\u001b[0m\u001b[1;32m      5\u001b[0m     }\n\u001b[1;32m      6\u001b[0m )\n",
      "\u001b[0;32m/opt/conda/lib/python3.7/site-packages/sagemaker/predictor.py\u001b[0m in \u001b[0;36mpredict\u001b[0;34m(self, data, initial_args, target_model, target_variant, inference_id)\u001b[0m\n\u001b[1;32m    157\u001b[0m \u001b[0;34m\u001b[0m\u001b[0m\n\u001b[1;32m    158\u001b[0m         request_args = self._create_request_args(\n\u001b[0;32m--> 159\u001b[0;31m             \u001b[0mdata\u001b[0m\u001b[0;34m,\u001b[0m \u001b[0minitial_args\u001b[0m\u001b[0;34m,\u001b[0m \u001b[0mtarget_model\u001b[0m\u001b[0;34m,\u001b[0m \u001b[0mtarget_variant\u001b[0m\u001b[0;34m,\u001b[0m \u001b[0minference_id\u001b[0m\u001b[0;34m\u001b[0m\u001b[0;34m\u001b[0m\u001b[0m\n\u001b[0m\u001b[1;32m    160\u001b[0m         )\n\u001b[1;32m    161\u001b[0m         \u001b[0mresponse\u001b[0m \u001b[0;34m=\u001b[0m \u001b[0mself\u001b[0m\u001b[0;34m.\u001b[0m\u001b[0msagemaker_session\u001b[0m\u001b[0;34m.\u001b[0m\u001b[0msagemaker_runtime_client\u001b[0m\u001b[0;34m.\u001b[0m\u001b[0minvoke_endpoint\u001b[0m\u001b[0;34m(\u001b[0m\u001b[0;34m**\u001b[0m\u001b[0mrequest_args\u001b[0m\u001b[0;34m)\u001b[0m\u001b[0;34m\u001b[0m\u001b[0;34m\u001b[0m\u001b[0m\n",
      "\u001b[0;32m/opt/conda/lib/python3.7/site-packages/sagemaker/predictor.py\u001b[0m in \u001b[0;36m_create_request_args\u001b[0;34m(self, data, initial_args, target_model, target_variant, inference_id)\u001b[0m\n\u001b[1;32m    186\u001b[0m \u001b[0;34m\u001b[0m\u001b[0m\n\u001b[1;32m    187\u001b[0m         \u001b[0;32mif\u001b[0m \u001b[0;34m\"Accept\"\u001b[0m \u001b[0;32mnot\u001b[0m \u001b[0;32min\u001b[0m \u001b[0margs\u001b[0m\u001b[0;34m:\u001b[0m\u001b[0;34m\u001b[0m\u001b[0;34m\u001b[0m\u001b[0m\n\u001b[0;32m--> 188\u001b[0;31m             \u001b[0margs\u001b[0m\u001b[0;34m[\u001b[0m\u001b[0;34m\"Accept\"\u001b[0m\u001b[0;34m]\u001b[0m \u001b[0;34m=\u001b[0m \u001b[0;34m\", \"\u001b[0m\u001b[0;34m.\u001b[0m\u001b[0mjoin\u001b[0m\u001b[0;34m(\u001b[0m\u001b[0mself\u001b[0m\u001b[0;34m.\u001b[0m\u001b[0maccept\u001b[0m\u001b[0;34m)\u001b[0m\u001b[0;34m\u001b[0m\u001b[0;34m\u001b[0m\u001b[0m\n\u001b[0m\u001b[1;32m    189\u001b[0m \u001b[0;34m\u001b[0m\u001b[0m\n\u001b[1;32m    190\u001b[0m         \u001b[0;32mif\u001b[0m \u001b[0mtarget_model\u001b[0m\u001b[0;34m:\u001b[0m\u001b[0;34m\u001b[0m\u001b[0;34m\u001b[0m\u001b[0m\n",
      "\u001b[0;31mTypeError\u001b[0m: can only join an iterable"
     ]
    }
   ],
   "source": [
    "response = predictor.predict(\n",
    "    payload,\n",
    "    initial_args={\n",
    "        \"ContentType\": \"application/json\"\n",
    "    }\n",
    ")\n",
    "\n",
    "print(response)"
   ]
  },
  {
   "cell_type": "code",
   "execution_count": 40,
   "metadata": {},
   "outputs": [],
   "source": [
    "predictor.delete_endpoint()"
   ]
  }
 ],
 "metadata": {
  "instance_type": "ml.t3.medium",
  "kernelspec": {
   "display_name": "Python 3 (Data Science)",
   "language": "python",
   "name": "python3__SAGEMAKER_INTERNAL__arn:aws:sagemaker:us-east-1:081325390199:image/datascience-1.0"
  },
  "language_info": {
   "codemirror_mode": {
    "name": "ipython",
    "version": 3
   },
   "file_extension": ".py",
   "mimetype": "text/x-python",
   "name": "python",
   "nbconvert_exporter": "python",
   "pygments_lexer": "ipython3",
   "version": "3.7.10"
  }
 },
 "nbformat": 4,
 "nbformat_minor": 5
}
