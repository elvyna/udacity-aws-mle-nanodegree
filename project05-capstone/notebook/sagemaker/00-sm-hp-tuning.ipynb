{
 "cells": [
  {
   "cell_type": "code",
   "execution_count": 1,
   "metadata": {},
   "outputs": [],
   "source": [
    "import sagemaker\n",
    "import boto3\n",
    "import os\n",
    "import numpy as np\n",
    "import seaborn as sns\n",
    "\n",
    "sns.set_context(\"talk\")\n",
    "\n",
    "BUCKET = 'project05-capstone-vexenta'"
   ]
  },
  {
   "cell_type": "code",
   "execution_count": 2,
   "metadata": {},
   "outputs": [],
   "source": [
    "model_output_dir = f\"s3://{BUCKET}/model/hp-tuning/model.tar.gz\"\n",
    "input_train = f\"s3://{BUCKET}/data/model-input/train/df_train_rfe.csv\"\n",
    "input_test = f\"s3://{BUCKET}/data/model-input/test/df_test_rfe.csv\"\n",
    "\n",
    "os.environ[\"SM_MODEL_DIR\"] = model_output_dir\n",
    "os.environ[\"SM_CHANNEL_TRAIN\"] = input_train\n",
    "os.environ[\"SM_CHANNEL_TEST\"] = input_test"
   ]
  },
  {
   "cell_type": "code",
   "execution_count": 3,
   "metadata": {},
   "outputs": [],
   "source": [
    "from sagemaker.tuner import (\n",
    "    IntegerParameter,\n",
    "    CategoricalParameter,\n",
    "    ContinuousParameter,\n",
    "    HyperparameterTuner,\n",
    ")\n",
    "\n",
    "role = sagemaker.get_execution_role()\n",
    "\n",
    "## declare your HP ranges, metrics etc.\n",
    "hyperparameter_ranges = {\n",
    "    \"n_estimators\": CategoricalParameter([100, 150, 200, 300]),\n",
    "    \"max_depth\": CategoricalParameter([None, 15, 20, 25, 30]),\n",
    "    \"min_samples_split\": CategoricalParameter([2, 10, 20, 30])\n",
    "}\n",
    "\n",
    "objective_metric_name = \"cv f1-score\"\n",
    "objective_type = \"Maximize\"\n",
    "metric_definitions = [{\"Name\": \"cv f1-score\", \"Regex\": \"CV F1-score: ([0-9\\\\.]+)\"}]"
   ]
  },
  {
   "cell_type": "code",
   "execution_count": 4,
   "metadata": {},
   "outputs": [],
   "source": [
    "## create estimators for your HPs\n",
    "from sagemaker.sklearn.estimator import SKLearn\n",
    "\n",
    "estimator = SKLearn(\n",
    "    entry_point=\"../../src/modelling/train-rf.py\",\n",
    "    role=role,\n",
    "    py_version='py3',\n",
    "    framework_version=\"0.20.0\",\n",
    "    instance_count=1,\n",
    "    instance_type=\"ml.m5.2xlarge\",\n",
    ")\n",
    "\n",
    "## set hp tuner\n",
    "tuner = HyperparameterTuner(\n",
    "    estimator=estimator,\n",
    "    objective_metric_name=objective_metric_name,\n",
    "    hyperparameter_ranges=hyperparameter_ranges,\n",
    "    metric_definitions=metric_definitions,\n",
    "    max_jobs=6, \n",
    "    max_parallel_jobs=2,\n",
    "    objective_type=objective_type,\n",
    "    base_tuning_job_name='rf-hp-tuning'\n",
    ")"
   ]
  },
  {
   "cell_type": "code",
   "execution_count": 5,
   "metadata": {},
   "outputs": [
    {
     "name": "stdout",
     "output_type": "stream",
     "text": [
      "...............................................................................................................................................................................................................................................................................................................................................................................................................................................................................................................!\n"
     ]
    }
   ],
   "source": [
    "## Fit your HP Tuner\n",
    "tuner.fit(\n",
    "    inputs={\n",
    "        \"train\": input_train, \n",
    "        \"test\": input_test,\n",
    "    },\n",
    "    wait=True\n",
    ")"
   ]
  },
  {
   "cell_type": "code",
   "execution_count": 6,
   "metadata": {},
   "outputs": [
    {
     "data": {
      "text/plain": [
       "'rf-hp-tuning-220103-2302-006-357deda1'"
      ]
     },
     "execution_count": 6,
     "metadata": {},
     "output_type": "execute_result"
    }
   ],
   "source": [
    "tuner.best_training_job()"
   ]
  },
  {
   "cell_type": "code",
   "execution_count": 7,
   "metadata": {},
   "outputs": [
    {
     "name": "stdout",
     "output_type": "stream",
     "text": [
      "\n",
      "2022-01-03 23:41:41 Starting - Preparing the instances for training\n",
      "2022-01-03 23:41:41 Downloading - Downloading input data\n",
      "2022-01-03 23:41:41 Training - Training image download completed. Training in progress.\n",
      "2022-01-03 23:41:41 Uploading - Uploading generated training model\n",
      "2022-01-03 23:41:41 Completed - Training job completed\n"
     ]
    },
    {
     "data": {
      "text/plain": [
       "{'_tuning_objective_metric': '\"cv f1-score\"',\n",
       " 'max_depth': '\"20\"',\n",
       " 'min_samples_split': '\"20\"',\n",
       " 'n_estimators': '\"300\"',\n",
       " 'sagemaker_container_log_level': '20',\n",
       " 'sagemaker_estimator_class_name': '\"SKLearn\"',\n",
       " 'sagemaker_estimator_module': '\"sagemaker.sklearn.estimator\"',\n",
       " 'sagemaker_job_name': '\"sagemaker-scikit-learn-2022-01-03-23-02-40-217\"',\n",
       " 'sagemaker_program': '\"train-rf.py\"',\n",
       " 'sagemaker_region': '\"us-east-1\"',\n",
       " 'sagemaker_submit_directory': '\"s3://sagemaker-us-east-1-567220378588/sagemaker-scikit-learn-2022-01-03-23-02-40-217/source/sourcedir.tar.gz\"'}"
      ]
     },
     "execution_count": 7,
     "metadata": {},
     "output_type": "execute_result"
    }
   ],
   "source": [
    "## get the best estimators and the best HPs\n",
    "best_estimator = tuner.best_estimator()\n",
    "best_estimator.hyperparameters()"
   ]
  },
  {
   "cell_type": "code",
   "execution_count": 9,
   "metadata": {},
   "outputs": [
    {
     "data": {
      "text/plain": [
       "{'_tuning_objective_metric': '\"cv f1-score\"',\n",
       " 'max_depth': '\"20\"',\n",
       " 'min_samples_split': '\"20\"',\n",
       " 'n_estimators': '\"300\"',\n",
       " 'sagemaker_container_log_level': '20',\n",
       " 'sagemaker_estimator_class_name': '\"SKLearn\"',\n",
       " 'sagemaker_estimator_module': '\"sagemaker.sklearn.estimator\"',\n",
       " 'sagemaker_job_name': '\"sagemaker-scikit-learn-2022-01-03-23-02-40-217\"',\n",
       " 'sagemaker_program': '\"train-rf.py\"',\n",
       " 'sagemaker_region': '\"us-east-1\"',\n",
       " 'sagemaker_submit_directory': '\"s3://sagemaker-us-east-1-567220378588/sagemaker-scikit-learn-2022-01-03-23-02-40-217/source/sourcedir.tar.gz\"'}"
      ]
     },
     "execution_count": 9,
     "metadata": {},
     "output_type": "execute_result"
    }
   ],
   "source": [
    "hyperparameters = best_estimator.hyperparameters()\n",
    "hyperparameters"
   ]
  }
 ],
 "metadata": {
  "instance_type": "ml.t3.medium",
  "kernelspec": {
   "display_name": "Python 3 (Data Science)",
   "language": "python",
   "name": "python3__SAGEMAKER_INTERNAL__arn:aws:sagemaker:us-east-1:081325390199:image/datascience-1.0"
  },
  "language_info": {
   "codemirror_mode": {
    "name": "ipython",
    "version": 3
   },
   "file_extension": ".py",
   "mimetype": "text/x-python",
   "name": "python",
   "nbconvert_exporter": "python",
   "pygments_lexer": "ipython3",
   "version": "3.7.10"
  }
 },
 "nbformat": 4,
 "nbformat_minor": 5
}
