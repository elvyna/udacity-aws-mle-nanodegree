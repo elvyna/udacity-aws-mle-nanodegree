{
 "cells": [
  {
   "cell_type": "code",
   "execution_count": null,
   "id": "2a566c18-f8a2-4c0a-9ef6-860f6d0971c7",
   "metadata": {},
   "outputs": [],
   "source": [
    "## TODO: Install any packages that you might need\n",
    "## For instance, you will need the smdebug package\n",
    "INSTALL_PACKAGES = False\n",
    "if INSTALL_PACKAGES:\n",
    "    !pip install smdebug\n",
    "    !pip install tqdm"
   ]
  },
  {
   "cell_type": "code",
   "execution_count": null,
   "id": "3c345f74-6d54-4974-803c-a8b9e6e2401d",
   "metadata": {},
   "outputs": [],
   "source": [
    "# TODO: Import any packages that you might need\n",
    "# For instance you will need Boto3 and Sagemaker\n",
    "import sagemaker\n",
    "import boto3\n",
    "import os\n",
    "import numpy as np\n",
    "import seaborn as sns\n",
    "\n",
    "sns.set_context(\"talk\")\n",
    "\n",
    "BUCKET = 'project05-capstone-vexenta'"
   ]
  },
  {
   "cell_type": "code",
   "execution_count": null,
   "id": "06e170d6-009d-4cad-8069-6e993c56ae6c",
   "metadata": {},
   "outputs": [],
   "source": [
    "model_output_dir = 's3://project03-image-classification-vexenta/model/hp-tuning/model.tar.gz'\n",
    "input_train = f\"s3://{BUCKET}/data/model-input/train/\"\n",
    "input_test = f\"s3://{BUCKET}/data/model-input/test/\"\n",
    "\n",
    "os.environ[\"SM_MODEL_DIR\"] = model_output_dir\n",
    "os.environ[\"SM_CHANNEL_TRAIN\"] = input_train\n",
    "os.environ[\"SM_CHANNEL_TEST\"] = input_test"
   ]
  },
  {
   "cell_type": "code",
   "execution_count": null,
   "id": "30740a20-7f62-4224-ba2c-9e133f8389d7",
   "metadata": {},
   "outputs": [],
   "source": [
    "#TODO: Declare your HP ranges, metrics etc.\n",
    "hyperparameter_ranges = {\n",
    "    \"n_estimators\": CategoricalParameter(100, 150, 200, 300),\n",
    "    \"max_depth\": CategoricalParameter([10, 15, 20, 25]),\n",
    "    \"min_samples_split\": CategoricalParameter([10, 20, 30])\n",
    "}\n",
    "\n",
    "objective_metric_name = \"cv f1-score\"\n",
    "objective_type = \"Maximize\"\n",
    "metric_definitions = [{\"Name\": \"cv f1-score\", \"Regex\": \"CV F1-score: ([0-9\\\\.]+)\"}]"
   ]
  },
  {
   "cell_type": "code",
   "execution_count": null,
   "id": "07b9a86f-339a-4800-8cc3-da64cf79953a",
   "metadata": {},
   "outputs": [],
   "source": [
    "from sagemaker.tuner import (\n",
    "    IntegerParameter,\n",
    "    CategoricalParameter,\n",
    "    ContinuousParameter,\n",
    "    HyperparameterTuner,\n",
    ")\n",
    "\n",
    "role = sagemaker.get_execution_role()"
   ]
  },
  {
   "cell_type": "code",
   "execution_count": null,
   "id": "727522f0-b39e-4921-b25d-98d5089acdbb",
   "metadata": {},
   "outputs": [],
   "source": [
    "#TODO: Create estimators for your HPs\n",
    "from sagemaker.estimator import SKLearn\n",
    "\n",
    "estimator = SKLearn(\n",
    "    entry_point=\"../../src/modelling/00-train.py\",\n",
    "    role=role,\n",
    "    py_version='py3',\n",
    "    framework_version=\"0.20.0\",\n",
    "    instance_count=1,\n",
    "    instance_type=\"ml.m5.large\",\n",
    ")\n",
    "\n",
    "# TODO: Your HP tuner here\n",
    "tuner = HyperparameterTuner(\n",
    "    estimator=estimator,\n",
    "    objective_metric_name=objective_metric_name,\n",
    "    hyperparameter_ranges=hyperparameter_ranges,\n",
    "    metric_definitions=metric_definitions,\n",
    "    max_jobs=2, \n",
    "    max_parallel_jobs=2,\n",
    "    objective_type=objective_type,\n",
    ")"
   ]
  },
  {
   "cell_type": "code",
   "execution_count": null,
   "id": "6987cd84-1d6c-4b22-98f2-24e8a1a4473c",
   "metadata": {},
   "outputs": [],
   "source": [
    "# TODO: Fit your HP Tuner\n",
    "tuner.fit(\n",
    "    inputs={\n",
    "        \"train\": input_train, \n",
    "        \"validation\": input_valid,\n",
    "    },\n",
    "    wait=True\n",
    ") # TODO: Remember to include your data channels"
   ]
  },
  {
   "cell_type": "code",
   "execution_count": null,
   "id": "21106fcd-59b7-4f94-92da-90ea016406b9",
   "metadata": {},
   "outputs": [],
   "source": [
    "tuner.best_training_job()"
   ]
  },
  {
   "cell_type": "code",
   "execution_count": null,
   "id": "8c43900a-907e-44c2-9d0a-b6ece3a0baa9",
   "metadata": {},
   "outputs": [],
   "source": [
    "# TODO: Get the best estimators and the best HPs\n",
    "best_estimator = tuner.best_estimator() #TODO\n",
    "\n",
    "#Get the hyperparameters of the best trained model\n",
    "best_estimator.hyperparameters()"
   ]
  },
  {
   "cell_type": "code",
   "execution_count": null,
   "id": "777706a1-5449-46aa-8b69-4ace05399d50",
   "metadata": {},
   "outputs": [],
   "source": [
    "hyperparameters = best_estimator.hyperparameters()\n",
    "\n",
    "hyperparameters"
   ]
  }
 ],
 "metadata": {
  "kernelspec": {
   "display_name": "py37",
   "language": "python",
   "name": "myenv"
  },
  "language_info": {
   "codemirror_mode": {
    "name": "ipython",
    "version": 3
   },
   "file_extension": ".py",
   "mimetype": "text/x-python",
   "name": "python",
   "nbconvert_exporter": "python",
   "pygments_lexer": "ipython3",
   "version": "3.7.11"
  }
 },
 "nbformat": 4,
 "nbformat_minor": 5
}
